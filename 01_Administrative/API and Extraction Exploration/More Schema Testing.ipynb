{
 "cells": [
  {
   "cell_type": "code",
   "execution_count": 1,
   "id": "126faadf",
   "metadata": {},
   "outputs": [],
   "source": [
    "import os\n",
    "import openai\n",
    " \n",
    "openai.api_key = os.environ[\"OPENAI_API_KEY\"]\n",
    "openai_api_key = os.getenv('OPENAI_API_KEY')"
   ]
  },
  {
   "cell_type": "code",
   "execution_count": 3,
   "id": "7b18a511",
   "metadata": {},
   "outputs": [],
   "source": [
    "#pip install pdf2image\n",
    "#pip install pytesseract\n",
    "#pip install langchain\n",
    "#pip install openai\n",
    "\n",
    "from langchain import OpenAI\n",
    "from langchain.chains.summarize import load_summarize_chain\n",
    "from langchain.text_splitter import RecursiveCharacterTextSplitter\n",
    "from langchain.prompts import PromptTemplate\n",
    "from langchain import LLMChain\n",
    "from langchain.chat_models import ChatOpenAI\n",
    "from langchain.chains import create_extraction_chain\n",
    "\n",
    "\n",
    "llm = OpenAI(openai_api_key=openai_api_key, temperature=0, model=\"gpt-3.5-turbo\")"
   ]
  },
  {
   "cell_type": "markdown",
   "id": "4c2c4960",
   "metadata": {},
   "source": [
    "#### Version openai==0.28.1, langchain==0.0.316 for use of schema. Upgrade to latest versions for chat completions below\n"
   ]
  },
  {
   "cell_type": "code",
   "execution_count": 4,
   "id": "c3b2aaf0",
   "metadata": {},
   "outputs": [
    {
     "data": {
      "text/plain": [
       "<Version('0.28.1')>"
      ]
     },
     "execution_count": 4,
     "metadata": {},
     "output_type": "execute_result"
    }
   ],
   "source": [
    "from packaging import version\n",
    "version.parse(openai.__version__)"
   ]
  },
  {
   "cell_type": "code",
   "execution_count": 5,
   "id": "cdb709f8",
   "metadata": {},
   "outputs": [],
   "source": [
    "# import openai\n",
    "# from packaging import version\n",
    "\n",
    "# required_version = version.parse(\"1.1.1\")\n",
    "# current_version = version.parse(openai.__version__)\n",
    "\n",
    "# if current_version < required_version:\n",
    "#     raise ValueError(f\"Error: OpenAI version {openai.__version__}\"\n",
    "#                      \" is less than the required version 1.1.1\")\n",
    "# else:\n",
    "#     print(\"OpenAI version is compatible.\")"
   ]
  },
  {
   "cell_type": "code",
   "execution_count": 6,
   "id": "cff1c3a5",
   "metadata": {},
   "outputs": [],
   "source": [
    "\n",
    "from pdf2image import convert_from_path\n",
    "\n",
    "def convert_pdf_to_images(pdf_path):\n",
    "    return convert_from_path(pdf_path)\n"
   ]
  },
  {
   "cell_type": "code",
   "execution_count": 7,
   "id": "64f4e35d",
   "metadata": {},
   "outputs": [],
   "source": [
    "import pytesseract\n",
    "from PIL import Image\n",
    "\n",
    "def extract_text_from_images(images):\n",
    "    extracted_text = ''\n",
    "    for image in images:\n",
    "        text = pytesseract.image_to_string(image)\n",
    "        extracted_text += text\n",
    "    return extracted_text\n"
   ]
  },
  {
   "cell_type": "code",
   "execution_count": 8,
   "id": "b98e3bc1",
   "metadata": {},
   "outputs": [],
   "source": [
    "path = \"GroundTruthDocuments/RK73H.pdf\"\n",
    "image = convert_pdf_to_images(path)\n",
    "text1 = extract_text_from_images(image)\n",
    "\n",
    "path = \"GroundTruthDocuments/151002387394-1222329.pdf\"\n",
    "image = convert_pdf_to_images(path)\n",
    "text2 = extract_text_from_images(image)\n",
    "\n",
    "path = \"GroundTruthDocuments/KGM15CR51E106K-DATA.pdf\"\n",
    "image = convert_pdf_to_images(path)\n",
    "text3 = extract_text_from_images(image)"
   ]
  },
  {
   "cell_type": "markdown",
   "id": "126b5a20",
   "metadata": {},
   "source": [
    "# Extration using a schema "
   ]
  },
  {
   "cell_type": "code",
   "execution_count": 9,
   "id": "56125364",
   "metadata": {},
   "outputs": [],
   "source": [
    "schema_capacitors = {\n",
    "\"properties\": {\n",
    "\n",
    "\"Capacitance\": {\"type\": \"string\"},\n",
    "\"Capacitance Unit\": {\"type\": \"string\"},\n",
    "\"Voltage (V)\": {\"type\": \"string\"},\n",
    "\"Tolerance\": {\"type\": \"string\"},\n",
    "\"Dielectric Type\": {\"type\": \"string\"},\n",
    "\"Package Style\": {\"type\": \"string\"},\n",
    "\"SM Package Size (EIA)\": {\"type\": \"string\"},\n",
    "\"Size\": {\"type\": \"string\"},\n",
    "\"Diameter\": {\"type\": \"string\"},\n",
    "\"Diameter Units\": {\"type\": \"string\"},\n",
    "\"Axial Length\": {\"type\": \"string\"},\n",
    "\"Axial Length Units\": {\"type\": \"string\"},\n",
    "\"Radial Lead Spacing\": {\"type\": \"string\"},\n",
    "\"Radial Lead Spacing Units\": {\"type\": \"string\"},\n",
    "\"Max Height\": {\"type\": \"string\"},\n",
    "\"Max Height Units\": {\"type\": \"string\"},\n",
    "\"ESR\": {\"type\": \"string\"},\n",
    "\"ESR Units\": {\"type\": \"string\"},\n",
    "\"RF-Frequency Min\": {\"type\": \"string\"},\n",
    "\"RF-Frequency Max\": {\"type\": \"string\"},\n",
    "\"RF-Frequency Units\": {\"type\": \"string\"},\n",
    "\"Life (hrs @ temp)\": {\"type\": \"string\"},\n",
    "\"Op Temp Max (C)\": {\"type\": \"string\"},\n",
    "\"Op Temp Min (C)\": {\"type\": \"string\"},\n",
    "\"Recommended CCAP\": {\"type\": \"string\"}\n",
    "}}\n",
    "\n",
    "llm = ChatOpenAI(temperature=0, model=\"gpt-4-1106-preview\",openai_api_key=openai_api_key)\n",
    "capacacitors_chain = create_extraction_chain(schema_capacitors, llm)"
   ]
  },
  {
   "cell_type": "code",
   "execution_count": 10,
   "id": "2e8a62aa",
   "metadata": {},
   "outputs": [],
   "source": [
    "schema_resistors = {\n",
    "\"properties\": {\n",
    "\n",
    "\"Composition\": {\"type\": \"string\"},\n",
    "\"Resistance\": {\"type\": \"string\"},\n",
    "\"Resistance Units\": {\"type\": \"string\"},\n",
    "\"Power Rating (W)\": {\"type\": \"string\"},\n",
    "\"Tolerance (%)\": {\"type\": \"string\"},\n",
    "\"Package Style\": {\"type\": \"string\"},\n",
    "\"SM Package Size (EIA)\": {\"type\": \"string\"},\n",
    "\"Size\": {\"type\": \"string\"},\n",
    "\"Axial Length\": {\"type\": \"string\"},\n",
    "\"Axial Length Units\": {\"type\": \"string\"},\n",
    "\"Radial Lead Spacing\": {\"type\": \"string\"},\n",
    "\"Radial Lead Spacing Units\": {\"type\": \"string\"},\n",
    "\"Diameter\": {\"type\": \"string\"},\n",
    "\"Diameter Units\": {\"type\": \"string\"},\n",
    "\"Max Height\": {\"type\": \"string\"},\n",
    "\"Max Height Units\": {\"type\": \"string\"},\n",
    "\"Temp Coefficient (ppm)\": {\"type\": \"string\"},\n",
    "\"Parasitic Inductance Max\": {\"type\": \"string\"},\n",
    "\"Parasitic Inductance Max Units\": {\"type\": \"string\"},\n",
    "\"Recommended CCAP\": {\"type\": \"string\"}\n",
    "}}\n",
    "\n",
    "llm = ChatOpenAI(temperature=0, model=\"gpt-4-1106-preview\",openai_api_key=openai_api_key)\n",
    "resistors_chain = create_extraction_chain(schema_resistors, llm)"
   ]
  },
  {
   "cell_type": "markdown",
   "id": "7f15aef4",
   "metadata": {},
   "source": [
    "### Capacitors"
   ]
  },
  {
   "cell_type": "code",
   "execution_count": 11,
   "id": "4fd2d049",
   "metadata": {
    "scrolled": true
   },
   "outputs": [
    {
     "data": {
      "text/plain": [
       "[{'Op Temp Max (C)': '105',\n",
       "  'Op Temp Min (C)': '-55',\n",
       "  'Tolerance': '+20%',\n",
       "  'Life (hrs @ temp)': '2,000 ~ 5,000 hours at 105°C'}]"
      ]
     },
     "execution_count": 11,
     "metadata": {},
     "output_type": "execute_result"
    }
   ],
   "source": [
    "capacacitors_chain.run(text2)\n"
   ]
  },
  {
   "cell_type": "code",
   "execution_count": 12,
   "id": "f0e5fc19",
   "metadata": {},
   "outputs": [
    {
     "data": {
      "text/plain": [
       "[{'Capacitance': '10uF',\n",
       "  'Capacitance Unit': 'uF',\n",
       "  'Voltage (V)': '25',\n",
       "  'Tolerance': '+/-10%',\n",
       "  'Op Temp Max (C)': '85',\n",
       "  'Op Temp Min (C)': '-55',\n",
       "  'SM Package Size (EIA)': '0603'}]"
      ]
     },
     "execution_count": 12,
     "metadata": {},
     "output_type": "execute_result"
    }
   ],
   "source": [
    "capacacitors_chain.run(text3)\n"
   ]
  },
  {
   "cell_type": "markdown",
   "id": "5f4e7346",
   "metadata": {},
   "source": [
    "### Resistors"
   ]
  },
  {
   "cell_type": "code",
   "execution_count": 13,
   "id": "72c78765",
   "metadata": {
    "scrolled": true
   },
   "outputs": [
    {
     "data": {
      "text/plain": [
       "[{'Tolerance (%)': '0.5',\n",
       "  'Power Rating (W)': '0.03 to 4.0',\n",
       "  'Resistance': '1 ohm to 10 megaohms',\n",
       "  'Package Style': 'thick film chip resistor',\n",
       "  'SM Package Size (EIA)': '0201, 0402, 0603, 0805, 1206, 1210, 2010, 2512'}]"
      ]
     },
     "execution_count": 13,
     "metadata": {},
     "output_type": "execute_result"
    }
   ],
   "source": [
    "resistors_chain.run(text1)"
   ]
  },
  {
   "cell_type": "markdown",
   "id": "850a8bde",
   "metadata": {},
   "source": [
    "# Extraction using JSON output"
   ]
  },
  {
   "cell_type": "code",
   "execution_count": 18,
   "id": "ed10a535",
   "metadata": {},
   "outputs": [],
   "source": [
    "capacitor_attributes = [\"Capacitance\", \"Capacitance Unit\", \"Voltage (V)\", \"Tolerance\", \"Dielectric Type\", \"Package Style\", \"SM Package Size (EIA)\", \"Size\", \"Diameter\", \"Diameter Units\", \"Axial Length\", \"Axial Length Units\", \"Radial Lead Spacing\", \"Radial Lead Spacing Units\", \"Max Height\", \"Max Height Units\", \"ESR\", \"ESR Units\", \"RF-Frequency Min\", \"RF-Frequency Max\", \"RF-Frequency Units\", \"Life (hrs @ temp)\", \"Op Temp Max (C)\", \"Op Temp Min (C)\", \"Recommended CCAP\"]\n",
    "resistor_attributes = [\"Composition\", \"Resistance\", \"Resistance Units\", \"Power Rating (W)\", \"Tolerance (%)\", \"Package Style\", \"SM Package Size (EIA)\", \"Size\", \"Axial Length\", \"Axial Length Units\", \"Radial Lead Spacing\", \"Radial Lead Spacing Units\", \"Diameter\", \"Diameter Units\", \"Max Height\", \"Max Height Units\", \"Temp Coefficient (ppm)\", \"Parasitic Inductance Max\", \"Parasitic Inductance Max Units\", \"Recommended CCAP\"]\n"
   ]
  },
  {
   "cell_type": "code",
   "execution_count": 19,
   "id": "89a36059",
   "metadata": {},
   "outputs": [],
   "source": [
    "def extract_attributes(document, attributes):\n",
    "    try:\n",
    "        completion = openai.chat.completions.create(\n",
    "            model=\"gpt-4-1106-preview\",\n",
    "            messages=[\n",
    "                {\n",
    "                    \"role\": \"user\",\n",
    "                    \"content\": f\"Extract the following attributes:\\n{attributes}\\n from the text:\\n{document}\\n Output should be in JSON format.\",\n",
    "                },\n",
    "            ],\n",
    "            response_format = { \"type\": \"json_object\" }\n",
    "        )\n",
    "        return completion.choices[0].message.content\n",
    "    except Exception as e:\n",
    "        return str(e)"
   ]
  },
  {
   "cell_type": "code",
   "execution_count": 20,
   "id": "712bce40",
   "metadata": {
    "scrolled": true
   },
   "outputs": [
    {
     "name": "stdout",
     "output_type": "stream",
     "text": [
      "{\n",
      "  \"Composition\": \"Thick film\",\n",
      "  \"Resistance\": \"1Ω - 10MΩ\",\n",
      "  \"Resistance Units\": \"Ohms\",\n",
      "  \"Power Rating (W)\": {\n",
      "    \"0201 size\": \"0.03W\",\n",
      "    \"0402 size\": \"0.1W\",\n",
      "    \"0603 size\": \"0.1W\",\n",
      "    \"0805 size\": \"0.125W\",\n",
      "    \"1206 size\": \"0.25W\",\n",
      "    \"2010 size\": \"0.75W\",\n",
      "    \"2512 size\": \"1.0W - 4.0W\"\n",
      "  },\n",
      "  \"Tolerance (%)\": \"±0.5%, ±1%\",\n",
      "  \"Package Style\": \"Thick film chip resistor\",\n",
      "  \"SM Package Size (EIA)\": [\"0201\", \"0402\", \"0603\", \"0805\", \"1206\", \"2010\", \"2512\"],\n",
      "  \"Size\": {\n",
      "    \"01005\": \"0.016x0.008 inches\",\n",
      "    \"0201\": \"0.024x0.012 inches\",\n",
      "    \"0402\": \"0.04x0.02 inches\",\n",
      "    \"0603\": \"0.063x0.031 inches\",\n",
      "    \"0805\": \"0.079x0.049 inches\",\n",
      "    \"1206\": \"0.126x0.063 inches\",\n",
      "    \"2010\": \"0.198x0.098 inches\",\n",
      "    \"2512\": \"0.252x0.126 inches\"\n",
      "  },\n",
      "  \"Axial Length\": \"n/a\",\n",
      "  \"Axial Length Units\": \"n/a\",\n",
      "  \"Radial Lead Spacing\": \"n/a\",\n",
      "  \"Radial Lead Spacing Units\": \"n/a\",\n",
      "  \"Diameter\": \"n/a\",\n",
      "  \"Diameter Units\": \"n/a\",\n",
      "  \"Max Height\": {\n",
      "    \"01005\": \".005 inches\",\n",
      "    \"0201\": \".009 inches\",\n",
      "    \"0402\": \"0.022 inches\",\n",
      "    \"0603\": \"0.018 inches\",\n",
      "    \"0805\": \"0.022 inches\",\n",
      "    \"1206\": \"0.022 inches\",\n",
      "    \"2010\": \"0.026 inches\",\n",
      "    \"2512\": \"0.026 inches\"\n",
      "  },\n",
      "  \"Max Height Units\": \"inches\",\n",
      "  \"Temp Coefficient (ppm)\": {\n",
      "    \"1F\": \"±100ppm/°C\",\n",
      "    \"1H\": \"±100ppm/°C\",\n",
      "    \"1E\": \"±100ppm/°C\",\n",
      "    \"1J\": \"±200ppm/°C\",\n",
      "    \"2A\": \"±200ppm/°C\",\n",
      "    \"2B\": \"±200ppm/°C\",\n",
      "    \"2E\": \"n/a\",\n",
      "    \"W2H\": \"±200ppm/°C\",\n",
      "    \"W3A\": \"±200ppm/°C\",\n",
      "    \"W3A2\": \"±200ppm/°C\"\n",
      "  },\n",
      "  \"Parasitic Inductance Max\": \"n/a\",\n",
      "  \"Parasitic Inductance Max Units\": \"n/a\",\n",
      "  \"Recommended CCAP\": \"Please refer to 'Introduction of the derating curves based on the terminal part temperature' in the beginning of our catalog\"\n",
      "}\n"
     ]
    }
   ],
   "source": [
    "print(extract_attributes(text1,resistor_attributes))"
   ]
  },
  {
   "cell_type": "code",
   "execution_count": 21,
   "id": "d20fe2ff",
   "metadata": {},
   "outputs": [
    {
     "name": "stdout",
     "output_type": "stream",
     "text": [
      "{\n",
      "  \"Capacitance\": \"Values not explicitly provided in the provided text\",\n",
      "  \"Capacitance Unit\": \"uF (microfarads)\",\n",
      "  \"Voltage (V)\": {\n",
      "    \"Rated Voltage Range\": \"6.3V to 100V\"\n",
      "  },\n",
      "  \"Tolerance\": \"+20%\",\n",
      "  \"Dielectric Type\": \"Aluminum Electrolytic\",\n",
      "  \"Package Style\": \"SMD (Surface Mount Device)\",\n",
      "  \"SM Package Size (EIA)\": \"Not explicitly provided in the provided text\",\n",
      "  \"Size\": {\n",
      "    \"Diameter\": \"From 4mm to 18mm or more\",\n",
      "    \"Length\": \"From 5.7mm to 21.5mm or more\"\n",
      "  },\n",
      "  \"Diameter\": \"Values ranging from 4mm to 18mm\",\n",
      "  \"Diameter Units\": \"mm (millimeters)\",\n",
      "  \"Axial Length\": \"Values ranging from 5.7mm to 21.5mm\",\n",
      "  \"Axial Length Units\": \"mm (millimeters)\",\n",
      "  \"Radial Lead Spacing\": \"Data provided is for 'Lead Spacing and Diameter'\",\n",
      "  \"Radial Lead Spacing Units\": \"mm (millimeters)\",\n",
      "  \"Max Height\": \"Values provided as part of the 'Size' attribute\",\n",
      "  \"Max Height Units\": \"mm (millimeters)\",\n",
      "  \"ESR\": \"Not explicitly provided in the provided text\",\n",
      "  \"ESR Units\": \"Ω (ohms)\",\n",
      "  \"RF-Frequency Min\": \"50Hz\",\n",
      "  \"RF-Frequency Max\": \"100kHz\",\n",
      "  \"RF-Frequency Units\": \"Hz (Hertz)\",\n",
      "  \"Life (hrs @ temp)\": {\n",
      "    \"2000 hrs @ 105°C\": \"Diameter = 6.3mm & 8x6.5L & 10x6.7L\",\n",
      "    \"5000 hrs @ 105°C\": \"Diameter = 8mm\"\n",
      "  },\n",
      "  \"Op Temp Max (C)\": \"+105°C\",\n",
      "  \"Op Temp Min (C)\": \"-55°C\",\n",
      "  \"Recommended CCAP\": \"Not explicitly provided in the provided text\"\n",
      "}\n",
      "\n",
      " \n",
      "\n",
      " \n",
      "\n",
      " \n",
      "\n",
      " \n",
      "\n",
      " \n",
      "\n",
      " \n",
      "\n",
      " \n",
      "\n",
      " \n",
      "\n",
      " \n",
      "\n",
      " \n",
      "\n",
      " \n",
      "\n",
      " \n",
      "\n",
      " \n",
      "\n",
      " \n",
      "\n",
      " \n",
      "\n",
      " \n",
      "\n",
      " \n",
      "\n",
      " \n",
      "\n",
      " \n",
      "\n",
      " \n",
      "\n",
      " \n",
      "\n",
      " \n",
      "\n",
      " \n",
      "\n",
      " \n",
      "\n",
      " \n",
      "\n",
      " \n",
      "\n",
      " \n",
      "\n",
      " \n",
      "\n",
      " \n",
      "\n",
      " \n",
      "\n",
      " \n",
      "\n",
      " \n",
      "\n",
      " \n",
      "\n",
      " \n",
      "\n",
      " \n",
      "\n",
      " \n",
      "\n",
      " \n",
      "\n",
      " \n",
      "\n",
      " \n",
      "\n",
      " \n",
      "\n",
      " \n",
      "\n",
      " \n",
      "\n",
      " \n",
      "\n",
      " \n",
      "\n",
      " \n",
      "\n",
      " \n",
      "\n",
      " \n",
      "\n",
      " \n",
      "\n",
      " \n",
      "\n",
      " \n",
      "\n",
      " \n",
      "\n",
      " \n",
      "\n",
      " \n",
      "\n",
      " \n",
      "\n",
      " \n",
      "\n",
      " \n",
      "\n",
      " \n",
      "\n",
      " \n",
      "\n",
      " \n",
      "\n",
      " \n",
      "\n",
      " \n",
      "\n",
      " \n",
      "\n",
      " \n",
      "\n",
      " \n",
      "\n",
      " \n",
      "\n",
      " \n",
      "\n",
      " \n"
     ]
    }
   ],
   "source": [
    "print(extract_attributes(text2,capacitor_attributes))"
   ]
  },
  {
   "cell_type": "code",
   "execution_count": 22,
   "id": "406d1bc5",
   "metadata": {},
   "outputs": [
    {
     "name": "stdout",
     "output_type": "stream",
     "text": [
      "{\n",
      "  \"Capacitance\": \"10uF\",\n",
      "  \"Capacitance Unit\": \"uF\",\n",
      "  \"Voltage (V)\": \"25Vdc\",\n",
      "  \"Tolerance\": \"+/-10%\",\n",
      "  \"Dielectric Type\": \"Not explicitly stated\",\n",
      "  \"Package Style\": \"Not explicitly stated\",\n",
      "  \"SM Package Size (EIA)\": \"0603\",\n",
      "  \"Size\": \"Not explicitly stated\",\n",
      "  \"Diameter\": \"Not explicitly stated\",\n",
      "  \"Diameter Units\": \"Not explicitly stated\",\n",
      "  \"Axial Length\": \"Not explicitly stated\",\n",
      "  \"Axial Length Units\": \"Not explicitly stated\",\n",
      "  \"Radial Lead Spacing\": \"Not explicitly stated\",\n",
      "  \"Radial Lead Spacing Units\": \"Not explicitly stated\",\n",
      "  \"Max Height\": \"Not explicitly stated\",\n",
      "  \"Max Height Units\": \"Not explicitly stated\",\n",
      "  \"ESR\": \"Not explicitly stated\",\n",
      "  \"ESR Units\": \"Not explicitly stated\",\n",
      "  \"RF-Frequency Min\": \"Not explicitly stated\",\n",
      "  \"RF-Frequency Max\": \"Not explicitly stated\",\n",
      "  \"RF-Frequency Units\": \"MHz - Not stated but inferred from context\",\n",
      "  \"Life (hrs @ temp)\": \"Not explicitly stated\",\n",
      "  \"Op Temp Max (C)\": \"85\",\n",
      "  \"Op Temp Min (C)\": \"-55\",\n",
      "  \"Recommended CCAP\": \"Not explicitly stated\"\n",
      "}\n",
      "\n",
      " \n"
     ]
    }
   ],
   "source": [
    "print(extract_attributes(text3,capacitor_attributes))"
   ]
  },
  {
   "cell_type": "code",
   "execution_count": null,
   "id": "c9ace508",
   "metadata": {},
   "outputs": [],
   "source": []
  }
 ],
 "metadata": {
  "kernelspec": {
   "display_name": "Python 3 (ipykernel)",
   "language": "python",
   "name": "python3"
  },
  "language_info": {
   "codemirror_mode": {
    "name": "ipython",
    "version": 3
   },
   "file_extension": ".py",
   "mimetype": "text/x-python",
   "name": "python",
   "nbconvert_exporter": "python",
   "pygments_lexer": "ipython3",
   "version": "3.9.13"
  }
 },
 "nbformat": 4,
 "nbformat_minor": 5
}
