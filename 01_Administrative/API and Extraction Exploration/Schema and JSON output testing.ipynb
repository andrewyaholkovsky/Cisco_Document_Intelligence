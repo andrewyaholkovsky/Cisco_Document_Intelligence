{
 "cells": [
  {
   "cell_type": "code",
   "execution_count": 2,
   "id": "8c7f90e0",
   "metadata": {},
   "outputs": [],
   "source": [
    "import os\n",
    "import openai\n",
    " \n",
    "openai.api_key = os.environ[\"OPENAI_API_KEY\"]\n",
    "openai_api_key = os.getenv('OPENAI_API_KEY')"
   ]
  },
  {
   "cell_type": "code",
   "execution_count": 3,
   "id": "c673c713",
   "metadata": {},
   "outputs": [],
   "source": [
    "#pip install pdf2image\n",
    "#pip install pytesseract\n",
    "#pip install langchain\n",
    "#pip install openai\n",
    "\n",
    "from langchain import OpenAI\n",
    "from langchain.chains.summarize import load_summarize_chain\n",
    "from langchain.text_splitter import RecursiveCharacterTextSplitter\n",
    "from langchain.prompts import PromptTemplate\n",
    "from langchain import LLMChain\n",
    "from langchain.chat_models import ChatOpenAI\n",
    "from langchain.chains import create_extraction_chain\n",
    "\n",
    "\n",
    "llm = OpenAI(openai_api_key=openai_api_key, temperature=0, model=\"gpt-3.5-turbo\")"
   ]
  },
  {
   "cell_type": "markdown",
   "id": "d2015288",
   "metadata": {},
   "source": [
    "# PDF to Text "
   ]
  },
  {
   "cell_type": "code",
   "execution_count": 4,
   "id": "7cb33d20",
   "metadata": {},
   "outputs": [],
   "source": [
    "\n",
    "from pdf2image import convert_from_path\n",
    "\n",
    "def convert_pdf_to_images(pdf_path):\n",
    "    return convert_from_path(pdf_path)\n"
   ]
  },
  {
   "cell_type": "code",
   "execution_count": 5,
   "id": "336f0cae",
   "metadata": {},
   "outputs": [],
   "source": [
    "import pytesseract\n",
    "from PIL import Image\n",
    "\n",
    "def extract_text_from_images(images):\n",
    "    extracted_text = ''\n",
    "    for image in images:\n",
    "        text = pytesseract.image_to_string(image)\n",
    "        extracted_text += text\n",
    "    return extracted_text\n"
   ]
  },
  {
   "cell_type": "code",
   "execution_count": 6,
   "id": "9a4de605",
   "metadata": {},
   "outputs": [],
   "source": [
    "path = \"Vivi7/gs-12-1565.pdf\"\n",
    "image = convert_pdf_to_images(path)\n",
    "text1 = extract_text_from_images(image)\n",
    "\n",
    "path = \"Vivi7/gs-12-1457.pdf\"\n",
    "image = convert_pdf_to_images(path)\n",
    "text2 = extract_text_from_images(image)\n",
    "\n",
    "path = \"Vivi7/ssio_mini_cooledge_0_60mm.pdf\"\n",
    "image = convert_pdf_to_images(path)\n",
    "text3 = extract_text_from_images(image)\n",
    "\n",
    "path = \"Vivi7/2031430001-PS.pdf\"\n",
    "image = convert_pdf_to_images(path)\n",
    "text4 = extract_text_from_images(image)\n",
    "\n",
    "path = \"Vivi7/vzh680m2atr-1313s.pdf\"\n",
    "image = convert_pdf_to_images(path)\n",
    "text5 = extract_text_from_images(image)\n",
    "\n",
    "path = \"Vivi7/KGM15CR51E106K-DATA.pdf\"\n",
    "image = convert_pdf_to_images(path)\n",
    "text6 = extract_text_from_images(image)\n",
    "\n",
    "# path = \"Vivi7/gs-12-1565.pdf\"\n",
    "# image = convert_pdf_to_images(path)\n",
    "# text7 = extract_text_from_images(image)"
   ]
  },
  {
   "cell_type": "markdown",
   "id": "82d178e5",
   "metadata": {},
   "source": [
    "# Testing with Schema"
   ]
  },
  {
   "cell_type": "markdown",
   "id": "5eadc1b1",
   "metadata": {},
   "source": [
    "### Defining schema and chain"
   ]
  },
  {
   "cell_type": "code",
   "execution_count": 22,
   "id": "2cdcf1c2",
   "metadata": {},
   "outputs": [],
   "source": [
    "schema = {\n",
    "    \"properties\": {\n",
    "        \"ProductType\": {\"type\": \"string\"},\n",
    "        \"SupplierName\": {\"type\": \"string\"},\n",
    "        \"ProductName\": {\"type\": \"string\"},\n",
    "        \"Dimensions\": {\"type\": \"string\"},\n",
    "        \"Orientation\": {\"type\": \"string\"},\n",
    "        \"Voltage\": {\"type\": \"string\"},\n",
    "        \"Frequency\": {\"type\": \"string\"},\n",
    "        \"Impedence/Capacitance\": {\"type\": \"string\"},\n",
    "        \"Temperature\": {\"type\": \"string\"},\n",
    "        \"Temperature_extra_info\": {\"type\": \"string\"}\n",
    "\n",
    "    },\n",
    "}\n",
    "\n",
    "llm = ChatOpenAI(temperature=0, model=\"gpt-3.5-turbo-16k\",openai_api_key=openai_api_key)\n",
    "chain = create_extraction_chain(schema, llm)"
   ]
  },
  {
   "cell_type": "code",
   "execution_count": 24,
   "id": "cc7b6f2b",
   "metadata": {},
   "outputs": [
    {
     "data": {
      "text/plain": [
       "{'ProductType': 'Connector System',\n",
       " 'SupplierName': 'Amphenol ICC',\n",
       " 'ProductName': 'EXAMAX2™ and EXAMEZZ2™',\n",
       " 'Dimensions': '',\n",
       " 'Orientation': '',\n",
       " 'Voltage': '< 30 VAC RMS / DC',\n",
       " 'Frequency': '',\n",
       " 'Impedence/Capacitance': '',\n",
       " 'Temperature': '-55 to 85 °C',\n",
       " 'Temperature_extra_info': ''}"
      ]
     },
     "execution_count": 24,
     "metadata": {},
     "output_type": "execute_result"
    }
   ],
   "source": [
    "chain.run(text1)"
   ]
  },
  {
   "cell_type": "code",
   "execution_count": 25,
   "id": "7577e48a",
   "metadata": {},
   "outputs": [
    {
     "data": {
      "text/plain": [
       "{'ProductType': 'ENHANCED HIGH POWER CARD EDGE (eHPCE)',\n",
       " 'SupplierName': 'Amphenol ICC',\n",
       " 'ProductName': 'RIGHT ANGLE CONNECTOR',\n",
       " 'Dimensions': '',\n",
       " 'Orientation': '',\n",
       " 'Voltage': '300Vpc for power contact, 100Vpc for signal contact',\n",
       " 'Frequency': '',\n",
       " 'Impedence/Capacitance': '',\n",
       " 'Temperature': '-55°C ~ +140°C',\n",
       " 'Temperature_extra_info': 'includes the terminal temperature rise when powered'}"
      ]
     },
     "execution_count": 25,
     "metadata": {},
     "output_type": "execute_result"
    }
   ],
   "source": [
    "chain.run(text2)"
   ]
  },
  {
   "cell_type": "code",
   "execution_count": 26,
   "id": "5267a5ac",
   "metadata": {},
   "outputs": [
    {
     "data": {
      "text/plain": [
       "{'ProductType': 'Mini Cool Edge 0.60mm Connectors',\n",
       " 'SupplierName': 'Amphenol',\n",
       " 'ProductName': 'Mini Cool Edge',\n",
       " 'Dimensions': '0.60mm',\n",
       " 'Orientation': 'Vertical, right angle, straddle mount and orthogonal',\n",
       " 'Voltage': '',\n",
       " 'Frequency': '32GT/s to 56GT/s, T12GT/s PAM4, 224GT/s PAM4',\n",
       " 'Impedence/Capacitance': '',\n",
       " 'Temperature': '',\n",
       " 'Temperature_extra_info': ''}"
      ]
     },
     "execution_count": 26,
     "metadata": {},
     "output_type": "execute_result"
    }
   ],
   "source": [
    "chain.run(text3)"
   ]
  },
  {
   "cell_type": "code",
   "execution_count": 23,
   "id": "b0ce8728",
   "metadata": {},
   "outputs": [
    {
     "data": {
      "text/plain": [
       "{'ProductType': 'QSFP-DD',\n",
       " 'SupplierName': 'molex',\n",
       " 'ProductName': 'QSFP-DD',\n",
       " 'Dimensions': '1x1, 1x2, 1x3, 1x4, 1x5, 1x6',\n",
       " 'Orientation': '',\n",
       " 'Voltage': '120 Volts AC',\n",
       " 'Frequency': '',\n",
       " 'Impedence/Capacitance': '',\n",
       " 'Temperature': 'Operating: -40°C to +85°C, Non-operating: -55°C to +105°C',\n",
       " 'Temperature_extra_info': ''}"
      ]
     },
     "execution_count": 23,
     "metadata": {},
     "output_type": "execute_result"
    }
   ],
   "source": [
    "chain.run(text4)"
   ]
  },
  {
   "cell_type": "code",
   "execution_count": 14,
   "id": "6a7b08f4",
   "metadata": {},
   "outputs": [
    {
     "data": {
      "text/plain": [
       "{'Product Type': 'Aluminum Electrolytic Capacitor',\n",
       " 'Supplier Name': 'LELON ELECTRONICS CORP.',\n",
       " 'Product Name': 'VZH680M2ATR-1313S',\n",
       " 'Dimensions': '12.5mm x 13.5mm',\n",
       " 'Orientation': 'Vertical',\n",
       " 'Voltage': '100 V',\n",
       " 'Frequency': '120 Hz',\n",
       " 'Impedence/Capacitance': '68 uF',\n",
       " 'Temperature': '-55°C ~ +105°C',\n",
       " 'Temperature_extra_info': 'Capacitance Tolerance -20% ~ +20% (120 Hz, 20°C), Surge Voltage 125 VDC, Leakage Current < 68yA After 2 minutes, Dissipation Factor (Tand) < 0.07 (120 Hz, 20°C), Impedance < 0.320 (100kHz, 20°C), Ripple Current (rms) 450 mA (100kHz, 105°C), Low Temperature Z(-25°C /Z(+20°C ) 2, Characteristics(120 Hz) Z(-55°C /Z(+20°C ) 3, Ripple Current & Frequency (Hz)} 50, 60 120 1k 10k up, Frequency Multipliers Multiplier 0.60 0.70 0.85 1.00, Endurance: Capacitance Change Within +30 % of initial value After 5000 Hrs at 105°C, Dissipation factor Less than 300% of specified value After 1000 Hrs at 105°C, Leakage Current Within specified value After 1000 Hrs at 105°C, Standards JIS C 5101-1, -18, Remarks RoHS Compliance & Halogen-free'}"
      ]
     },
     "execution_count": 14,
     "metadata": {},
     "output_type": "execute_result"
    }
   ],
   "source": [
    "chain.run(text5)"
   ]
  },
  {
   "cell_type": "code",
   "execution_count": 15,
   "id": "143304de",
   "metadata": {},
   "outputs": [
    {
     "data": {
      "text/plain": [
       "{'Product Type': 'Capacitor',\n",
       " 'Supplier Name': 'KYOCERA',\n",
       " 'Product Name': '',\n",
       " 'Dimensions': '1608(JIS) / 0603(EIA) L ~ w',\n",
       " 'Orientation': '',\n",
       " 'Voltage': '25Vdc',\n",
       " 'Frequency': '10, 20, 0, 0, 1, -20, -40, -60, -80, -100, 0.01, 0.1, 1, 10, 100, 1000',\n",
       " 'Impedence/Capacitance': '10uF',\n",
       " 'Temperature': '-55deg to85deg',\n",
       " 'Temperature_extra_info': 'Temp. coeff +/-15%, -60, -80, -100, 0.001, 0.01, 0.1, 1'}"
      ]
     },
     "execution_count": 15,
     "metadata": {},
     "output_type": "execute_result"
    }
   ],
   "source": [
    "chain.run(text6)"
   ]
  },
  {
   "cell_type": "markdown",
   "id": "b91c3e7d",
   "metadata": {},
   "source": [
    "# Testing with non Schema (with JSON output)"
   ]
  },
  {
   "cell_type": "code",
   "execution_count": 35,
   "id": "0782dfe1",
   "metadata": {},
   "outputs": [],
   "source": [
    "def extract_attributes(document, attributes):\n",
    "    try:\n",
    "        completion = openai.chat.completions.create(\n",
    "            model=\"gpt-3.5-turbo-1106\",\n",
    "            messages=[\n",
    "                {\n",
    "                    \"role\": \"user\",\n",
    "                    \"content\": f\"Extract the following attributes:\\n{attributes}\\n from the text:\\n{document}\\n Output should be in JSON format.\",\n",
    "                },\n",
    "            ],\n",
    "            response_format = { \"type\": \"json_object\" }\n",
    "        )\n",
    "        return completion.choices[0].message.content\n",
    "    except Exception as e:\n",
    "        return str(e)\n",
    "\n"
   ]
  },
  {
   "cell_type": "code",
   "execution_count": 36,
   "id": "8a9bd958",
   "metadata": {},
   "outputs": [],
   "source": [
    "attributes = [\"ProductType\", \"SupplierName\", \"ProductName\", \"Dimensions\" , \"Orientation\", \"Voltage\", \"Frequency\", \"Impedence/Capacitance\", \"Temperature\", \"Temperature_extra_info\"]\n"
   ]
  },
  {
   "cell_type": "code",
   "execution_count": 38,
   "id": "f4a2d5e7",
   "metadata": {},
   "outputs": [
    {
     "name": "stdout",
     "output_type": "stream",
     "text": [
      "{\n",
      "  \"ProductType\": \"Connector System\",\n",
      "  \"SupplierName\": \"Amphenol ICC\",\n",
      "  \"ProductName\": \"EXAMAX2™ and EXAMEZZ2™\",\n",
      "  \"Dimensions\": \"N/A\",\n",
      "  \"Orientation\": \"Various including Right Angle, Vertical, Orthogonal\",\n",
      "  \"Voltage\": \"< 30 VAC RMS / DC, = 150 Vac RMS or Voc Maximum\",\n",
      "  \"Frequency\": \"N/A\",\n",
      "  \"Impedence/Capacitance\": \"Low level contact resistance for different configurations and pair sizes specified in section 6.1\",\n",
      "  \"Temperature\": \"-55 to 85 °C\",\n",
      "  \"Temperature_extra_info\": \"Thermal shock testing at -55 and +85 deg C for 30 minutes, Humidity cyclic temperature exposure, High Temperature Life testing at 85 deg C for 500 hours, Mixed Flowing Gas corrosion testing for 20 days, Salt Spray testing for 48 hours, Vibration Sinusoidal testing, Mechanical Shock testing, Durability testing for 100 mating cycles, Dust exposure testing, Disturb testing at approximate 0.10mm reseat\"\n",
      "}\n"
     ]
    }
   ],
   "source": [
    "print(extract_attributes(text1,attributes))"
   ]
  },
  {
   "cell_type": "code",
   "execution_count": 39,
   "id": "9cd0a392",
   "metadata": {},
   "outputs": [
    {
     "name": "stdout",
     "output_type": "stream",
     "text": [
      "{\n",
      "  \"ProductType\": \"Connector System\",\n",
      "  \"SupplierName\": \"Amphenol ICC\",\n",
      "  \"ProductName\": \"ENHANCED HIGH POWER CARD EDGE (eHPCE)\",\n",
      "  \"Dimensions\": \"Not specified\",\n",
      "  \"Orientation\": \"Right Angle\",\n",
      "  \"Voltage\": \"300Vpc for power contact, 100Vpc for signal contact\",\n",
      "  \"Frequency\": \"Not specified\",\n",
      "  \"Impedence/Capacitance\": \"Not specified\",\n",
      "  \"Temperature\": \"-55°C ~ +140°C\",\n",
      "  \"Temperature_extra_info\": \"Includes the terminal temperature rise when powered\"\n",
      "}\n"
     ]
    }
   ],
   "source": [
    "print(extract_attributes(text2,attributes))"
   ]
  },
  {
   "cell_type": "code",
   "execution_count": 40,
   "id": "901840f6",
   "metadata": {},
   "outputs": [
    {
     "name": "stdout",
     "output_type": "stream",
     "text": [
      "{\n",
      "  \"ProductType\": \"Connectors\",\n",
      "  \"SupplierName\": \"Amphenol\",\n",
      "  \"ProductName\": \"Mini Cool Edge 0.60mm Connectors\",\n",
      "  \"Dimensions\": \"0.60mm\",\n",
      "  \"Orientation\": \"Vertical, right angle, straddle mount, orthogonal\",\n",
      "  \"Voltage\": \"N/A\",\n",
      "  \"Frequency\": \"32GT/s to 56GT/s, with potential upgrades to T12GT/s PAM4 and 224GT/s PAM4\",\n",
      "  \"Impedence/Capacitance\": \"N/A\",\n",
      "  \"Temperature\": \"Tested from -55°C to 85°C\",\n",
      "  \"Temperature_extra_info\": \"Tested for humidity, temperature life, thermal shock, and mixed flow gas\"\n",
      "}\n"
     ]
    }
   ],
   "source": [
    "print(extract_attributes(text3,attributes))"
   ]
  },
  {
   "cell_type": "code",
   "execution_count": 41,
   "id": "2dae6878",
   "metadata": {},
   "outputs": [
    {
     "name": "stdout",
     "output_type": "stream",
     "text": [
      "{\n",
      "  \"ProductType\": \"QSFP-DD (Quad Small Form Factor Pluggable Double Density)\",\n",
      "  \"SupplierName\": \"molex\",\n",
      "  \"ProductName\": \"QSFP-DD Single Port (1x1) - QSFP-DD 1x6\",\n",
      "  \"Dimensions\": \"Refer to SD 2031431201 and 2031432201 for single port cages. Refer to SD 2031521201 and 2031522201 for 2 port cages. Refer to SD 2033691201 and 2033692201 for 3 port cages. Refer to SD 2033701201 and 2033702201 for 4 port cages. Refer to SD 2033711201 and 2033712201 for 5 port cages. Refer to SD 2033721201 and 2033722201 for 6 port cages.\",\n",
      "  \"Orientation\": \"Single port - Cage base attached to cage top with laser welded dovetail. Multi-port - Cage base attached to cage top with laser welded dovetail and low profile tabs from the inner walls.\",\n",
      "  \"Voltage\": \"120 Volts AC\",\n",
      "  \"Frequency\": \"0.5 Amps Max\",\n",
      "  \"Impedence/Capacitance\": \"No specific data provided\",\n",
      "  \"Temperature\": {\n",
      "    \"Operating\": \"-40°C to +85°C\",\n",
      "    \"Non-operating\": \"-55°C to +105°C\"\n",
      "  },\n",
      "  \"Temperature_extra_info\": \"Subject mated specimens to 105°C for 240 Hours, Cycle between 25°C +3°C at 80% RH and 65°C +3°C at 95% RH, Subject specimens to 5 cycles between -55 and 105°C with 30 minute dwells at temperature extremes and 1 minute transition between temperatures\"\n",
      "}\n"
     ]
    }
   ],
   "source": [
    "print(extract_attributes(text4,attributes))"
   ]
  },
  {
   "cell_type": "code",
   "execution_count": 42,
   "id": "32a5f4ab",
   "metadata": {},
   "outputs": [
    {
     "name": "stdout",
     "output_type": "stream",
     "text": [
      "{\n",
      "  \"ProductType\": \"Capacitor\",\n",
      "  \"SupplierName\": \"LELON ELECTRONICS CORP.\",\n",
      "  \"ProductName\": \"VZH680M2ATR-1313S\",\n",
      "  \"Dimensions\": \"12.5x13.5\",\n",
      "  \"Orientation\": \"Negative polarity\",\n",
      "  \"Voltage\": \"100 V\",\n",
      "  \"Frequency\": \"50, 60, 120, 1k, 10k up\",\n",
      "  \"Impedence/Capacitance\": \" < 0.320 (100kHz, 20°C)\",\n",
      "  \"Temperature\": \"-55°C ~ +105\",\n",
      "  \"Temperature_extra_info\": \"Life Test: Endurance - Capacitance Change Within +30 % of initial value After 5000 Hrs at 105°C\"\n",
      "}\n"
     ]
    }
   ],
   "source": [
    "print(extract_attributes(text5,attributes))"
   ]
  },
  {
   "cell_type": "code",
   "execution_count": 43,
   "id": "3b51056c",
   "metadata": {},
   "outputs": [
    {
     "name": "stdout",
     "output_type": "stream",
     "text": [
      "{\n",
      "  \"ProductType\": \"Capacitor\",\n",
      "  \"SupplierName\": \"KYOCERA\",\n",
      "  \"ProductName\": \"Capacitor Division\",\n",
      "  \"Dimensions\": \"1608(JIS) / 0603(EIA) L ~ w ; Unitmm\",\n",
      "  \"Orientation\": \"Nut -20 _ -20\",\n",
      "  \"Voltage\": \"Rated Voltage 25Vdc\",\n",
      "  \"Frequency\": \"Frequency (MHz)\",\n",
      "  \"Impedence/Capacitance\": \"S parameters(Series) Impedance/ESR\",\n",
      "  \"Temperature\": \"Temp. Range -55deg to85deg\",\n",
      "  \"Temperature_extra_info\": \"Temp. coeff +/-15%\"\n",
      "}\n"
     ]
    }
   ],
   "source": [
    "print(extract_attributes(text6,attributes))"
   ]
  },
  {
   "cell_type": "markdown",
   "id": "bba9602f",
   "metadata": {},
   "source": [
    "# Testing with non Schema (prompt only JSON)"
   ]
  },
  {
   "cell_type": "code",
   "execution_count": 44,
   "id": "eaaac23d",
   "metadata": {},
   "outputs": [],
   "source": [
    "def extract_attributes_promptOnly(document, attributes):\n",
    "    try:\n",
    "        completion = openai.chat.completions.create(\n",
    "            model=\"gpt-3.5-turbo-16k\",\n",
    "            messages=[\n",
    "                {\n",
    "                    \"role\": \"user\",\n",
    "                    \"content\": f\"Extract the following attributes:\\n{attributes}\\n from the text:\\n{document}\\n Output should be in JSON format.\",\n",
    "                },\n",
    "            ]\n",
    "        )\n",
    "        return completion.choices[0].message.content\n",
    "    except Exception as e:\n",
    "        return str(e)\n"
   ]
  },
  {
   "cell_type": "code",
   "execution_count": 45,
   "id": "c7230946",
   "metadata": {},
   "outputs": [
    {
     "name": "stdout",
     "output_type": "stream",
     "text": [
      "{\n",
      "  \"ProductType\": \"EXAMAX2™ and EXAMEZZ2™ Connector System\",\n",
      "  \"SupplierName\": \"Amphenol ICC\",\n",
      "  \"ProductName\": \"GS-12-1565\",\n",
      "  \"Dimensions\": \"-\",\n",
      "  \"Orientation\": \"-\",\n",
      "  \"Voltage\": \"< 30 VAC RMS / DC\",\n",
      "  \"Frequency\": \"-\",\n",
      "  \"Impedence/Capacitance\": \"-\",\n",
      "  \"Temperature\": \"-\",\n",
      "  \"Temperature_extra_info\": \"-\"\n",
      "}\n"
     ]
    }
   ],
   "source": [
    "print(extract_attributes_promptOnly(text1,attributes))"
   ]
  },
  {
   "cell_type": "code",
   "execution_count": 46,
   "id": "60f7ad67",
   "metadata": {},
   "outputs": [
    {
     "name": "stdout",
     "output_type": "stream",
     "text": [
      "{\n",
      "  \"ProductType\": \"eHPCE connector system\",\n",
      "  \"SupplierName\": \"Amphenol ICC\",\n",
      "  \"ProductName\": \"ENHANCED HIGH POWER CARD EDGE (eHPCE)\",\n",
      "  \"Dimensions\": \"\",\n",
      "  \"Orientation\": \"Right angle\",\n",
      "  \"Voltage\": \"300Vpc for power contact, 100Vpc for signal contact\",\n",
      "  \"Frequency\": \"\",\n",
      "  \"Impedence/Capacitance\": \"\",\n",
      "  \"Temperature\": \"-55°C ~ +140°C\",\n",
      "  \"Temperature_extra_info\": \"includes the terminal temperature rise when powered\"\n",
      "}\n"
     ]
    }
   ],
   "source": [
    "print(extract_attributes_promptOnly(text2,attributes))"
   ]
  },
  {
   "cell_type": "code",
   "execution_count": 47,
   "id": "76b33de7",
   "metadata": {},
   "outputs": [
    {
     "name": "stdout",
     "output_type": "stream",
     "text": [
      "{\n",
      "  \"ProductType\": \"Mini Cool Edge 0.60mm Connectors\",\n",
      "  \"SupplierName\": \"Amphenol\",\n",
      "  \"ProductName\": \"Mini Cool Edge 0.60mm Connectors\",\n",
      "  \"Dimensions\": \"0.60mm\",\n",
      "  \"Orientation\": \"Vertical, right angle, straddle mount and orthogonal options are available\",\n",
      "  \"Voltage\": \"N/A\",\n",
      "  \"Frequency\": \"High Speed from 32GT/s to 56GT/s, and can upgrade to T12GT/s PAM4 and 224GT/s PAM4 in future\",\n",
      "  \"Impedence/Capacitance\": \"N/A\",\n",
      "  \"Temperature\": \"N/A\",\n",
      "  \"Temperature_extra_info\": \"N/A\"\n",
      "}\n"
     ]
    }
   ],
   "source": [
    "print(extract_attributes_promptOnly(text3,attributes))"
   ]
  },
  {
   "cell_type": "code",
   "execution_count": 48,
   "id": "21564da7",
   "metadata": {},
   "outputs": [
    {
     "name": "stdout",
     "output_type": "stream",
     "text": [
      "{\n",
      " \"attributes\": [\n",
      "  \"ProductType\",\n",
      "  \"SupplierName\",\n",
      "  \"ProductName\",\n",
      "  \"Dimensions\",\n",
      "  \"Orientation\",\n",
      "  \"Voltage\",\n",
      "  \"Frequency\",\n",
      "  \"Impedence/Capacitance\",\n",
      "  \"Temperature\",\n",
      "  \"Temperature_extra_info\"\n",
      " ]\n",
      "}\n"
     ]
    }
   ],
   "source": [
    "print(extract_attributes_promptOnly(text4,attributes))"
   ]
  },
  {
   "cell_type": "code",
   "execution_count": 49,
   "id": "3473e9ac",
   "metadata": {},
   "outputs": [
    {
     "name": "stdout",
     "output_type": "stream",
     "text": [
      "{\n",
      "  \"ProductType\": \"Capacitor\",\n",
      "  \"SupplierName\": \"LELON ELECTRONICS CORP.\",\n",
      "  \"ProductName\": \"VZH680M2ATR-1313S\",\n",
      "  \"Dimensions\": \"12.5@x 13.5L\",\n",
      "  \"Orientation\": \"Vent\",\n",
      "  \"Voltage\": \"100 V\",\n",
      "  \"Frequency\": \"120 Hz\",\n",
      "  \"Impedence/Capacitance\": \"68 uF\",\n",
      "  \"Temperature\": \"-55°C ~ +105°C\",\n",
      "  \"Temperature_extra_info\": \"Capacitance Tolerance -20% ~ +20% (120 Hz, 20°C), Surge Voltage 125 VDC, Leakage Current < 68yA After 2 minutes, Dissipation Factor (Tand) < 0.07 (120 Hz, 20°C), Impedance < 0.320 (100kHz, 20°C), Ripple Current (rms) 450 mA (100kHz, 105°C), Low Temperature Z(-25°C /Z(+20°C ) 2 Characteristics(120 Hz) Z(-55°C /Z(+20°C ) 3, Ripple Current & Frequency (Hz)} 50, 60 120 1k 10k up, Frequency Multipliers Multiplier 0.60 0.70 0.85 1.00, Endurance: Capacitance Change Within +30 % of initial value After 5000 Hrs at 105°C Dissipation factor Less than 300% of specified value, Shelf Life Test: Leakage Current Within specified value After 1000 Hrs at 105°C, Standards JIS C 5101-1, -18, Remarks RoHS Compliance & Halogen-free, Marking: Each capacitor shall be marked with the following information., Marking color: Black, Date code Series name Rated cap. Rated voltage A _3_ = January , 2013 > The suffix of A. D. > Month of manufacture Month 1 2 3 4 5 6 Code A B Cc D E F Month 7 8 9 10 11 12 Code G H | J K L, Approval Signatures: Publish Date} April 12, 2013, Revise Date Edition No. 1, PRARAB | BRIERE | OPE, APR. 12.2013 || APR. 12.2013 | APR. 12.2013, RDDO0366A, A4, 100309\"\n",
      "}\n"
     ]
    }
   ],
   "source": [
    "print(extract_attributes_promptOnly(text5,attributes))"
   ]
  },
  {
   "cell_type": "code",
   "execution_count": 50,
   "id": "7e52aedc",
   "metadata": {},
   "outputs": [
    {
     "name": "stdout",
     "output_type": "stream",
     "text": [
      "{\n",
      "  \"ProductType\": \"Capacitor\",\n",
      "  \"SupplierName\": \"KYOCERA\",\n",
      "  \"ProductName\": \"Dimension 1608(JIS) / 0603(EIA) L ~ w\",\n",
      "  \"Dimensions\": \"Unitmm _ a\",\n",
      "  \"Orientation\": \"Nut -20 _ -20\",\n",
      "  \"Voltage\": \"Rated Voltage 25Vdc DC BIAS (V) AC voltage (Vrms)\",\n",
      "  \"Frequency\": \"Frequency (MHz)\",\n",
      "  \"Impedence/Capacitance\": \"S parameters(Series) Impedance/ESR Temperature Characteristics\",\n",
      "  \"Temperature\": \"Temp. Range -55deg to85deg GS\",\n",
      "  \"Temperature_extra_info\": \"Temp. coeff +/-15%\"\n",
      "}\n"
     ]
    }
   ],
   "source": [
    "print(extract_attributes_promptOnly(text6,attributes))"
   ]
  },
  {
   "cell_type": "markdown",
   "id": "ee6e5f5d",
   "metadata": {},
   "source": []
  }
 ],
 "metadata": {
  "kernelspec": {
   "display_name": "Python 3 (ipykernel)",
   "language": "python",
   "name": "python3"
  },
  "language_info": {
   "codemirror_mode": {
    "name": "ipython",
    "version": 3
   },
   "file_extension": ".py",
   "mimetype": "text/x-python",
   "name": "python",
   "nbconvert_exporter": "python",
   "pygments_lexer": "ipython3",
   "version": "3.9.13"
  }
 },
 "nbformat": 4,
 "nbformat_minor": 5
}
