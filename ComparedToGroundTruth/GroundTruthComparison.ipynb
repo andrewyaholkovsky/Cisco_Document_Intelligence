{
 "cells": [
  {
   "cell_type": "markdown",
   "metadata": {},
   "source": [
    "# Model output of evaluated PDFs for ground truth value comparison"
   ]
  },
  {
   "cell_type": "code",
   "execution_count": 1,
   "metadata": {},
   "outputs": [],
   "source": [
    "from pathlib import Path\n",
    "import os\n",
    "import getpass\n",
    "\n",
    "import pytesseract\n",
    "from pdf2image import convert_from_path\n",
    "\n",
    "# LangChain\n",
    "from langchain.text_splitter import CharacterTextSplitter\n",
    "from langchain.embeddings.openai import OpenAIEmbeddings\n",
    "from langchain.vectorstores import Chroma\n",
    "from langchain.chat_models import ChatOpenAI\n",
    "from langchain.chains import RetrievalQA, ConversationalRetrievalChain"
   ]
  },
  {
   "cell_type": "code",
   "execution_count": 2,
   "metadata": {},
   "outputs": [],
   "source": [
    "\n",
    "# Input your openAI API key\n",
    "os.environ['OPENAI_API_KEY'] = getpass.getpass('OpenAI API Key:')\n",
    "DOCUMENT_DIR = Path(\"./EvaluatedPDF\")"
   ]
  },
  {
   "cell_type": "code",
   "execution_count": 3,
   "metadata": {},
   "outputs": [],
   "source": [
    "class TesseractDocument:\n",
    "    def __init__(self, source, page_content):\n",
    "        self.metadata = {'source': source}\n",
    "        self.page_content = page_content"
   ]
  },
  {
   "cell_type": "code",
   "execution_count": 4,
   "metadata": {},
   "outputs": [],
   "source": [
    "def load_documents_tesseract(pdf_name, parent_dir):\n",
    "    \"\"\"\n",
    "    Load the documents from the temp directory and extract text from them using Tesseract.\n",
    "    \n",
    "    \"\"\"\n",
    "    pdf_path = parent_dir/pdf_name\n",
    "    # Convert PDF to images\n",
    "    images = convert_from_path(pdf_path.as_posix()) # Explicitly convert the path to a string\n",
    "\n",
    "    documents = []\n",
    "\n",
    "    \n",
    "    for image in images:\n",
    "        # Extract text from each image (each page) \n",
    "        text = pytesseract.image_to_string(image)\n",
    "        print(text)\n",
    "        # create TesseractDocumen object for each pages\n",
    "        doc = TesseractDocument(source=pdf_name, page_content=text)\n",
    "        documents.append(doc)\n",
    "\n",
    "    return documents"
   ]
  },
  {
   "cell_type": "code",
   "execution_count": 5,
   "metadata": {},
   "outputs": [],
   "source": [
    "def split_documents(documents):\n",
    "    \"\"\"\n",
    "    Split the documents into chunks of text.\n",
    "    documents: list of Document objects\n",
    "    \"\"\"\n",
    "    text_splitter = CharacterTextSplitter(chunk_size=500, chunk_overlap=100)\n",
    "    texts = text_splitter.split_documents(documents)\n",
    "    return texts"
   ]
  },
  {
   "cell_type": "code",
   "execution_count": 6,
   "metadata": {},
   "outputs": [],
   "source": [
    "def load_to_vectordb(pdf_name, splited_docs, clear_up = False):\n",
    "\n",
    "    # Download embeddings from OpenAI\n",
    "    embeddings = OpenAIEmbeddings()\n",
    "\n",
    "    # get vectore database\n",
    "    db = Chroma.from_documents(splited_docs, embeddings)\n",
    "\n",
    "    # get current information for the vector database \n",
    "    db_info = db.get()\n",
    "    source = [data['source'] for data in db_info['metadatas']]\n",
    "    doc_ids =  db_info['ids']\n",
    "   \n",
    "   # clear up irrelevant(old) documents in the vector database\n",
    "    if clear_up: \n",
    "        delete_ids = []\n",
    "        id_source = tuple(zip(doc_ids, source))\n",
    "        for i in range(len(id_source)):\n",
    "            if pdf_name not in id_source[i][1]:\n",
    "                # delete chunks if their pdf source in the vector database is not the target pdf\n",
    "                delete_ids.append(id_source[i][0])\n",
    "        \n",
    "        print(\"deleted ids: \", delete_ids)\n",
    "        if len(delete_ids) != 0: \n",
    "            print(\"Deleting folloing ids in the vector database: \", delete_ids)\n",
    "            db._collection.delete(ids=delete_ids)\n",
    "            db_info = db.get()\n",
    "        print([data['source'] for data in db_info['metadatas']])\n",
    "\n",
    "\n",
    "    return db"
   ]
  },
  {
   "cell_type": "code",
   "execution_count": 7,
   "metadata": {},
   "outputs": [],
   "source": [
    "# Main function to process PDF and ask questions\n",
    "def process_pdf_and_ask(pdf_name, parent_dir, clear_up = False):\n",
    "\n",
    "    # ------------------------Preprocess documents----------------------------#\n",
    "    # load pdf files as tesseract a list of objects\n",
    "    documents = load_documents_tesseract(pdf_name, parent_dir)\n",
    "    print(documents)\n",
    "\n",
    "    # split the loaded documents into different chunks\n",
    "    splited_docs = split_documents(documents)\n",
    "    \n",
    "    # create vector database retriever\n",
    "    db = load_to_vectordb(pdf_name, splited_docs, clear_up)\n",
    "    num_chunks = len(db.get()[\"ids\"])\n",
    "\n",
    "    retriever = db.as_retriever(search_kwargs={\"k\": min(4, num_chunks)})\n",
    " \n",
    "    # print(\"count after\", db._collection.count())\n",
    "\n",
    "    \n",
    "    #-----------------------Initialize OpenAI LLM and load qa Chain--------------#\n",
    "    llm = ChatOpenAI( model_name=\"gpt-3.5-turbo\", temperature=0)\n",
    "\n",
    "    chain = RetrievalQA.from_chain_type(\n",
    "    llm,\n",
    "    retriever=retriever\n",
    "    )\n",
    "\n",
    "    return chain"
   ]
  },
  {
   "cell_type": "markdown",
   "metadata": {},
   "source": [
    "## Different Systematic Messages"
   ]
  },
  {
   "cell_type": "code",
   "execution_count": 8,
   "metadata": {},
   "outputs": [],
   "source": [
    "system_message1 = \"You are a helpful assistant. Extract the information from this document. Say you do not know if you do not know. Please provide the answer in the following format:  { 'attribute': 'attribute Name', 'value': 'attribute value', 'note': 'context to where and why you extracted the value' }, { 'attribute': 'attribute Name', 'value': 'attribute value', 'context': 'context to where and why you extracted the value'}\"\n",
    "\n",
    "system_message2 = \"You are a helpful assistant. Extract the information from this document. If you don't find any relevant information, \\\n",
    "                please answer: { 'attribute': 'attribute Name', 'value': 'Not found', 'note': 'No information about current rating is mentioned in the document' }.\\\n",
    "                if you found any information, please provide the answer in the following format:  { 'attribute': 'attribute Name', 'value': 'attribute value', 'note': 'context to where and why you extracted the value' }, { 'attribute': 'attribute Name', 'value': 'attribute value', 'context': 'context to where and why you extracted the value' }\"\n",
    "\n",
    "\n",
    "system_message3 = \"You are a helpful assistant. Extract the information from this document. If you don't find any relevant information, \\\n",
    "                please answer: { 'attribute': 'attribute Name', 'value': 'Not found', 'note': 'No information about current rating is mentioned in the document' }.\\\n",
    "                if you found any information, please provide the answer in the following format:  { 'attribute': 'attribute Name', 'value': 'attribute value', 'note': 'context to where and why you extracted the value' }.\\\n",
    "                if you found multiple values for the same attribute, please provided answers in the nested dictonaries as following:\\\n",
    "                {'attribute': 'attribute Name', 'value': [{'attribute': 'attribute subtype 1', 'value': 'attribute subtype 1 value', 'note': 'context to where and why you extracted the attribute subtype 1 value' },\\\n",
    "                                                            {'attribute': 'attribute subtype 2', 'value': 'attribute subtype 2 value', 'note': 'context to where and why you extracted the attribute subtype 2 value' }] }\"\n",
    "\n"
   ]
  },
  {
   "cell_type": "markdown",
   "metadata": {},
   "source": [
    "## Different Prompts"
   ]
  },
  {
   "cell_type": "markdown",
   "metadata": {},
   "source": [
    "General and simple prompt:"
   ]
  },
  {
   "cell_type": "code",
   "execution_count": 9,
   "metadata": {},
   "outputs": [],
   "source": [
    "def simple_prompt_answers(chain, system_message):\n",
    "    attribute_list = [\"Supplier Name\", \"Product Type\", \"Dimensions\", \"Orientation\", \"Current Rating\", \"Voltage\", \\\n",
    "                      \"Frequency\", \"Impedance\", \"Capacitance\", \"Temperature\"]\n",
    "    \n",
    "    for attribute in  attribute_list:\n",
    "        simple_prompt = f\"Instruction: I am looking for {attribute} in this document.\"\n",
    "        query = \"Please extract any information or a range of values for the attribute. Please help me to find as much information as possible.\"\n",
    "        question = system_message + \"\\n\" + simple_prompt + query\n",
    "\n",
    "        result = chain({\"query\": question})\n",
    "        print(result[\"result\"])\n"
   ]
  },
  {
   "cell_type": "markdown",
   "metadata": {},
   "source": [
    "Cusomized and complex prompt:"
   ]
  },
  {
   "cell_type": "code",
   "execution_count": 11,
   "metadata": {},
   "outputs": [],
   "source": [
    "def complex_prompt_answers(chain, system_message):\n",
    "\n",
    "    # customized questions for each attribute\n",
    "    supplier_name_question = \"I am looking for Supplier Name attribute in the document. The supplier name usually is a company name which indicates where the document is from. It usually can be found at the top or bottom of the document.\"\n",
    "    Product_Type_question = \"I am looking for Product Type attribute in the document. The Product Type can be indicated in the product name. If you cannot find any information for product type, you can also give me answers for categoies or division of product (e.g. whether it is capacitor or resistor).\"\n",
    "    dimension_question = \"I am looking for Dimension attribute for product 0402(1E)  in the document. This is typically a measurement of size, can be presented as a numeric for length(L), width (W) and tall(T) with a unit of length (e.g., mm, cm, m, inches). Give me the answer with unit specified\"\n",
    "    orientation_question = \"I am looking for Orientation attribute in the document. The orientation typically refers to the position, alignment, or directioin of the product or component.\"\n",
    "    Current_Rating_question = \"I am looking for Current Rating attribute in the document.\"\n",
    "    Voltage_question = \"I am looking for Voltage attribute in the document. Voltages typically listed in units of volts (V) or kilovolts (kV).\"\n",
    "    Frequency_question = \"I am looking for Frequency attribute in the document. Frequency refers to the number of cycles an electronic signal completes in one second, and it is typically expressed in hertz (Hz), kilohertz (kHz), or megahertz (MHz).\"\n",
    "    Impedance_question = \"I am looking for the Impedance attribute in the document. Impedance is a measure of how much a circuit resists the flow of an alternating current (AC) and is typically expressed in ohms (Ω). It can also provide insights into other properties of the circuit such as resonant frequency and Q factor.\"\n",
    "    capacitance_question = \"I am looking for the Capacitance attribute in the document. Capacitance refers to the ability of a component or circuit to store and release electrical energy and is measured in farads (F), often represented in microfarads (μF), nanofarads (nF), or picofarads (pF).\"\n",
    "    temperature_question = \"I am looking for the Temperature attribute in the document. They are typically numerica values measured in degrees Celsius (°C) or Fahrenheit (°F).\"\n",
    "\n",
    "    complex_prompt = [supplier_name_question, Product_Type_question, dimension_question, orientation_question, \\\n",
    "                  Current_Rating_question, Voltage_question, Frequency_question, Impedance_question, capacitance_question, temperature_question]\n",
    "    \n",
    "    for prompt in  complex_prompt:\n",
    "        query = \"Please extract any information or a range of values for the attribute. Please help me to find as much information as possible.\"\n",
    "        question = system_message + \"\\n\" + prompt + query\n",
    "\n",
    "        result = chain({\"query\": question})\n",
    "        print(result[\"result\"])\n"
   ]
  },
  {
   "cell_type": "markdown",
   "metadata": {},
   "source": [
    "## Test PDFs\n",
    "\n",
    "### PDF1: gs-12-1565.pdf\n",
    "\n",
    "simple prompts:\n"
   ]
  },
  {
   "cell_type": "code",
   "execution_count": 31,
   "metadata": {},
   "outputs": [
    {
     "name": "stderr",
     "output_type": "stream",
     "text": [
      "Created a chunk of size 530, which is longer than the specified 500\n",
      "Created a chunk of size 533, which is longer than the specified 500\n",
      "Created a chunk of size 1407, which is longer than the specified 500\n",
      "Created a chunk of size 502, which is longer than the specified 500\n",
      "Created a chunk of size 525, which is longer than the specified 500\n",
      "Created a chunk of size 582, which is longer than the specified 500\n",
      "Created a chunk of size 546, which is longer than the specified 500\n",
      "Created a chunk of size 568, which is longer than the specified 500\n",
      "Created a chunk of size 552, which is longer than the specified 500\n",
      "Created a chunk of size 836, which is longer than the specified 500\n",
      "Created a chunk of size 1362, which is longer than the specified 500\n",
      "Created a chunk of size 1099, which is longer than the specified 500\n"
     ]
    },
    {
     "name": "stdout",
     "output_type": "stream",
     "text": [
      "{'ids': ['d06fbfb6-8e2a-11ee-8ca3-7e0641d3cee1', 'd06fc01a-8e2a-11ee-8ca3-7e0641d3cee1', 'd06fc02e-8e2a-11ee-8ca3-7e0641d3cee1', 'd06fc042-8e2a-11ee-8ca3-7e0641d3cee1', 'd06fc060-8e2a-11ee-8ca3-7e0641d3cee1', 'd06fc06a-8e2a-11ee-8ca3-7e0641d3cee1', 'd06fc07e-8e2a-11ee-8ca3-7e0641d3cee1', 'd06fc092-8e2a-11ee-8ca3-7e0641d3cee1', 'd06fc0a6-8e2a-11ee-8ca3-7e0641d3cee1', 'd06fc0ba-8e2a-11ee-8ca3-7e0641d3cee1', 'd06fc0c4-8e2a-11ee-8ca3-7e0641d3cee1', 'd06fc0d8-8e2a-11ee-8ca3-7e0641d3cee1', 'd06fc0ec-8e2a-11ee-8ca3-7e0641d3cee1', 'd06fc100-8e2a-11ee-8ca3-7e0641d3cee1', 'd06fc10a-8e2a-11ee-8ca3-7e0641d3cee1', 'd06fc11e-8e2a-11ee-8ca3-7e0641d3cee1', 'd06fc132-8e2a-11ee-8ca3-7e0641d3cee1', 'd06fc146-8e2a-11ee-8ca3-7e0641d3cee1', 'd06fc150-8e2a-11ee-8ca3-7e0641d3cee1', 'd06fc16e-8e2a-11ee-8ca3-7e0641d3cee1', 'd06fc178-8e2a-11ee-8ca3-7e0641d3cee1', 'd06fc18c-8e2a-11ee-8ca3-7e0641d3cee1', 'd06fc1a0-8e2a-11ee-8ca3-7e0641d3cee1', 'd06fc1b4-8e2a-11ee-8ca3-7e0641d3cee1', 'd06fc1be-8e2a-11ee-8ca3-7e0641d3cee1', 'd06fc1d2-8e2a-11ee-8ca3-7e0641d3cee1', 'd06fc1e6-8e2a-11ee-8ca3-7e0641d3cee1', 'd06fc1fa-8e2a-11ee-8ca3-7e0641d3cee1', 'd06fc204-8e2a-11ee-8ca3-7e0641d3cee1', 'd06fc218-8e2a-11ee-8ca3-7e0641d3cee1', 'd06fc22c-8e2a-11ee-8ca3-7e0641d3cee1', 'd06fc240-8e2a-11ee-8ca3-7e0641d3cee1', 'd06fc254-8e2a-11ee-8ca3-7e0641d3cee1', 'd06fc268-8e2a-11ee-8ca3-7e0641d3cee1', 'd06fc27c-8e2a-11ee-8ca3-7e0641d3cee1', 'd06fc286-8e2a-11ee-8ca3-7e0641d3cee1', 'd06fc29a-8e2a-11ee-8ca3-7e0641d3cee1', 'd06fc2ae-8e2a-11ee-8ca3-7e0641d3cee1', 'd06fc2b8-8e2a-11ee-8ca3-7e0641d3cee1', 'd06fc2cc-8e2a-11ee-8ca3-7e0641d3cee1', 'd06fc2e0-8e2a-11ee-8ca3-7e0641d3cee1', 'd06fc2f4-8e2a-11ee-8ca3-7e0641d3cee1', 'd06fc2fe-8e2a-11ee-8ca3-7e0641d3cee1', 'd06fc312-8e2a-11ee-8ca3-7e0641d3cee1', 'd06fc326-8e2a-11ee-8ca3-7e0641d3cee1', 'd06fc330-8e2a-11ee-8ca3-7e0641d3cee1', 'd06fc344-8e2a-11ee-8ca3-7e0641d3cee1', 'd06fc358-8e2a-11ee-8ca3-7e0641d3cee1', 'd06fc36c-8e2a-11ee-8ca3-7e0641d3cee1', 'd06fc376-8e2a-11ee-8ca3-7e0641d3cee1', 'd06fc38a-8e2a-11ee-8ca3-7e0641d3cee1', 'd06fc39e-8e2a-11ee-8ca3-7e0641d3cee1', 'd06fc3a8-8e2a-11ee-8ca3-7e0641d3cee1', 'd06fc3bc-8e2a-11ee-8ca3-7e0641d3cee1', 'd06fc3d0-8e2a-11ee-8ca3-7e0641d3cee1', 'd06fc3e4-8e2a-11ee-8ca3-7e0641d3cee1', 'd06fc3ee-8e2a-11ee-8ca3-7e0641d3cee1', 'd06fc402-8e2a-11ee-8ca3-7e0641d3cee1', 'd06fc416-8e2a-11ee-8ca3-7e0641d3cee1', 'd06fc420-8e2a-11ee-8ca3-7e0641d3cee1', 'd06fc434-8e2a-11ee-8ca3-7e0641d3cee1', 'd17adcd2-8e2b-11ee-8ca3-7e0641d3cee1', 'd17add18-8e2b-11ee-8ca3-7e0641d3cee1', 'd17add2c-8e2b-11ee-8ca3-7e0641d3cee1', 'd17add40-8e2b-11ee-8ca3-7e0641d3cee1', 'd17add4a-8e2b-11ee-8ca3-7e0641d3cee1', 'd17add5e-8e2b-11ee-8ca3-7e0641d3cee1', 'd17add72-8e2b-11ee-8ca3-7e0641d3cee1', 'd17add7c-8e2b-11ee-8ca3-7e0641d3cee1', 'd17add90-8e2b-11ee-8ca3-7e0641d3cee1', 'd17adda4-8e2b-11ee-8ca3-7e0641d3cee1', 'd17addae-8e2b-11ee-8ca3-7e0641d3cee1', 'd17addc2-8e2b-11ee-8ca3-7e0641d3cee1', 'd17addcc-8e2b-11ee-8ca3-7e0641d3cee1', 'd17adde0-8e2b-11ee-8ca3-7e0641d3cee1', 'd17addf4-8e2b-11ee-8ca3-7e0641d3cee1', 'd17addfe-8e2b-11ee-8ca3-7e0641d3cee1', 'd17ade12-8e2b-11ee-8ca3-7e0641d3cee1', 'd17ade1c-8e2b-11ee-8ca3-7e0641d3cee1', 'd17ade30-8e2b-11ee-8ca3-7e0641d3cee1', 'd17ade3a-8e2b-11ee-8ca3-7e0641d3cee1', 'd17ade4e-8e2b-11ee-8ca3-7e0641d3cee1', 'd17ade62-8e2b-11ee-8ca3-7e0641d3cee1', 'd17ade6c-8e2b-11ee-8ca3-7e0641d3cee1', 'd17ade80-8e2b-11ee-8ca3-7e0641d3cee1', 'd17ade8a-8e2b-11ee-8ca3-7e0641d3cee1', 'd17ade9e-8e2b-11ee-8ca3-7e0641d3cee1', 'd17adea8-8e2b-11ee-8ca3-7e0641d3cee1', 'd17adebc-8e2b-11ee-8ca3-7e0641d3cee1', 'd17adec6-8e2b-11ee-8ca3-7e0641d3cee1', 'd17adeda-8e2b-11ee-8ca3-7e0641d3cee1', 'd17adee4-8e2b-11ee-8ca3-7e0641d3cee1', 'd17adef8-8e2b-11ee-8ca3-7e0641d3cee1', 'd17adf0c-8e2b-11ee-8ca3-7e0641d3cee1', 'd17adf16-8e2b-11ee-8ca3-7e0641d3cee1', 'd17adf2a-8e2b-11ee-8ca3-7e0641d3cee1', 'd17adf34-8e2b-11ee-8ca3-7e0641d3cee1', 'd17adf48-8e2b-11ee-8ca3-7e0641d3cee1', 'd17adf52-8e2b-11ee-8ca3-7e0641d3cee1', 'd17adf66-8e2b-11ee-8ca3-7e0641d3cee1', 'd17adf70-8e2b-11ee-8ca3-7e0641d3cee1', 'd17adf84-8e2b-11ee-8ca3-7e0641d3cee1', 'd17adf8e-8e2b-11ee-8ca3-7e0641d3cee1', 'd17adfa2-8e2b-11ee-8ca3-7e0641d3cee1', 'd17adfb6-8e2b-11ee-8ca3-7e0641d3cee1', 'd17adfc0-8e2b-11ee-8ca3-7e0641d3cee1', 'd17adfd4-8e2b-11ee-8ca3-7e0641d3cee1', 'd17adfde-8e2b-11ee-8ca3-7e0641d3cee1', 'd17adff2-8e2b-11ee-8ca3-7e0641d3cee1', 'd17adffc-8e2b-11ee-8ca3-7e0641d3cee1', 'd17ae010-8e2b-11ee-8ca3-7e0641d3cee1', 'd17ae01a-8e2b-11ee-8ca3-7e0641d3cee1', 'd17ae02e-8e2b-11ee-8ca3-7e0641d3cee1', 'd17ae038-8e2b-11ee-8ca3-7e0641d3cee1', 'd17ae04c-8e2b-11ee-8ca3-7e0641d3cee1', 'd17ae056-8e2b-11ee-8ca3-7e0641d3cee1', 'd17ae06a-8e2b-11ee-8ca3-7e0641d3cee1', 'd17ae074-8e2b-11ee-8ca3-7e0641d3cee1', 'd17ae088-8e2b-11ee-8ca3-7e0641d3cee1', 'd17ae092-8e2b-11ee-8ca3-7e0641d3cee1', 'd17ae0a6-8e2b-11ee-8ca3-7e0641d3cee1', 'd17ae0b0-8e2b-11ee-8ca3-7e0641d3cee1', '386713ca-8e2c-11ee-8ca3-7e0641d3cee1', '38671424-8e2c-11ee-8ca3-7e0641d3cee1', '38671438-8e2c-11ee-8ca3-7e0641d3cee1', 'cbb48bd0-8eef-11ee-8ca3-7e0641d3cee1', 'cbb48d6a-8eef-11ee-8ca3-7e0641d3cee1', 'cbb48d7e-8eef-11ee-8ca3-7e0641d3cee1', 'cbb48d92-8eef-11ee-8ca3-7e0641d3cee1', 'cbb48da6-8eef-11ee-8ca3-7e0641d3cee1', 'cbb48dba-8eef-11ee-8ca3-7e0641d3cee1', 'cbb48dc4-8eef-11ee-8ca3-7e0641d3cee1', 'cbb48dd8-8eef-11ee-8ca3-7e0641d3cee1', 'cbb48dec-8eef-11ee-8ca3-7e0641d3cee1', 'cbb48e00-8eef-11ee-8ca3-7e0641d3cee1', 'cbb48e0a-8eef-11ee-8ca3-7e0641d3cee1', 'cbb48e1e-8eef-11ee-8ca3-7e0641d3cee1', 'cbb48e32-8eef-11ee-8ca3-7e0641d3cee1', 'cbb48e3c-8eef-11ee-8ca3-7e0641d3cee1', 'cbb48e50-8eef-11ee-8ca3-7e0641d3cee1', 'cbb48e64-8eef-11ee-8ca3-7e0641d3cee1', 'cbb48e6e-8eef-11ee-8ca3-7e0641d3cee1', 'cbb48e82-8eef-11ee-8ca3-7e0641d3cee1', 'cbb48e96-8eef-11ee-8ca3-7e0641d3cee1', 'cbb48ea0-8eef-11ee-8ca3-7e0641d3cee1', 'cbb48eb4-8eef-11ee-8ca3-7e0641d3cee1', 'cbb48ebe-8eef-11ee-8ca3-7e0641d3cee1', 'cbb48ed2-8eef-11ee-8ca3-7e0641d3cee1', 'cbb48ee6-8eef-11ee-8ca3-7e0641d3cee1', 'cbb48ef0-8eef-11ee-8ca3-7e0641d3cee1', 'cbb48f04-8eef-11ee-8ca3-7e0641d3cee1', 'cbb48f18-8eef-11ee-8ca3-7e0641d3cee1', 'cbb48f22-8eef-11ee-8ca3-7e0641d3cee1', 'cbb48f36-8eef-11ee-8ca3-7e0641d3cee1', 'cbb48f40-8eef-11ee-8ca3-7e0641d3cee1', 'cbb48f54-8eef-11ee-8ca3-7e0641d3cee1', 'cbb48f68-8eef-11ee-8ca3-7e0641d3cee1', 'cbb48f72-8eef-11ee-8ca3-7e0641d3cee1', 'cbb48f86-8eef-11ee-8ca3-7e0641d3cee1', 'cbb48f9a-8eef-11ee-8ca3-7e0641d3cee1', 'cbb48fa4-8eef-11ee-8ca3-7e0641d3cee1', 'cbb48fb8-8eef-11ee-8ca3-7e0641d3cee1', 'cbb48fc2-8eef-11ee-8ca3-7e0641d3cee1', 'cbb48fd6-8eef-11ee-8ca3-7e0641d3cee1', 'cbb48fea-8eef-11ee-8ca3-7e0641d3cee1', 'cbb48ff4-8eef-11ee-8ca3-7e0641d3cee1', 'cbb49008-8eef-11ee-8ca3-7e0641d3cee1', 'cbb49012-8eef-11ee-8ca3-7e0641d3cee1', 'cbb49026-8eef-11ee-8ca3-7e0641d3cee1', 'cbb4903a-8eef-11ee-8ca3-7e0641d3cee1', 'cbb49044-8eef-11ee-8ca3-7e0641d3cee1', 'cbb49058-8eef-11ee-8ca3-7e0641d3cee1', 'cbb49062-8eef-11ee-8ca3-7e0641d3cee1', 'cbb49076-8eef-11ee-8ca3-7e0641d3cee1', 'cbb4908a-8eef-11ee-8ca3-7e0641d3cee1', 'cbb49094-8eef-11ee-8ca3-7e0641d3cee1', 'cbb490a8-8eef-11ee-8ca3-7e0641d3cee1', 'cbb490b2-8eef-11ee-8ca3-7e0641d3cee1', 'cbb490c6-8eef-11ee-8ca3-7e0641d3cee1', 'cbb490da-8eef-11ee-8ca3-7e0641d3cee1', 'cbb490e4-8eef-11ee-8ca3-7e0641d3cee1', 'cbb490f8-8eef-11ee-8ca3-7e0641d3cee1', 'cbb49102-8eef-11ee-8ca3-7e0641d3cee1', 'cbb49116-8eef-11ee-8ca3-7e0641d3cee1', 'cbb4912a-8eef-11ee-8ca3-7e0641d3cee1', 'cbb49134-8eef-11ee-8ca3-7e0641d3cee1'], 'embeddings': None, 'metadatas': [{'source': 'gs-12-1565.pdf'}, {'source': 'gs-12-1565.pdf'}, {'source': 'gs-12-1565.pdf'}, {'source': 'gs-12-1565.pdf'}, {'source': 'gs-12-1565.pdf'}, {'source': 'gs-12-1565.pdf'}, {'source': 'gs-12-1565.pdf'}, {'source': 'gs-12-1565.pdf'}, {'source': 'gs-12-1565.pdf'}, {'source': 'gs-12-1565.pdf'}, {'source': 'gs-12-1565.pdf'}, {'source': 'gs-12-1565.pdf'}, {'source': 'gs-12-1565.pdf'}, {'source': 'gs-12-1565.pdf'}, {'source': 'gs-12-1565.pdf'}, {'source': 'gs-12-1565.pdf'}, {'source': 'gs-12-1565.pdf'}, {'source': 'gs-12-1565.pdf'}, {'source': 'gs-12-1565.pdf'}, {'source': 'gs-12-1565.pdf'}, {'source': 'gs-12-1565.pdf'}, {'source': 'gs-12-1565.pdf'}, {'source': 'gs-12-1565.pdf'}, {'source': 'gs-12-1565.pdf'}, {'source': 'gs-12-1565.pdf'}, {'source': 'gs-12-1565.pdf'}, {'source': 'gs-12-1565.pdf'}, {'source': 'gs-12-1565.pdf'}, {'source': 'gs-12-1565.pdf'}, {'source': 'gs-12-1565.pdf'}, {'source': 'gs-12-1565.pdf'}, {'source': 'gs-12-1565.pdf'}, {'source': 'gs-12-1565.pdf'}, {'source': 'gs-12-1565.pdf'}, {'source': 'gs-12-1565.pdf'}, {'source': 'gs-12-1565.pdf'}, {'source': 'gs-12-1565.pdf'}, {'source': 'gs-12-1565.pdf'}, {'source': 'gs-12-1565.pdf'}, {'source': 'gs-12-1565.pdf'}, {'source': 'gs-12-1565.pdf'}, {'source': 'gs-12-1565.pdf'}, {'source': 'gs-12-1565.pdf'}, {'source': 'gs-12-1565.pdf'}, {'source': 'gs-12-1565.pdf'}, {'source': 'gs-12-1565.pdf'}, {'source': 'gs-12-1565.pdf'}, {'source': 'gs-12-1565.pdf'}, {'source': 'gs-12-1565.pdf'}, {'source': 'gs-12-1565.pdf'}, {'source': 'gs-12-1565.pdf'}, {'source': 'gs-12-1565.pdf'}, {'source': 'gs-12-1565.pdf'}, {'source': 'gs-12-1565.pdf'}, {'source': 'gs-12-1565.pdf'}, {'source': 'gs-12-1565.pdf'}, {'source': 'gs-12-1565.pdf'}, {'source': 'gs-12-1565.pdf'}, {'source': 'gs-12-1565.pdf'}, {'source': 'gs-12-1565.pdf'}, {'source': 'gs-12-1565.pdf'}, {'source': 'gs-12-1565.pdf'}, {'source': 'gs-12-1565.pdf'}, {'source': 'gs-12-1565.pdf'}, {'source': 'gs-12-1565.pdf'}, {'source': 'gs-12-1565.pdf'}, {'source': 'gs-12-1565.pdf'}, {'source': 'gs-12-1565.pdf'}, {'source': 'gs-12-1565.pdf'}, {'source': 'gs-12-1565.pdf'}, {'source': 'gs-12-1565.pdf'}, {'source': 'gs-12-1565.pdf'}, {'source': 'gs-12-1565.pdf'}, {'source': 'gs-12-1565.pdf'}, {'source': 'gs-12-1565.pdf'}, {'source': 'gs-12-1565.pdf'}, {'source': 'gs-12-1565.pdf'}, {'source': 'gs-12-1565.pdf'}, {'source': 'gs-12-1565.pdf'}, {'source': 'gs-12-1565.pdf'}, {'source': 'gs-12-1565.pdf'}, {'source': 'gs-12-1565.pdf'}, {'source': 'gs-12-1565.pdf'}, {'source': 'gs-12-1565.pdf'}, {'source': 'gs-12-1565.pdf'}, {'source': 'gs-12-1565.pdf'}, {'source': 'gs-12-1565.pdf'}, {'source': 'gs-12-1565.pdf'}, {'source': 'gs-12-1565.pdf'}, {'source': 'gs-12-1565.pdf'}, {'source': 'gs-12-1565.pdf'}, {'source': 'gs-12-1565.pdf'}, {'source': 'gs-12-1565.pdf'}, {'source': 'gs-12-1565.pdf'}, {'source': 'gs-12-1565.pdf'}, {'source': 'gs-12-1565.pdf'}, {'source': 'gs-12-1565.pdf'}, {'source': 'gs-12-1565.pdf'}, {'source': 'gs-12-1565.pdf'}, {'source': 'gs-12-1565.pdf'}, {'source': 'gs-12-1565.pdf'}, {'source': 'gs-12-1565.pdf'}, {'source': 'gs-12-1565.pdf'}, {'source': 'gs-12-1565.pdf'}, {'source': 'gs-12-1565.pdf'}, {'source': 'gs-12-1565.pdf'}, {'source': 'gs-12-1565.pdf'}, {'source': 'gs-12-1565.pdf'}, {'source': 'gs-12-1565.pdf'}, {'source': 'gs-12-1565.pdf'}, {'source': 'gs-12-1565.pdf'}, {'source': 'gs-12-1565.pdf'}, {'source': 'gs-12-1565.pdf'}, {'source': 'gs-12-1565.pdf'}, {'source': 'gs-12-1565.pdf'}, {'source': 'gs-12-1565.pdf'}, {'source': 'gs-12-1565.pdf'}, {'source': 'gs-12-1565.pdf'}, {'source': 'gs-12-1565.pdf'}, {'source': 'gs-12-1565.pdf'}, {'source': 'gs-12-1565.pdf'}, {'source': 'gs-12-1565.pdf'}, {'source': 'KGM15CR51E106K-DATA.pdf'}, {'source': 'KGM15CR51E106K-DATA.pdf'}, {'source': 'KGM15CR51E106K-DATA.pdf'}, {'source': 'gs-12-1565.pdf'}, {'source': 'gs-12-1565.pdf'}, {'source': 'gs-12-1565.pdf'}, {'source': 'gs-12-1565.pdf'}, {'source': 'gs-12-1565.pdf'}, {'source': 'gs-12-1565.pdf'}, {'source': 'gs-12-1565.pdf'}, {'source': 'gs-12-1565.pdf'}, {'source': 'gs-12-1565.pdf'}, {'source': 'gs-12-1565.pdf'}, {'source': 'gs-12-1565.pdf'}, {'source': 'gs-12-1565.pdf'}, {'source': 'gs-12-1565.pdf'}, {'source': 'gs-12-1565.pdf'}, {'source': 'gs-12-1565.pdf'}, {'source': 'gs-12-1565.pdf'}, {'source': 'gs-12-1565.pdf'}, {'source': 'gs-12-1565.pdf'}, {'source': 'gs-12-1565.pdf'}, {'source': 'gs-12-1565.pdf'}, {'source': 'gs-12-1565.pdf'}, {'source': 'gs-12-1565.pdf'}, {'source': 'gs-12-1565.pdf'}, {'source': 'gs-12-1565.pdf'}, {'source': 'gs-12-1565.pdf'}, {'source': 'gs-12-1565.pdf'}, {'source': 'gs-12-1565.pdf'}, {'source': 'gs-12-1565.pdf'}, {'source': 'gs-12-1565.pdf'}, {'source': 'gs-12-1565.pdf'}, {'source': 'gs-12-1565.pdf'}, {'source': 'gs-12-1565.pdf'}, {'source': 'gs-12-1565.pdf'}, {'source': 'gs-12-1565.pdf'}, {'source': 'gs-12-1565.pdf'}, {'source': 'gs-12-1565.pdf'}, {'source': 'gs-12-1565.pdf'}, {'source': 'gs-12-1565.pdf'}, {'source': 'gs-12-1565.pdf'}, {'source': 'gs-12-1565.pdf'}, {'source': 'gs-12-1565.pdf'}, {'source': 'gs-12-1565.pdf'}, {'source': 'gs-12-1565.pdf'}, {'source': 'gs-12-1565.pdf'}, {'source': 'gs-12-1565.pdf'}, {'source': 'gs-12-1565.pdf'}, {'source': 'gs-12-1565.pdf'}, {'source': 'gs-12-1565.pdf'}, {'source': 'gs-12-1565.pdf'}, {'source': 'gs-12-1565.pdf'}, {'source': 'gs-12-1565.pdf'}, {'source': 'gs-12-1565.pdf'}, {'source': 'gs-12-1565.pdf'}, {'source': 'gs-12-1565.pdf'}, {'source': 'gs-12-1565.pdf'}, {'source': 'gs-12-1565.pdf'}, {'source': 'gs-12-1565.pdf'}, {'source': 'gs-12-1565.pdf'}, {'source': 'gs-12-1565.pdf'}, {'source': 'gs-12-1565.pdf'}, {'source': 'gs-12-1565.pdf'}], 'documents': ['NUMBER TYPE\\nGENERAL\\nGS-12-1565 PRODUCT SPECIFICATION Amphenol ICC\\nTITLE PAGE REVISION\\n1 of 12 H\\nEXAMAX2™ and EXAMEZZ2™ Connector System AUTHORIZED BY DATE\\nS. Minich 2023-01-13\\nCLASSIFICATION\\nUNRESTRICTED\\n\\nEXAMAX2™ VH\\n— EXAMAX2™ RAOH\\n\\nEXAMAX2™ RAR\\nEXAMAX2™ RAR\\n\\nBACKPLANE: RIGHT ANGLE RECEPTACLE (RAR) DIRECT MATE ORTHOGONAL (DMO): RIGHT ANGLE\\nWITH VERTICAL HEADER (VH) ORTHOGONAL HEADER (RAOH) WITH RAR\\n\\nEXAMAX2™ RAR EXAMAX2™ RAH\\n\\nmills', 'EXAMAX2™ RAR EXAMAX2™ RAH\\n\\nmills\\n\\nCOPLANAR: RIGHT ANGLE RECEPTACLE (RAR) EXAMEZZ2™: HERMAPHRODITIC MEZZANINE\\nWITH RIGHT ANGLE HEADER (RAH)\\n\\n© 2018 AICC\\n\\nForm E-3701 — Revision E GS-01-029\\n\\nPDS: Rev :H STATUS:Released Printed: Jan 17, 2023', 'NUMBER TYPE\\nGENERAL\\nGS-12-1565 PRODUCT SPECIFICATION Amphenol ICC\\nTITLE PAGE REVISION\\n2 of 12 H\\nEXAMAX2™ and EXAMEZZ2™ Connector System AUTHORIZED BY — DATE\\nS. Minich 2023-01-13\\nCLASSIFICATION\\nUNRESTRICTED\\n\\n1.0 Objective\\nThis specification defines the performance, test, quality and reliability requirements of the EXAMAX2™ and\\nEXAMEZZ2™ press-fit connector system product.\\n\\n2.0 Scope', 'This specification is applicable to the EXAMAX2™ and EXAMEZZ2™ press-fit family of products which\\nprovides high speed board-to-board interconnect for differential pairs and single-ended lines. Connectors\\ninclude configurations of the Right Angle Receptacle (RAR), Vertical Header (VH), Right Angle Orthogonal\\nHeader (RAOH), Right Angle Header (RAH), Vertical Receptacle (VR) and EXAMEZZ2 Hermaphroditic\\nMezzanine connectors. The test sequences defined in this specification meet the intent of Telcordia GR-\\n1217-CORE requirements.', '3.0 Ratings\\n3.1. Operating Voltage Rating\\n- Agency Voltage Rating < 30 VAC RMS / DC\\n- Non-Agency Voltage Rating = 150 Vac RMS or Voc Maximum\\n3.2 Operating Current Rating: See AICC Power Design Guide GS-20-0456\\n3.3. Operating Temperature Range = -55 to 85 °C’\\n\\n4.0 Applicable Documents', '4.1. AFCI Specifications\\n4.1.1 Engineering drawings\\n- AFCI product customer drawings (various)\\n- AFCl customer drawing 10119933 (Recommended Via Drill Sizes and Plating)\\n4.1.2 Process drawings\\n- AFCI product inspection drawings (various)\\n4.1.3 Application specification(s)\\n- GS-20-0626 (EXAMAX2 Connector System, press-fit products)\\n- GS-20-0760 (EXAMEZZ2 Connector System, press-fit products)\\n- GS-20-0456 ExaMAX ExaMAX+ EXAMAX2 ExaMEZZ Power Design Guide\\n4.1.4 Material specification(s)\\n- AFCI product inspection drawings (various)', '4.2 Industry or Trade Association standards\\nTelcordia GR-1217-CORE (Separable Electrical Connectors Used in Telecommunications Hardware).\\n\\n© 2018 AICC\\n\\nForm E-3701 — Revision E GS-01-029\\n\\nPDS: Rev :H STATUS:Released Printed: Jan 17, 2023', 'NUMBER\\n\\nTYPE\\n\\nGENERAL\\nGS-12-1565 PRODUCT SPECIFICATION Amphenol ICC\\n\\nTITLE PAGE REVISION\\n3 of 12 H\\nEXAMAX2™ and EXAMEZZ2™ Connector System AUTHORIZED BY DATE\\nS. Minich 2023-01-13\\nCLASSIFICATION\\nUNRESTRICTED\\n\\n4.3\\n\\n44\\n\\n45\\n\\nNational or International Standards\\n\\n4.3.1 Flammability: UL94V-0 or similar applicable specification\\n\\n4.3.2 EIA 364: Electrical Connector/Socket Test Procedures Including Environmental Classifications.\\n4.3.3 IEC 60512: Connectors for Electronic Equipment — Tests and Measurement', 'AFCI Laboratory Reports - Supporting Data\\n\\nSafety Agency Approvals\\n- UL File Number: E66906\\n\\n5.0 Requirements\\n\\n5.1 Qualification\\nConnectors furnished under this specification shall be capable of meeting the qualification test\\nrequirements specified herein.\\n\\n5.2 Material\\nThe material for each component shall be as specified herein or equivalent.\\n- Contacts: Copper Alloy\\n- Housings, Press-Fit Tail Organizer, and IMLAs: High temperature thermoplastic; UL 94V-0\\n\\ncompliant.', 'compliant.\\n\\n- Metal Organizer: Stainless Steel\\n\\n5.3. Finish\\nThe finish for applicable components shall be as specified herein or equivalent.\\n- Contact Areas: Performance-based plating, qualified to meet the requirements of this specification,\\n\\nincluding Telcordia GR-1217-CORE (November 1995) Central Office test sequence.\\n\\n-  Press-fit tails: Tin over Nickel', '-  Press-fit tails: Tin over Nickel\\n\\n5.4 Design and Construction\\nConnectors shall be visually examined at 10X magnification per EIA-364-18.\\nConnectors shall be of the design, construction, and physical dimensions specified on the applicable\\nproduct drawing. There shall be no cracks, burrs, or other physical defects that may impair\\nperformance.\\n\\n© 2018 AICC\\nForm E-3701 — Revision E GS-01-029\\n\\nPDS: Rev :H STATUS:Released Printed: Jan 17, 2023', 'NUMBER TYPE\\nGENERAL\\nGS-12-1565 PRODUCT SPECIFICATION Amphenol ICC\\nTITLE PAGE REVISION\\n4 of 12 H\\nEXAMAX2™ and EXAMEZZ2™ Connector System AUTHORIZED BY DATE\\nS. Minich 2023-01-13\\nCLASSIFICATION\\nUNRESTRICTED\\n\\n6.0 Electrical Characteristics', '6.1. Contact Resistance, Low Level (LLCR)\\nThe low level contact resistance for 2 to 6-pair configurations shall not initially exceed 60 milliohms for\\nBackplane (VH to RAR), or 100 millionms Coplanar (RAR to RAH), or 110 milliohms for DMO (RAOH\\nto RAR) up to 6-pair x 12 columns/rows. For 6-pair DMO above 12-columns/rows, each 2 additional\\ncolumns/rows, another 10 milliohms initial resistance is allowed. For 8 pair Backplane (RAR to VH),\\nthe initial resistance shall not exceed 100 milliohms. For an 8-pair x 8 column/row DMO, the initial\\nresistance shall not exceed 110 milliohms. For each 2 additional columns/rows, another 10 milliohms\\ninitial resistance is allowed. For example, an 8-pair x 16 column RAR mated to an RAOH shall not\\nhave an initial resistance in column/row 16 greater than 150 milliohms. For EXAMEZZ2, stack heights\\nunder 42mm shall not initially exceed 60 milliohms. The low level contact resistance shall also not\\nexceed 10 milliohms increase in resistance (from the initial measurement) after any treatment and/or\\nenvironmental exposure. Measurements shall be in accordance with EIA 364-23.\\nThe following details shall apply:\\na. Method of Connection — Specially designed LLCR Test Boards will be made in conjunction with the\\nTest Laboratory.\\nb. Test Voltage — 20 milli-volts DC max open circuit.\\nc. Test Current — Not to exceed 100 milliamperes.\\nd. Number of Readings — 500 minimum.', '6.2 Insulation Resistance\\nThe insulation resistance of mated connectors shall not be less than 1000 Mohms initially and after\\nenvironmental exposure.\\nMeasurements shall be in accordance with EIA 364-21.\\nThe following details shall apply:\\na. Test Voltage — 500 volts DC.\\nb. Electrification Time — 60 seconds, unless otherwise specified.\\nc. Points of Measurement - Between signal-to-signal and signal-to-ground within the same IMLA.\\nd. Number of Readings — 40 (10 readings per loose-piece connector set).', '6.3 Dielectric Withstanding Voltage\\nThere shall be no evidence of arc-over, insulation breakdown, or excessive leakage current > 0.50 mA\\n(milli-amperes) when mated connectors are tested in accordance to EIA 364-20.\\nThe following details shall apply:\\na. Test Voltage — 500 volts DC.\\nb. Test Duration — 60 seconds.\\nc. Test Condition - 1 (760 Torr - sea level).\\nd. Points of Measurement - Between signal-to-signal and signal-to-ground within the same IMLA.\\ne. Number of Readings — 40 (10 readings per loose-piece connector set).', '© 2018 AICC\\nForm E-3701 — Revision E GS-01-029\\n\\nPDS: Rev :H STATUS:Released Printed: Jan 17, 2023', 'NUMBER TYPE\\nGENERAL\\nGS-12-1565 PRODUCT SPECIFICATION Amphenol ICC\\nTITLE PAGE REVISION\\n5 of 12 H\\nEXAMAX2™ and EXAMEZZ2™ Connector System AUTHORIZED BY — DATE\\nS. Minich 2023-01-13\\nCLASSIFICATION\\nUNRESTRICTED\\n\\n7.0 Mechanical Characteristics\\n\\n7.1 Mating/Un-mating Force\\n\\nThe force to mate a receptacle connector and compatible header shall not exceed 0.45 N per contact.\\nThe un-mating force shall not be less than 0.10 N per contact.\\n\\nThe following details shall apply:', 'The following details shall apply:\\n\\na. Cross Head Speed — 25.4 mm per minute.\\nb. Utilize free floating fixtures.\\n\\nc. Reference — EIA 364-13.\\n\\n7.2 Compliant Pin Insertion Force.', 'EXAMAX2 / EXAMEZZ2 IMLAs or T-top/IMLA assemblies shall be applied using approved fixturing.\\nThere must be at least 10 compliant pins of each size under test (if different) per assembly. Testing\\nshall consist of three boards that will have three IMLA or center T-top/IMLA assemblies inserted into\\neach board in order to simulate three insertion repair cycles. The assemblies can be inserted into any\\nset of holes, but the same holes shall be used for all 3 insertions. See section 7.3 for details on IMLA\\nand T-top/IMLA removal between insertions. The following details shall apply:', 'a. Average force to insert one EON: 15 N maximum, 22 N maximum (RAOH).\\n\\nb. Number of IMLA or T-top/IMLA assemblies to be tested: 9 (3 boards, 3 IMLA or center T-top/IMLAs\\neach).\\n\\nd. Number of readings: 1 per connector assembly or T-top/IMLA assembly tested.', 'e. Test boards: Use nominal diameter PCB’s with 0.45 mm drill diameter holes (approximately 0.36\\nmm finished holes) for grounds and 0.40 mm drill diameters (approximately 0.31 mm finished holes)\\nfor VH with Femto signals or 0.35 mm drill diameters (approximately 0.28 mm finished holes) for the\\nRAR, RAH, RAOH and VH with Atto signals, with immersion tin plating (see drawing 10119933), and\\n2.0 mm MIN overall PCB thickness', 'e. Measure and record the test board’s finished hole sizes prior to performing test.\\nf. Reference — EIA 364-05.\\n\\n7.3. Compliant Pin Retention Force.\\n\\nIMLA or T-top/IMLA assemblies shall be removed using approved fixturing. The following details shall\\n\\napply:\\n\\na. After being applied to test boards, IMLA and T-top/IMLA assemblies shall sit at room temperature\\nfor 24 hours minimum prior to being removed.', 'b. Average force to remove one EON: 2.2 N MIN.\\nc. Number of readings: 1 per IMLA or T-top/IMLA assembly tested.\\n\\nd. Test boards: Use nominal diameter PCB’s with 0.45 mm drill diameter holes (approximately 0.36\\nmm finished holes) for grounds and 0.40 mm drill diameters (approximately 0.31 mm finished holes)\\nfor VH with Femto signals or 0.35 mm drill diameters (approximately 0.28 mm finished holes) for the\\n\\n© 2018 AICC\\n\\nForm E-3701 — Revision E GS-01-029', '© 2018 AICC\\n\\nForm E-3701 — Revision E GS-01-029\\n\\nPDS: Rev :H STATUS:Released Printed: Jan 17, 2023', 'NUMBER TYPE\\nGENERAL\\nGS-12-1565 PRODUCT SPECIFICATION Amphenol ICC\\nTITLE PAGE REVISION\\n6 of 12 H\\nEXAMAX2™ and EXAMEZZ2™ Connector System AUTHORIZED BY — DATE\\nS. Minich 2023-01-13\\nCLASSIFICATION\\nUNRESTRICTED\\n\\n74\\n\\n7.5\\n\\nRAR, RAH, RAOH and VH with Atto signals, with immersion tin plating (see drawing 10119933), and\\n2.0 mm MIN overall PCB thickness.\\n\\ne. Reference — EIA 364-05.\\n\\nPCB Hole Deformation Radius and Remaining Cu Plating Thickness (compliant pin)', 'PCB Hole Deformation Radius and Remaining Cu Plating Thickness (compliant pin)\\n\\nUse nominal diameter PCB’s with 0.45 mm drill diameter holes (approximately 0.36 mm finished holes)\\nfor grounds and 0.40 mm drill diameters (approximately 0.31 mm finished holes) for VH signals or 0.35\\nmm drill diameters (approximately 0.28 mm finished holes) for the RAR and RAOH signals, with\\nimmersion tin plating (see drawing 10119933), and 2.4 mm MIN overall PCB thickness.', 'Metallographic cross-sections shall be prepared parallel to the PCB surface (transverse section) to\\nfacilitate radial hole deformation measurement, photographs, and remaining Cu plating measurement.\\n\\nPrior to cross-section preparation, perform 3 compliant pin insertions and 2 compliant pin withdrawals\\nusing full connectors or T-top/IMLA assemblies as specified in Sections 7.2 and 7.3.', 'The measurements and photographs shall be performed at 0.3 mm, [+0.2 mm,—0.1 mm] from the\\nconnector side PCB laminate (not copper) on a minimum of 10 holes. The average (of 10 holes) hole\\ndeformation radius shall be no greater than 37.5 um (0.0015”) when measured from the drilled hole.\\nThe absolute maximum deformation radius shall not exceed 50 um (0.002”). The minimum average (of\\n10 holes) copper thickness remaining between the compliant pin and the printed wiring board laminate\\nshall not be less than 7.5 ym (300 uy”). Refer to EIA-364-96.', 'PCB Hole Wall Damage', 'Use PCB’s with nominal diameter holes of 0.45 mm drill diameter (approximately 0.36 mm finished\\nholes) for grounds and 0.40 mm drill diameters (approximately 0.31 mm finished holes) for VH signals\\nor 0.35 mm drill diameters (approximately 0.28 mm finished holes) for the RAR and RAOH signals,\\nwith immersion tin plating (see drawing 10119933), and 2.4 mm MIN overall PCB thickness.\\nMetallographic cross-sections shall be prepared perpendicular to the PCB surface (longitudinal\\nsection) and through the compliant section wear track to facilitate examination of the PTH.', 'Prior to cross-section preparation, perform 3 compliant pin insertions and 2 compliant pin withdrawals\\nusing full connectors or T-top/IMLA assemblies as specified in sections 7.2 and 7.3.\\n\\nThere shall be no copper cracks, separations between conductive interfaces, or laminate-to-copper\\nseparations. Test 10 pins/holes. Refer to EIA-364-96.\\n\\n© 2018 AICC\\n\\nForm E-3701 — Revision E GS-01-029\\n\\nPDS: Rev :H STATUS:Released Printed: Jan 17, 2023', 'NUMBER\\n\\nTYPE\\n\\nGENERAL\\n\\nGS-12-1565 PRODUCT SPECIFICATION Amphenol ICC\\n\\nTITLE\\n\\nPAGE REVISION\\n7 of 12 H\\n\\nEXAMAX2™ and EXAMEZZ2™ Connector System AUTHORIZED BY DATE\\nS. Minich 2023-01-13\\n\\n8.0\\n\\nCLASSIFICATION\\nUNRESTRICTED\\n\\nEnvironmental Conditions', '8.0\\n\\nCLASSIFICATION\\nUNRESTRICTED\\n\\nEnvironmental Conditions\\n\\nAfter exposure to the following environmental conditions in accordance with the specified test procedure\\nand/or details, the product shall show no physical damage and shall meet the electrical and mechanical\\nrequirements per paragraphs 6.0 and 7.0 as specified in the Table 1 test sequences. Unless specified\\notherwise, assemblies shall be mated during exposure.\\n\\n8.1\\n\\n8.2\\n\\n8.3\\n\\n8.4\\n\\nThermal Shock — EIA 364-32.\\n\\na. Number of Cycles - 5', '8.1\\n\\n8.2\\n\\n8.3\\n\\n8.4\\n\\nThermal Shock — EIA 364-32.\\n\\na. Number of Cycles - 5\\n\\nb. Temperature Range - Between -55 and +85 deg C\\nc. Time at Each Temperature - 30 minutes minimum\\n\\nd. Transfer Time - 30 seconds, maximum', 'd. Transfer Time - 30 seconds, maximum\\n\\nHumidity — EIA 364-31 method VI (cyclic temperature)\\na. Acycle consists of the following steps:\\n1. 2 hour ramp from 25 deg C at 80-98% RH to 65 deg C at 90-98%\\n2. 4 hour dwell at 65 deg C at 90-98% RH\\n3. 2 hour ramp down to 25 deg C at 80-98% RH\\n4. 2 hour dwell at 25 deg C at 80-98% RH\\nb. Duration — 50 cycles of 10 hours (total 500 hours)\\n\\nHigh Temperature Life -EIA 364-17\\na. Method A\\n\\nb. Test Temperature - 85 deg C\\n\\nc. Test Duration - 500 hours', 'b. Test Temperature - 85 deg C\\n\\nc. Test Duration - 500 hours\\n\\nMixed Flowing Gas corrosion (MFG) — EIA 364-65\\na. Class — IIA, 4-gas\\n\\nb. Duration — 20 days\\n\\nc. 10 days unmated, 10 days mated.', 'd. Backplane and RAOH samples, backplane (VH or RAOH) connectors shall be exposed to gas\\nmixture for 10 days, then mated to unexposed receptacles and exposed to gas for an additional 10\\ndays. Coplanar, each gender (header and receptacle) shall be exposed for 10 days, and then mated\\nto unexposed connectors for an additional 10 days. For EXAMEZZ2, half the sample group is\\nexposed to gas mixture for 10 days, then mate to unexposed sample group half for an additional 10\\ndays.\\n\\n© 2018 AICC', '© 2018 AICC\\n\\nForm E-3701 — Revision E GS-01-029\\n\\nPDS: Rev :H STATUS:Released Printed: Jan 17, 2023', 'NUMBER TYPE\\nGENERAL\\nGS-12-1565 PRODUCT SPECIFICATION Amphenol ICC\\nTITLE PAGE REVISION\\n8 of 12 H\\nEXAMAX2™ and EXAMEZZ2™ Connector System AUTHORIZED BY DATE\\nS. Minich 2023-01-13\\nCLASSIFICATION\\nUNRESTRICTED\\n8.5 Salt Spray — EIA-364-26\\n\\n8.6\\n\\n8.7\\n\\n8.8\\n\\n8.9\\n\\na. Test Condition -B\\nb. Duration — 48 hours', '8.6\\n\\n8.7\\n\\n8.8\\n\\n8.9\\n\\na. Test Condition -B\\nb. Duration — 48 hours\\n\\nc. Connector on the LLCR Header board shall be unmated during salt exposure. For VH and\\nEXAMEZZ2 the PCB shall be in a horizontal orientation with connector contacts facing down and for\\nRAOH the PCB is vertical and to the right with the contacts facing forward. To prevent salt solution\\npooling in the PCB holes, the back side of the PCB shall be masked with tape.\\n\\nVibration Sinusoidal — ElA 364-28\\n\\na. Test Condition — Il', 'Vibration Sinusoidal — ElA 364-28\\n\\na. Test Condition — Il\\n\\nb. Vibration Amplitude — 1.5 mm Double Amplitude (DA) or +/- 10G\\nc. Frequency Range — 10 to 500 to 10 hertz\\n\\nd. Sweep Time and Duration — 15 minutes per sweep, 8 hours along each of three orthogonal axes\\n(24 hours total)\\n\\ne. Mounting - Rigidly mount assemblies\\n\\nf. No discontinuities greater than 1 microsecond\\n\\nMechanical Shock — ElA 364-27\\n\\na. Condition — H (30G, 11 millisecond, half-sine)', 'Mechanical Shock — ElA 364-27\\n\\na. Condition — H (30G, 11 millisecond, half-sine)\\n\\nb. Shocks - 3 shocks in both directions along each of three orthogonal axes (18 shocks total)\\nc. Mounting - Rigidly mount assemblies\\n\\nd. No discontinuities greater than 1 microsecond\\n\\nDurability - EIA 364-09\\n\\na. Number Cycles — 100 mating cycles per test sequence step (200 total cycles for Test Group 1)\\nb. Cycling Rate — 127 mm/min\\n\\nc. Use free floating fixtures', 'c. Use free floating fixtures\\n\\nDust - EIA 364-91\\na. Dust Composition # 1\\nb. Duration - 1 hour\\n\\nc. For Backplane and DMO configurations, only un-mated header connectors (VH or RAOH) shall be\\nexposed to dust. For co-planar configurations, both connectors (header and receptacle) shall be\\nexposed to dust and then mated to unexposed connectors. For EXAMEZZ2, only one half of each\\nunmated connector pair shall be exposed to dust and then mated to the unexposed connector.', 'd. IMLAs vertical in the chamber.\\n\\n8.10 Disturb — Telcordia GR-1217-CORE, December 2008, section 9.1.3.3 paragraph 5.\\n\\na. Un-mate approximate 0.10mm one time, then reseat (full mate)\\n\\n© 2018 AICC\\n\\nForm E-3701 — Revision E GS-01-029\\n\\nPDS: Rev :H STATUS:Released Printed: Jan 17, 2023', 'NUMBER TYPE\\nGENERAL\\nGS-12-1565 PRODUCT SPECIFICATION Amphenol ICC\\nTITLE PAGE REVISION\\n9 of 12 H\\nEXAMAX2™ and EXAMEZZ2™ Connector System AUTHORIZED BY DATE\\nS. Minich 2023-01-13\\nCLASSIFICATION\\nUNRESTRICTED\\n\\n9.0 QUALITY ASSURANCE PROVISIONS\\n\\n9.1 Equipment Calibration\\nAll test equipment and inspection facilities used in the performance of any test shall be maintained in a\\ncalibration system in accordance with ANSI Z-540 and ISO 9000.', '9.2 Inspection Conditions\\nUnless otherwise specified herein, all inspections shall be performed under the following ambient\\nconditions:\\na. Temperature: 25 +/- 5 deg C\\nb. Relative Humidity: 30% to 60%\\nc. Barometric Pressure: Local ambient', '9.3. Sample Quantity and Description\\nThe test sequences for qualification testing are shown in Table 1 and the connector sample sizes are\\nshown in Table 2. The number of readings is specified in the description for each test. For connector\\nsizes with fewer contacts additional samples may be required to meet the minimum number of\\nreadings for specific tests', '9.4 Acceptance\\n9.4.1 Electrical and mechanical requirements placed on test samples as indicated in paragraphs 6.0\\nand 7.0 shall be established from test data using appropriate statistical techniques or shall otherwise\\nbe customer specified, and all samples tested in accordance with this product specification shall meet\\nthe stated requirements.\\n9.4.2 Failures attributed to equipment, test setup, or operator error shall not disqualify the product. If\\nproduct failure occurs, corrective action shall be taken and samples resubmitted for qualification.', '9.5 Qualification Testing\\nQualification testing shall be performed on sample units produced with equipment and procedures\\nnormally used in production. The test sequences shall be as shown in the qualification test table. Data\\nshall be provided with the samples noting production history: production lot codes for components and\\nassemblies, verification of plating composition and thickness, etc.', '9.6 Re-Qualification Testing\\nIf any of the following conditions occur, the responsible product engineer shall initiate requalification\\ntesting consisting of all applicable parts of the qualification test matrix.\\na. A significant design change is made to the existing product which impacts the product form, fit or\\nfunction. Examples of significant changes shall include, but not be limited to, changes in the plating\\nmaterial composition or thickness, contact force, contact surface geometry, insulator design, contact\\nbase material, or contact lubrication requirements.\\nb. A significant change is made to the manufacturing process which impacts the product form, fit or\\nfunction.\\nc. A significant event occurs during production or end use requiring corrective action to be taken\\nrelative to the product design or manufacturing process.', '© 2018 AICC\\nForm E-3701 — Revision E GS-01-029\\n\\nPDS: Rev :H STATUS:Released Printed: Jan 17, 2023', 'NUMBER\\n\\nTYPE', 'GENERAL\\nGS-12-1565 PRODUCT SPECIFICATION Amphenol ICC\\nTITLE PAGE REVISION\\n10 of 12 H\\nEXAMAX2™ and EXAMEZZ2™ Connector System AUTHORIZED BY DATE\\nS. Minich 2023-01-13\\nCLASSIFICATION\\nUNRESTRICTED\\n9.7 Qualification Test Table\\nTEST GROUP ID > Pp? 1° 2 3a 3b” 4re) 5 6\\nDesign ett\\nPaes : A Thermal Thermal Vibration -\\nTEST SECTION Verification Mixed Flowing Temp Shock & Shock & & Mech. Press-Fit Salt\\nDESCRIPTION for Product Gas Life an an Evaluation Spray\\nExtensi Humidity Humidity Shock\\nlension\\nVisual Inspection (6) 5.4 1,7 1,16 1,7 1,11 1,15 1,14 1 1,5\\nMate Header and _ 2 28 2 211 28\\nReceptacle\\nUn-mate Header and _ 6 9 6\\nReceptacle\\nELECTRICAL:\\nContact Resistance 3,5,9,11,\\nLow Level LLCR 6.1 3,6 3,5,9,11,13,15 | 3,5 3,5,8,12,14 8. 24\\nInsulation Resistance 6.2 3,6,9\\nDielectric\\nWithstanding Voltage 6.3 4,7,10\\nMECHANICAL:\\nMating / Un-mating 74 43 2,6 6?\\nForce\\nCompliant Pin 72 24,6\\nInsertion Force\\nCompliant Pin 73 3,5,7\\nRetention Force : See Note 4\\nPCB Hole\\nDeformation Radius 74 8\\nPCB Wall Damage 7.5 9\\nENVIRONMENTAL:\\nThermal Shock 8.1 5 4\\nHumidity 8.2 8 13\\nHigh Temperature 83 4\\nLife\\nMFG, un-mated, 10- 8.4 7\\ndays\\nMFG, mated, 10 days 8.4 10\\nSalt Spray 8.5 3\\nVibration Sinusoidal 8.6 10\\nMechanical Shock 8.7 12\\nDurability, 100-cycles 8.8 5 4,14 7 4\\nDust 8.9 10 7\\nDisturb 8.10 12\\nTable 1: Qualification Test Matrix\\n© 2018 AICC\\nForm E-3701 — Revision E GS-01-029', 'PDS: Rev :H\\n\\nSTATUS:Released Printed: Jan 17, 2023', 'NUMBER TYPE\\nGENERAL\\nGS-12-1565 PRODUCT SPECIFICATION Amphenol ICC\\nTITLE PAGE REVISION\\n11 of 12 H\\nEXAMAX2™ and EXAMEZZ2™ Connector System AUTHORIZED BY — DATE\\nS. Minich 2023-01-13\\nCLASSIFICATION\\nUNRESTRICTED\\nTEST GROUP ID > p 1°) 2 3a 3bp® | 4@) 5 6\\nDesign . Sa\\neo Mixed Thermal | Thermal | Vibration .\\nCOMPONENT DESCRIPTION Verification | Fiowing | Te™P | Shock & | Shock& | &Mech. | Press-Fit Salt\\nfor Product | \"@ Life Humid a Evaluation | Spray\\nExtension jas jumidity | Humidity Shock', 'Number of RAR Connectors 4 4 4 4 4 4 4\\nNumber of RAR or RAH Center 9\\nT-top/IMLAs\\nNumber of VH or RAOH Connectors 4 4 4 4 4 4 9 4\\nRAR LLCR Board 4 4 4 4 3\\nVH, RAH or RAOH LLCR Board 3\\nRAR or RAH Continuity or Mechanical 1 3\\nBoard\\nVH or RAOH Continuity or Mechanical 1 3\\nBoard\\n\\nTable 2: Qualification Sample Requirements\\n\\nNotes:\\n\\n1.\\n\\nGroup P is not required for a full qualification. Group P is a design verification sequence for product extensions\\nafter a full qualification has been completed.', '2. For test group 4, LLCR is measured on 3 sample sets and one set is used for discontinuity monitoring.\\n\\n3. Record mating and un-mating forces on first three cycles of durability.\\n\\n4. The third compliant pin retention force test is performed on only one of three VH or RAOH connectors and only\\none of three RAR or RAH T-top/IMLAs. The remaining two samples proceed to steps 8 and 9 for cross\\nsectioning.', '5. For coplanar applications, additional spare header and receptacle connectors (4 each) are required for the\\nmixed flowing gas and dust sequences.\\n\\n6. Any observations of concern or question shall be documented and communicated to the responsible product\\nengineer immediately.\\n\\n7. Includes the terminal temperature rise when powered.\\n\\n© 2018 AICC\\nForm E-3701 — Revision E GS-01-029\\n\\nPDS: Rev :H STATUS:Released Printed: Jan 17, 2023', 'NUMBER TYPE\\nGENERAL\\nGS-12-1565 PRODUCT SPECIFICATION Amphenol ICC\\nTITLE PAGE REVISION\\n12 of 12 H\\nEXAMAX2™ and EXAMEZZ2™ Connector System AUTHORIZED BY — DATE\\nS. Minich 2023-01-13\\nCLASSIFICATION\\nUNRESTRICTED\\n\\nREVISION RECORD', 'Rev | Page Description EC# Date\\nA II Initial Release 2020-10-07\\nB 1-2 | Add ™ to EXAMAX2 ELX-V-39776 2021-01-26\\nCc re Update Fig 2 pic to show RAOH with screw hold-downs. Change §7.2 ELX-V-40717 2021-04-20\\nRAOH insertion force from 15 to 18 N/tail MAX.\\nD 2 Change 3.2 Current Rating “see Section 6.4” to “see AICC Power Design ELX-V-42682 2021-10-25\\nGuide GS-20-0456”. 4.1.3 add “GS-20-0456 ExaMAX ExaMAX+\\nEXAMAX2 ExaMEZZ Power Design Guide’.\\nE 4 Changed 6.1 to allow the initial resistance to be higher for larger pair sizes | ELX-V-44710 2022-05-11\\nand configurations. Changed §7.2 insertion forces from 12 to 15 and 18\\nto 22 N/tail MAX (RAOH).\\nF 7,8 Changed 8.5c to include RAOH orientation that is not the same as VH ELX-V-45347 2022-07-08\\nG 1,5, 8 | Add EXAMEZZ2 to Spec. Changed §7.2 and 7.3 to insertion retention ELX-V-46299 2022-10-28\\nforce via IMLAs/T-tops vs whole connector. Clarified §8.8a. mating cycles\\nH 4 In §6.1, add in more initial resistance value differentiation by pair and ELX-V-47020 2023-11-12\\ncolumn count and EXAMEZZ2 values.\\n© 2018 AICC\\nForm E-3701 — Revision E GS-01-029', 'PDS: Rev :H\\n\\nSTATUS:Released Printed: Jan 17, 2023', 'NUMBER TYPE\\nGENERAL\\nGS-12-1565 PRODUCT SPECIFICATION Amphenol ICC\\nTITLE PAGE REVISION\\n1 of 12 H\\nEXAMAX2™ and EXAMEZZ2™ Connector System AUTHORIZED BY DATE\\nS. Minich 2023-01-13\\nCLASSIFICATION\\nUNRESTRICTED\\n\\nEXAMAX2™ VH\\n— EXAMAX2™ RAOH\\n\\nEXAMAX2™ RAR\\nEXAMAX2™ RAR\\n\\nBACKPLANE: RIGHT ANGLE RECEPTACLE (RAR) DIRECT MATE ORTHOGONAL (DMO): RIGHT ANGLE\\nWITH VERTICAL HEADER (VH) ORTHOGONAL HEADER (RAOH) WITH RAR\\n\\nEXAMAX2™ RAR EXAMAX2™ RAH\\n\\nmills', 'EXAMAX2™ RAR EXAMAX2™ RAH\\n\\nmills\\n\\nCOPLANAR: RIGHT ANGLE RECEPTACLE (RAR) EXAMEZZ2™: HERMAPHRODITIC MEZZANINE\\nWITH RIGHT ANGLE HEADER (RAH)\\n\\n© 2018 AICC\\n\\nForm E-3701 — Revision E GS-01-029\\n\\nPDS: Rev :H STATUS:Released Printed: Jan 17, 2023', 'NUMBER TYPE\\nGENERAL\\nGS-12-1565 PRODUCT SPECIFICATION Amphenol ICC\\nTITLE PAGE REVISION\\n2 of 12 H\\nEXAMAX2™ and EXAMEZZ2™ Connector System AUTHORIZED BY — DATE\\nS. Minich 2023-01-13\\nCLASSIFICATION\\nUNRESTRICTED\\n\\n1.0 Objective\\nThis specification defines the performance, test, quality and reliability requirements of the EXAMAX2™ and\\nEXAMEZZ2™ press-fit connector system product.\\n\\n2.0 Scope', 'This specification is applicable to the EXAMAX2™ and EXAMEZZ2™ press-fit family of products which\\nprovides high speed board-to-board interconnect for differential pairs and single-ended lines. Connectors\\ninclude configurations of the Right Angle Receptacle (RAR), Vertical Header (VH), Right Angle Orthogonal\\nHeader (RAOH), Right Angle Header (RAH), Vertical Receptacle (VR) and EXAMEZZ2 Hermaphroditic\\nMezzanine connectors. The test sequences defined in this specification meet the intent of Telcordia GR-\\n1217-CORE requirements.', '3.0 Ratings\\n3.1. Operating Voltage Rating\\n- Agency Voltage Rating < 30 VAC RMS / DC\\n- Non-Agency Voltage Rating = 150 Vac RMS or Voc Maximum\\n3.2 Operating Current Rating: See AICC Power Design Guide GS-20-0456\\n3.3. Operating Temperature Range = -55 to 85 °C’\\n\\n4.0 Applicable Documents', '4.1. AFCI Specifications\\n4.1.1 Engineering drawings\\n- AFCI product customer drawings (various)\\n- AFCl customer drawing 10119933 (Recommended Via Drill Sizes and Plating)\\n4.1.2 Process drawings\\n- AFCI product inspection drawings (various)\\n4.1.3 Application specification(s)\\n- GS-20-0626 (EXAMAX2 Connector System, press-fit products)\\n- GS-20-0760 (EXAMEZZ2 Connector System, press-fit products)\\n- GS-20-0456 ExaMAX ExaMAX+ EXAMAX2 ExaMEZZ Power Design Guide\\n4.1.4 Material specification(s)\\n- AFCI product inspection drawings (various)', '4.2 Industry or Trade Association standards\\nTelcordia GR-1217-CORE (Separable Electrical Connectors Used in Telecommunications Hardware).\\n\\n© 2018 AICC\\n\\nForm E-3701 — Revision E GS-01-029\\n\\nPDS: Rev :H STATUS:Released Printed: Jan 17, 2023', 'NUMBER\\n\\nTYPE\\n\\nGENERAL\\nGS-12-1565 PRODUCT SPECIFICATION Amphenol ICC\\n\\nTITLE PAGE REVISION\\n3 of 12 H\\nEXAMAX2™ and EXAMEZZ2™ Connector System AUTHORIZED BY DATE\\nS. Minich 2023-01-13\\nCLASSIFICATION\\nUNRESTRICTED\\n\\n4.3\\n\\n44\\n\\n45\\n\\nNational or International Standards\\n\\n4.3.1 Flammability: UL94V-0 or similar applicable specification\\n\\n4.3.2 EIA 364: Electrical Connector/Socket Test Procedures Including Environmental Classifications.\\n4.3.3 IEC 60512: Connectors for Electronic Equipment — Tests and Measurement', 'AFCI Laboratory Reports - Supporting Data\\n\\nSafety Agency Approvals\\n- UL File Number: E66906\\n\\n5.0 Requirements\\n\\n5.1 Qualification\\nConnectors furnished under this specification shall be capable of meeting the qualification test\\nrequirements specified herein.\\n\\n5.2 Material\\nThe material for each component shall be as specified herein or equivalent.\\n- Contacts: Copper Alloy\\n- Housings, Press-Fit Tail Organizer, and IMLAs: High temperature thermoplastic; UL 94V-0\\n\\ncompliant.', 'compliant.\\n\\n- Metal Organizer: Stainless Steel\\n\\n5.3. Finish\\nThe finish for applicable components shall be as specified herein or equivalent.\\n- Contact Areas: Performance-based plating, qualified to meet the requirements of this specification,\\n\\nincluding Telcordia GR-1217-CORE (November 1995) Central Office test sequence.\\n\\n-  Press-fit tails: Tin over Nickel', '-  Press-fit tails: Tin over Nickel\\n\\n5.4 Design and Construction\\nConnectors shall be visually examined at 10X magnification per EIA-364-18.\\nConnectors shall be of the design, construction, and physical dimensions specified on the applicable\\nproduct drawing. There shall be no cracks, burrs, or other physical defects that may impair\\nperformance.\\n\\n© 2018 AICC\\nForm E-3701 — Revision E GS-01-029\\n\\nPDS: Rev :H STATUS:Released Printed: Jan 17, 2023', 'NUMBER TYPE\\nGENERAL\\nGS-12-1565 PRODUCT SPECIFICATION Amphenol ICC\\nTITLE PAGE REVISION\\n4 of 12 H\\nEXAMAX2™ and EXAMEZZ2™ Connector System AUTHORIZED BY DATE\\nS. Minich 2023-01-13\\nCLASSIFICATION\\nUNRESTRICTED\\n\\n6.0 Electrical Characteristics', '6.1. Contact Resistance, Low Level (LLCR)\\nThe low level contact resistance for 2 to 6-pair configurations shall not initially exceed 60 milliohms for\\nBackplane (VH to RAR), or 100 millionms Coplanar (RAR to RAH), or 110 milliohms for DMO (RAOH\\nto RAR) up to 6-pair x 12 columns/rows. For 6-pair DMO above 12-columns/rows, each 2 additional\\ncolumns/rows, another 10 milliohms initial resistance is allowed. For 8 pair Backplane (RAR to VH),\\nthe initial resistance shall not exceed 100 milliohms. For an 8-pair x 8 column/row DMO, the initial\\nresistance shall not exceed 110 milliohms. For each 2 additional columns/rows, another 10 milliohms\\ninitial resistance is allowed. For example, an 8-pair x 16 column RAR mated to an RAOH shall not\\nhave an initial resistance in column/row 16 greater than 150 milliohms. For EXAMEZZ2, stack heights\\nunder 42mm shall not initially exceed 60 milliohms. The low level contact resistance shall also not\\nexceed 10 milliohms increase in resistance (from the initial measurement) after any treatment and/or\\nenvironmental exposure. Measurements shall be in accordance with EIA 364-23.\\nThe following details shall apply:\\na. Method of Connection — Specially designed LLCR Test Boards will be made in conjunction with the\\nTest Laboratory.\\nb. Test Voltage — 20 milli-volts DC max open circuit.\\nc. Test Current — Not to exceed 100 milliamperes.\\nd. Number of Readings — 500 minimum.', '6.2 Insulation Resistance\\nThe insulation resistance of mated connectors shall not be less than 1000 Mohms initially and after\\nenvironmental exposure.\\nMeasurements shall be in accordance with EIA 364-21.\\nThe following details shall apply:\\na. Test Voltage — 500 volts DC.\\nb. Electrification Time — 60 seconds, unless otherwise specified.\\nc. Points of Measurement - Between signal-to-signal and signal-to-ground within the same IMLA.\\nd. Number of Readings — 40 (10 readings per loose-piece connector set).', '6.3 Dielectric Withstanding Voltage\\nThere shall be no evidence of arc-over, insulation breakdown, or excessive leakage current > 0.50 mA\\n(milli-amperes) when mated connectors are tested in accordance to EIA 364-20.\\nThe following details shall apply:\\na. Test Voltage — 500 volts DC.\\nb. Test Duration — 60 seconds.\\nc. Test Condition - 1 (760 Torr - sea level).\\nd. Points of Measurement - Between signal-to-signal and signal-to-ground within the same IMLA.\\ne. Number of Readings — 40 (10 readings per loose-piece connector set).', '© 2018 AICC\\nForm E-3701 — Revision E GS-01-029\\n\\nPDS: Rev :H STATUS:Released Printed: Jan 17, 2023', 'NUMBER TYPE\\nGENERAL\\nGS-12-1565 PRODUCT SPECIFICATION Amphenol ICC\\nTITLE PAGE REVISION\\n5 of 12 H\\nEXAMAX2™ and EXAMEZZ2™ Connector System AUTHORIZED BY — DATE\\nS. Minich 2023-01-13\\nCLASSIFICATION\\nUNRESTRICTED\\n\\n7.0 Mechanical Characteristics\\n\\n7.1 Mating/Un-mating Force\\n\\nThe force to mate a receptacle connector and compatible header shall not exceed 0.45 N per contact.\\nThe un-mating force shall not be less than 0.10 N per contact.\\n\\nThe following details shall apply:', 'The following details shall apply:\\n\\na. Cross Head Speed — 25.4 mm per minute.\\nb. Utilize free floating fixtures.\\n\\nc. Reference — EIA 364-13.\\n\\n7.2 Compliant Pin Insertion Force.', 'EXAMAX2 / EXAMEZZ2 IMLAs or T-top/IMLA assemblies shall be applied using approved fixturing.\\nThere must be at least 10 compliant pins of each size under test (if different) per assembly. Testing\\nshall consist of three boards that will have three IMLA or center T-top/IMLA assemblies inserted into\\neach board in order to simulate three insertion repair cycles. The assemblies can be inserted into any\\nset of holes, but the same holes shall be used for all 3 insertions. See section 7.3 for details on IMLA\\nand T-top/IMLA removal between insertions. The following details shall apply:', 'a. Average force to insert one EON: 15 N maximum, 22 N maximum (RAOH).\\n\\nb. Number of IMLA or T-top/IMLA assemblies to be tested: 9 (3 boards, 3 IMLA or center T-top/IMLAs\\neach).\\n\\nd. Number of readings: 1 per connector assembly or T-top/IMLA assembly tested.', 'e. Test boards: Use nominal diameter PCB’s with 0.45 mm drill diameter holes (approximately 0.36\\nmm finished holes) for grounds and 0.40 mm drill diameters (approximately 0.31 mm finished holes)\\nfor VH with Femto signals or 0.35 mm drill diameters (approximately 0.28 mm finished holes) for the\\nRAR, RAH, RAOH and VH with Atto signals, with immersion tin plating (see drawing 10119933), and\\n2.0 mm MIN overall PCB thickness', 'e. Measure and record the test board’s finished hole sizes prior to performing test.\\nf. Reference — EIA 364-05.\\n\\n7.3. Compliant Pin Retention Force.\\n\\nIMLA or T-top/IMLA assemblies shall be removed using approved fixturing. The following details shall\\n\\napply:\\n\\na. After being applied to test boards, IMLA and T-top/IMLA assemblies shall sit at room temperature\\nfor 24 hours minimum prior to being removed.', 'b. Average force to remove one EON: 2.2 N MIN.\\nc. Number of readings: 1 per IMLA or T-top/IMLA assembly tested.\\n\\nd. Test boards: Use nominal diameter PCB’s with 0.45 mm drill diameter holes (approximately 0.36\\nmm finished holes) for grounds and 0.40 mm drill diameters (approximately 0.31 mm finished holes)\\nfor VH with Femto signals or 0.35 mm drill diameters (approximately 0.28 mm finished holes) for the\\n\\n© 2018 AICC\\n\\nForm E-3701 — Revision E GS-01-029', '© 2018 AICC\\n\\nForm E-3701 — Revision E GS-01-029\\n\\nPDS: Rev :H STATUS:Released Printed: Jan 17, 2023', 'NUMBER TYPE\\nGENERAL\\nGS-12-1565 PRODUCT SPECIFICATION Amphenol ICC\\nTITLE PAGE REVISION\\n6 of 12 H\\nEXAMAX2™ and EXAMEZZ2™ Connector System AUTHORIZED BY — DATE\\nS. Minich 2023-01-13\\nCLASSIFICATION\\nUNRESTRICTED\\n\\n74\\n\\n7.5\\n\\nRAR, RAH, RAOH and VH with Atto signals, with immersion tin plating (see drawing 10119933), and\\n2.0 mm MIN overall PCB thickness.\\n\\ne. Reference — EIA 364-05.\\n\\nPCB Hole Deformation Radius and Remaining Cu Plating Thickness (compliant pin)', 'PCB Hole Deformation Radius and Remaining Cu Plating Thickness (compliant pin)\\n\\nUse nominal diameter PCB’s with 0.45 mm drill diameter holes (approximately 0.36 mm finished holes)\\nfor grounds and 0.40 mm drill diameters (approximately 0.31 mm finished holes) for VH signals or 0.35\\nmm drill diameters (approximately 0.28 mm finished holes) for the RAR and RAOH signals, with\\nimmersion tin plating (see drawing 10119933), and 2.4 mm MIN overall PCB thickness.', 'Metallographic cross-sections shall be prepared parallel to the PCB surface (transverse section) to\\nfacilitate radial hole deformation measurement, photographs, and remaining Cu plating measurement.\\n\\nPrior to cross-section preparation, perform 3 compliant pin insertions and 2 compliant pin withdrawals\\nusing full connectors or T-top/IMLA assemblies as specified in Sections 7.2 and 7.3.', 'The measurements and photographs shall be performed at 0.3 mm, [+0.2 mm,—0.1 mm] from the\\nconnector side PCB laminate (not copper) on a minimum of 10 holes. The average (of 10 holes) hole\\ndeformation radius shall be no greater than 37.5 um (0.0015”) when measured from the drilled hole.\\nThe absolute maximum deformation radius shall not exceed 50 um (0.002”). The minimum average (of\\n10 holes) copper thickness remaining between the compliant pin and the printed wiring board laminate\\nshall not be less than 7.5 ym (300 uy”). Refer to EIA-364-96.', 'PCB Hole Wall Damage', 'Use PCB’s with nominal diameter holes of 0.45 mm drill diameter (approximately 0.36 mm finished\\nholes) for grounds and 0.40 mm drill diameters (approximately 0.31 mm finished holes) for VH signals\\nor 0.35 mm drill diameters (approximately 0.28 mm finished holes) for the RAR and RAOH signals,\\nwith immersion tin plating (see drawing 10119933), and 2.4 mm MIN overall PCB thickness.\\nMetallographic cross-sections shall be prepared perpendicular to the PCB surface (longitudinal\\nsection) and through the compliant section wear track to facilitate examination of the PTH.', 'Prior to cross-section preparation, perform 3 compliant pin insertions and 2 compliant pin withdrawals\\nusing full connectors or T-top/IMLA assemblies as specified in sections 7.2 and 7.3.\\n\\nThere shall be no copper cracks, separations between conductive interfaces, or laminate-to-copper\\nseparations. Test 10 pins/holes. Refer to EIA-364-96.\\n\\n© 2018 AICC\\n\\nForm E-3701 — Revision E GS-01-029\\n\\nPDS: Rev :H STATUS:Released Printed: Jan 17, 2023', 'NUMBER\\n\\nTYPE\\n\\nGENERAL\\n\\nGS-12-1565 PRODUCT SPECIFICATION Amphenol ICC\\n\\nTITLE\\n\\nPAGE REVISION\\n7 of 12 H\\n\\nEXAMAX2™ and EXAMEZZ2™ Connector System AUTHORIZED BY DATE\\nS. Minich 2023-01-13\\n\\n8.0\\n\\nCLASSIFICATION\\nUNRESTRICTED\\n\\nEnvironmental Conditions', '8.0\\n\\nCLASSIFICATION\\nUNRESTRICTED\\n\\nEnvironmental Conditions\\n\\nAfter exposure to the following environmental conditions in accordance with the specified test procedure\\nand/or details, the product shall show no physical damage and shall meet the electrical and mechanical\\nrequirements per paragraphs 6.0 and 7.0 as specified in the Table 1 test sequences. Unless specified\\notherwise, assemblies shall be mated during exposure.\\n\\n8.1\\n\\n8.2\\n\\n8.3\\n\\n8.4\\n\\nThermal Shock — EIA 364-32.\\n\\na. Number of Cycles - 5', '8.1\\n\\n8.2\\n\\n8.3\\n\\n8.4\\n\\nThermal Shock — EIA 364-32.\\n\\na. Number of Cycles - 5\\n\\nb. Temperature Range - Between -55 and +85 deg C\\nc. Time at Each Temperature - 30 minutes minimum\\n\\nd. Transfer Time - 30 seconds, maximum', 'd. Transfer Time - 30 seconds, maximum\\n\\nHumidity — EIA 364-31 method VI (cyclic temperature)\\na. Acycle consists of the following steps:\\n1. 2 hour ramp from 25 deg C at 80-98% RH to 65 deg C at 90-98%\\n2. 4 hour dwell at 65 deg C at 90-98% RH\\n3. 2 hour ramp down to 25 deg C at 80-98% RH\\n4. 2 hour dwell at 25 deg C at 80-98% RH\\nb. Duration — 50 cycles of 10 hours (total 500 hours)\\n\\nHigh Temperature Life -EIA 364-17\\na. Method A\\n\\nb. Test Temperature - 85 deg C\\n\\nc. Test Duration - 500 hours', 'b. Test Temperature - 85 deg C\\n\\nc. Test Duration - 500 hours\\n\\nMixed Flowing Gas corrosion (MFG) — EIA 364-65\\na. Class — IIA, 4-gas\\n\\nb. Duration — 20 days\\n\\nc. 10 days unmated, 10 days mated.', 'd. Backplane and RAOH samples, backplane (VH or RAOH) connectors shall be exposed to gas\\nmixture for 10 days, then mated to unexposed receptacles and exposed to gas for an additional 10\\ndays. Coplanar, each gender (header and receptacle) shall be exposed for 10 days, and then mated\\nto unexposed connectors for an additional 10 days. For EXAMEZZ2, half the sample group is\\nexposed to gas mixture for 10 days, then mate to unexposed sample group half for an additional 10\\ndays.\\n\\n© 2018 AICC', '© 2018 AICC\\n\\nForm E-3701 — Revision E GS-01-029\\n\\nPDS: Rev :H STATUS:Released Printed: Jan 17, 2023', 'NUMBER TYPE\\nGENERAL\\nGS-12-1565 PRODUCT SPECIFICATION Amphenol ICC\\nTITLE PAGE REVISION\\n8 of 12 H\\nEXAMAX2™ and EXAMEZZ2™ Connector System AUTHORIZED BY DATE\\nS. Minich 2023-01-13\\nCLASSIFICATION\\nUNRESTRICTED\\n8.5 Salt Spray — EIA-364-26\\n\\n8.6\\n\\n8.7\\n\\n8.8\\n\\n8.9\\n\\na. Test Condition -B\\nb. Duration — 48 hours', '8.6\\n\\n8.7\\n\\n8.8\\n\\n8.9\\n\\na. Test Condition -B\\nb. Duration — 48 hours\\n\\nc. Connector on the LLCR Header board shall be unmated during salt exposure. For VH and\\nEXAMEZZ2 the PCB shall be in a horizontal orientation with connector contacts facing down and for\\nRAOH the PCB is vertical and to the right with the contacts facing forward. To prevent salt solution\\npooling in the PCB holes, the back side of the PCB shall be masked with tape.\\n\\nVibration Sinusoidal — ElA 364-28\\n\\na. Test Condition — Il', 'Vibration Sinusoidal — ElA 364-28\\n\\na. Test Condition — Il\\n\\nb. Vibration Amplitude — 1.5 mm Double Amplitude (DA) or +/- 10G\\nc. Frequency Range — 10 to 500 to 10 hertz\\n\\nd. Sweep Time and Duration — 15 minutes per sweep, 8 hours along each of three orthogonal axes\\n(24 hours total)\\n\\ne. Mounting - Rigidly mount assemblies\\n\\nf. No discontinuities greater than 1 microsecond\\n\\nMechanical Shock — ElA 364-27\\n\\na. Condition — H (30G, 11 millisecond, half-sine)', 'Mechanical Shock — ElA 364-27\\n\\na. Condition — H (30G, 11 millisecond, half-sine)\\n\\nb. Shocks - 3 shocks in both directions along each of three orthogonal axes (18 shocks total)\\nc. Mounting - Rigidly mount assemblies\\n\\nd. No discontinuities greater than 1 microsecond\\n\\nDurability - EIA 364-09\\n\\na. Number Cycles — 100 mating cycles per test sequence step (200 total cycles for Test Group 1)\\nb. Cycling Rate — 127 mm/min\\n\\nc. Use free floating fixtures', 'c. Use free floating fixtures\\n\\nDust - EIA 364-91\\na. Dust Composition # 1\\nb. Duration - 1 hour\\n\\nc. For Backplane and DMO configurations, only un-mated header connectors (VH or RAOH) shall be\\nexposed to dust. For co-planar configurations, both connectors (header and receptacle) shall be\\nexposed to dust and then mated to unexposed connectors. For EXAMEZZ2, only one half of each\\nunmated connector pair shall be exposed to dust and then mated to the unexposed connector.', 'd. IMLAs vertical in the chamber.\\n\\n8.10 Disturb — Telcordia GR-1217-CORE, December 2008, section 9.1.3.3 paragraph 5.\\n\\na. Un-mate approximate 0.10mm one time, then reseat (full mate)\\n\\n© 2018 AICC\\n\\nForm E-3701 — Revision E GS-01-029\\n\\nPDS: Rev :H STATUS:Released Printed: Jan 17, 2023', 'NUMBER TYPE\\nGENERAL\\nGS-12-1565 PRODUCT SPECIFICATION Amphenol ICC\\nTITLE PAGE REVISION\\n9 of 12 H\\nEXAMAX2™ and EXAMEZZ2™ Connector System AUTHORIZED BY DATE\\nS. Minich 2023-01-13\\nCLASSIFICATION\\nUNRESTRICTED\\n\\n9.0 QUALITY ASSURANCE PROVISIONS\\n\\n9.1 Equipment Calibration\\nAll test equipment and inspection facilities used in the performance of any test shall be maintained in a\\ncalibration system in accordance with ANSI Z-540 and ISO 9000.', '9.2 Inspection Conditions\\nUnless otherwise specified herein, all inspections shall be performed under the following ambient\\nconditions:\\na. Temperature: 25 +/- 5 deg C\\nb. Relative Humidity: 30% to 60%\\nc. Barometric Pressure: Local ambient', '9.3. Sample Quantity and Description\\nThe test sequences for qualification testing are shown in Table 1 and the connector sample sizes are\\nshown in Table 2. The number of readings is specified in the description for each test. For connector\\nsizes with fewer contacts additional samples may be required to meet the minimum number of\\nreadings for specific tests', '9.4 Acceptance\\n9.4.1 Electrical and mechanical requirements placed on test samples as indicated in paragraphs 6.0\\nand 7.0 shall be established from test data using appropriate statistical techniques or shall otherwise\\nbe customer specified, and all samples tested in accordance with this product specification shall meet\\nthe stated requirements.\\n9.4.2 Failures attributed to equipment, test setup, or operator error shall not disqualify the product. If\\nproduct failure occurs, corrective action shall be taken and samples resubmitted for qualification.', '9.5 Qualification Testing\\nQualification testing shall be performed on sample units produced with equipment and procedures\\nnormally used in production. The test sequences shall be as shown in the qualification test table. Data\\nshall be provided with the samples noting production history: production lot codes for components and\\nassemblies, verification of plating composition and thickness, etc.', '9.6 Re-Qualification Testing\\nIf any of the following conditions occur, the responsible product engineer shall initiate requalification\\ntesting consisting of all applicable parts of the qualification test matrix.\\na. A significant design change is made to the existing product which impacts the product form, fit or\\nfunction. Examples of significant changes shall include, but not be limited to, changes in the plating\\nmaterial composition or thickness, contact force, contact surface geometry, insulator design, contact\\nbase material, or contact lubrication requirements.\\nb. A significant change is made to the manufacturing process which impacts the product form, fit or\\nfunction.\\nc. A significant event occurs during production or end use requiring corrective action to be taken\\nrelative to the product design or manufacturing process.', '© 2018 AICC\\nForm E-3701 — Revision E GS-01-029\\n\\nPDS: Rev :H STATUS:Released Printed: Jan 17, 2023', 'NUMBER\\n\\nTYPE', 'GENERAL\\nGS-12-1565 PRODUCT SPECIFICATION Amphenol ICC\\nTITLE PAGE REVISION\\n10 of 12 H\\nEXAMAX2™ and EXAMEZZ2™ Connector System AUTHORIZED BY DATE\\nS. Minich 2023-01-13\\nCLASSIFICATION\\nUNRESTRICTED\\n9.7 Qualification Test Table\\nTEST GROUP ID > Pp? 1° 2 3a 3b” 4re) 5 6\\nDesign ett\\nPaes : A Thermal Thermal Vibration -\\nTEST SECTION Verification Mixed Flowing Temp Shock & Shock & & Mech. Press-Fit Salt\\nDESCRIPTION for Product Gas Life an an Evaluation Spray\\nExtensi Humidity Humidity Shock\\nlension\\nVisual Inspection (6) 5.4 1,7 1,16 1,7 1,11 1,15 1,14 1 1,5\\nMate Header and _ 2 28 2 211 28\\nReceptacle\\nUn-mate Header and _ 6 9 6\\nReceptacle\\nELECTRICAL:\\nContact Resistance 3,5,9,11,\\nLow Level LLCR 6.1 3,6 3,5,9,11,13,15 | 3,5 3,5,8,12,14 8. 24\\nInsulation Resistance 6.2 3,6,9\\nDielectric\\nWithstanding Voltage 6.3 4,7,10\\nMECHANICAL:\\nMating / Un-mating 74 43 2,6 6?\\nForce\\nCompliant Pin 72 24,6\\nInsertion Force\\nCompliant Pin 73 3,5,7\\nRetention Force : See Note 4\\nPCB Hole\\nDeformation Radius 74 8\\nPCB Wall Damage 7.5 9\\nENVIRONMENTAL:\\nThermal Shock 8.1 5 4\\nHumidity 8.2 8 13\\nHigh Temperature 83 4\\nLife\\nMFG, un-mated, 10- 8.4 7\\ndays\\nMFG, mated, 10 days 8.4 10\\nSalt Spray 8.5 3\\nVibration Sinusoidal 8.6 10\\nMechanical Shock 8.7 12\\nDurability, 100-cycles 8.8 5 4,14 7 4\\nDust 8.9 10 7\\nDisturb 8.10 12\\nTable 1: Qualification Test Matrix\\n© 2018 AICC\\nForm E-3701 — Revision E GS-01-029', 'PDS: Rev :H\\n\\nSTATUS:Released Printed: Jan 17, 2023', 'NUMBER TYPE\\nGENERAL\\nGS-12-1565 PRODUCT SPECIFICATION Amphenol ICC\\nTITLE PAGE REVISION\\n11 of 12 H\\nEXAMAX2™ and EXAMEZZ2™ Connector System AUTHORIZED BY — DATE\\nS. Minich 2023-01-13\\nCLASSIFICATION\\nUNRESTRICTED\\nTEST GROUP ID > p 1°) 2 3a 3bp® | 4@) 5 6\\nDesign . Sa\\neo Mixed Thermal | Thermal | Vibration .\\nCOMPONENT DESCRIPTION Verification | Fiowing | Te™P | Shock & | Shock& | &Mech. | Press-Fit Salt\\nfor Product | \"@ Life Humid a Evaluation | Spray\\nExtension jas jumidity | Humidity Shock', 'Number of RAR Connectors 4 4 4 4 4 4 4\\nNumber of RAR or RAH Center 9\\nT-top/IMLAs\\nNumber of VH or RAOH Connectors 4 4 4 4 4 4 9 4\\nRAR LLCR Board 4 4 4 4 3\\nVH, RAH or RAOH LLCR Board 3\\nRAR or RAH Continuity or Mechanical 1 3\\nBoard\\nVH or RAOH Continuity or Mechanical 1 3\\nBoard\\n\\nTable 2: Qualification Sample Requirements\\n\\nNotes:\\n\\n1.\\n\\nGroup P is not required for a full qualification. Group P is a design verification sequence for product extensions\\nafter a full qualification has been completed.', '2. For test group 4, LLCR is measured on 3 sample sets and one set is used for discontinuity monitoring.\\n\\n3. Record mating and un-mating forces on first three cycles of durability.\\n\\n4. The third compliant pin retention force test is performed on only one of three VH or RAOH connectors and only\\none of three RAR or RAH T-top/IMLAs. The remaining two samples proceed to steps 8 and 9 for cross\\nsectioning.', '5. For coplanar applications, additional spare header and receptacle connectors (4 each) are required for the\\nmixed flowing gas and dust sequences.\\n\\n6. Any observations of concern or question shall be documented and communicated to the responsible product\\nengineer immediately.\\n\\n7. Includes the terminal temperature rise when powered.\\n\\n© 2018 AICC\\nForm E-3701 — Revision E GS-01-029\\n\\nPDS: Rev :H STATUS:Released Printed: Jan 17, 2023', 'NUMBER TYPE\\nGENERAL\\nGS-12-1565 PRODUCT SPECIFICATION Amphenol ICC\\nTITLE PAGE REVISION\\n12 of 12 H\\nEXAMAX2™ and EXAMEZZ2™ Connector System AUTHORIZED BY — DATE\\nS. Minich 2023-01-13\\nCLASSIFICATION\\nUNRESTRICTED\\n\\nREVISION RECORD', 'Rev | Page Description EC# Date\\nA II Initial Release 2020-10-07\\nB 1-2 | Add ™ to EXAMAX2 ELX-V-39776 2021-01-26\\nCc re Update Fig 2 pic to show RAOH with screw hold-downs. Change §7.2 ELX-V-40717 2021-04-20\\nRAOH insertion force from 15 to 18 N/tail MAX.\\nD 2 Change 3.2 Current Rating “see Section 6.4” to “see AICC Power Design ELX-V-42682 2021-10-25\\nGuide GS-20-0456”. 4.1.3 add “GS-20-0456 ExaMAX ExaMAX+\\nEXAMAX2 ExaMEZZ Power Design Guide’.\\nE 4 Changed 6.1 to allow the initial resistance to be higher for larger pair sizes | ELX-V-44710 2022-05-11\\nand configurations. Changed §7.2 insertion forces from 12 to 15 and 18\\nto 22 N/tail MAX (RAOH).\\nF 7,8 Changed 8.5c to include RAOH orientation that is not the same as VH ELX-V-45347 2022-07-08\\nG 1,5, 8 | Add EXAMEZZ2 to Spec. Changed §7.2 and 7.3 to insertion retention ELX-V-46299 2022-10-28\\nforce via IMLAs/T-tops vs whole connector. Clarified §8.8a. mating cycles\\nH 4 In §6.1, add in more initial resistance value differentiation by pair and ELX-V-47020 2023-11-12\\ncolumn count and EXAMEZZ2 values.\\n© 2018 AICC\\nForm E-3701 — Revision E GS-01-029', 'PDS: Rev :H\\n\\nSTATUS:Released Printed: Jan 17, 2023', 'KYOCERA', 'Dimension\\n1608(JIS) / 0603(EIA) L ~ w ;\\nUnitmm _ a DC Bias AC Voltage\\n20 20\\n0 0\\nNut -20 _ -20\\nx. = 40\\nCharacteristic O 40 oO\\nTemp. Range -55deg to85deg GS -60 O -60\\nTemp. coeff +/-15% -80 -80\\nCapacitance 10uF -100 es errors -100\\nTolerance +/-10% 0 5 10 15 20 25 0.001 0.01 0.1 1\\nRated Voltage 25Vdc DC BIAS (V) AC voltage (Vrms)\\nS parameters(Series) Impedance/ESR Temperature Characteristics\\n—_—S11 am S71 —=—Z(0Vdc) ==Rs(0Vdc) am—OVdo me 12.5Vde\\n10 20\\n0\\n0\\n1\\n-20\\nao E -20\\n= -40 s iS\\na Sf 0.1 XS -40\\ng o o\\n~ 60 Wu S -60\\n” N 0.01\\n-80 -80\\n-100 0.001 -100\\n0.01 0.1 1 10 100 1000 0.01 0.1 1 10 100 1000 -60 -40 -20 0 20 40 60 80 100\\nFrequency (MHz) deg', 'Frequency (MHz)\\n\\nCapacitor Division', 'NUMBER TYPE\\nGENERAL\\nGS-12-1565 PRODUCT SPECIFICATION Amphenol ICC\\nTITLE PAGE REVISION\\n1 of 12 H\\nEXAMAX2™ and EXAMEZZ2™ Connector System AUTHORIZED BY DATE\\nS. Minich 2023-01-13\\nCLASSIFICATION\\nUNRESTRICTED\\n\\nEXAMAX2™ VH\\n— EXAMAX2™ RAOH\\n\\nEXAMAX2™ RAR\\nEXAMAX2™ RAR\\n\\nBACKPLANE: RIGHT ANGLE RECEPTACLE (RAR) DIRECT MATE ORTHOGONAL (DMO): RIGHT ANGLE\\nWITH VERTICAL HEADER (VH) ORTHOGONAL HEADER (RAOH) WITH RAR\\n\\nEXAMAX2™ RAR EXAMAX2™ RAH\\n\\nmills', 'EXAMAX2™ RAR EXAMAX2™ RAH\\n\\nmills\\n\\nCOPLANAR: RIGHT ANGLE RECEPTACLE (RAR) EXAMEZZ2™: HERMAPHRODITIC MEZZANINE\\nWITH RIGHT ANGLE HEADER (RAH)\\n\\n© 2018 AICC\\n\\nForm E-3701 — Revision E GS-01-029\\n\\nPDS: Rev :H STATUS:Released Printed: Jan 17, 2023', 'NUMBER TYPE\\nGENERAL\\nGS-12-1565 PRODUCT SPECIFICATION Amphenol ICC\\nTITLE PAGE REVISION\\n2 of 12 H\\nEXAMAX2™ and EXAMEZZ2™ Connector System AUTHORIZED BY — DATE\\nS. Minich 2023-01-13\\nCLASSIFICATION\\nUNRESTRICTED\\n\\n1.0 Objective\\nThis specification defines the performance, test, quality and reliability requirements of the EXAMAX2™ and\\nEXAMEZZ2™ press-fit connector system product.\\n\\n2.0 Scope', 'This specification is applicable to the EXAMAX2™ and EXAMEZZ2™ press-fit family of products which\\nprovides high speed board-to-board interconnect for differential pairs and single-ended lines. Connectors\\ninclude configurations of the Right Angle Receptacle (RAR), Vertical Header (VH), Right Angle Orthogonal\\nHeader (RAOH), Right Angle Header (RAH), Vertical Receptacle (VR) and EXAMEZZ2 Hermaphroditic\\nMezzanine connectors. The test sequences defined in this specification meet the intent of Telcordia GR-\\n1217-CORE requirements.', '3.0 Ratings\\n3.1. Operating Voltage Rating\\n- Agency Voltage Rating < 30 VAC RMS / DC\\n- Non-Agency Voltage Rating = 150 Vac RMS or Voc Maximum\\n3.2 Operating Current Rating: See AICC Power Design Guide GS-20-0456\\n3.3. Operating Temperature Range = -55 to 85 °C’\\n\\n4.0 Applicable Documents', '4.1. AFCI Specifications\\n4.1.1 Engineering drawings\\n- AFCI product customer drawings (various)\\n- AFCl customer drawing 10119933 (Recommended Via Drill Sizes and Plating)\\n4.1.2 Process drawings\\n- AFCI product inspection drawings (various)\\n4.1.3 Application specification(s)\\n- GS-20-0626 (EXAMAX2 Connector System, press-fit products)\\n- GS-20-0760 (EXAMEZZ2 Connector System, press-fit products)\\n- GS-20-0456 ExaMAX ExaMAX+ EXAMAX2 ExaMEZZ Power Design Guide\\n4.1.4 Material specification(s)\\n- AFCI product inspection drawings (various)', '4.2 Industry or Trade Association standards\\nTelcordia GR-1217-CORE (Separable Electrical Connectors Used in Telecommunications Hardware).\\n\\n© 2018 AICC\\n\\nForm E-3701 — Revision E GS-01-029\\n\\nPDS: Rev :H STATUS:Released Printed: Jan 17, 2023', 'NUMBER\\n\\nTYPE\\n\\nGENERAL\\nGS-12-1565 PRODUCT SPECIFICATION Amphenol ICC\\n\\nTITLE PAGE REVISION\\n3 of 12 H\\nEXAMAX2™ and EXAMEZZ2™ Connector System AUTHORIZED BY DATE\\nS. Minich 2023-01-13\\nCLASSIFICATION\\nUNRESTRICTED\\n\\n4.3\\n\\n44\\n\\n45\\n\\nNational or International Standards\\n\\n4.3.1 Flammability: UL94V-0 or similar applicable specification\\n\\n4.3.2 EIA 364: Electrical Connector/Socket Test Procedures Including Environmental Classifications.\\n4.3.3 IEC 60512: Connectors for Electronic Equipment — Tests and Measurement', 'AFCI Laboratory Reports - Supporting Data\\n\\nSafety Agency Approvals\\n- UL File Number: E66906\\n\\n5.0 Requirements\\n\\n5.1 Qualification\\nConnectors furnished under this specification shall be capable of meeting the qualification test\\nrequirements specified herein.\\n\\n5.2 Material\\nThe material for each component shall be as specified herein or equivalent.\\n- Contacts: Copper Alloy\\n- Housings, Press-Fit Tail Organizer, and IMLAs: High temperature thermoplastic; UL 94V-0\\n\\ncompliant.', 'compliant.\\n\\n- Metal Organizer: Stainless Steel\\n\\n5.3. Finish\\nThe finish for applicable components shall be as specified herein or equivalent.\\n- Contact Areas: Performance-based plating, qualified to meet the requirements of this specification,\\n\\nincluding Telcordia GR-1217-CORE (November 1995) Central Office test sequence.\\n\\n-  Press-fit tails: Tin over Nickel', '-  Press-fit tails: Tin over Nickel\\n\\n5.4 Design and Construction\\nConnectors shall be visually examined at 10X magnification per EIA-364-18.\\nConnectors shall be of the design, construction, and physical dimensions specified on the applicable\\nproduct drawing. There shall be no cracks, burrs, or other physical defects that may impair\\nperformance.\\n\\n© 2018 AICC\\nForm E-3701 — Revision E GS-01-029\\n\\nPDS: Rev :H STATUS:Released Printed: Jan 17, 2023', 'NUMBER TYPE\\nGENERAL\\nGS-12-1565 PRODUCT SPECIFICATION Amphenol ICC\\nTITLE PAGE REVISION\\n4 of 12 H\\nEXAMAX2™ and EXAMEZZ2™ Connector System AUTHORIZED BY DATE\\nS. Minich 2023-01-13\\nCLASSIFICATION\\nUNRESTRICTED\\n\\n6.0 Electrical Characteristics', '6.1. Contact Resistance, Low Level (LLCR)\\nThe low level contact resistance for 2 to 6-pair configurations shall not initially exceed 60 milliohms for\\nBackplane (VH to RAR), or 100 millionms Coplanar (RAR to RAH), or 110 milliohms for DMO (RAOH\\nto RAR) up to 6-pair x 12 columns/rows. For 6-pair DMO above 12-columns/rows, each 2 additional\\ncolumns/rows, another 10 milliohms initial resistance is allowed. For 8 pair Backplane (RAR to VH),\\nthe initial resistance shall not exceed 100 milliohms. For an 8-pair x 8 column/row DMO, the initial\\nresistance shall not exceed 110 milliohms. For each 2 additional columns/rows, another 10 milliohms\\ninitial resistance is allowed. For example, an 8-pair x 16 column RAR mated to an RAOH shall not\\nhave an initial resistance in column/row 16 greater than 150 milliohms. For EXAMEZZ2, stack heights\\nunder 42mm shall not initially exceed 60 milliohms. The low level contact resistance shall also not\\nexceed 10 milliohms increase in resistance (from the initial measurement) after any treatment and/or\\nenvironmental exposure. Measurements shall be in accordance with EIA 364-23.\\nThe following details shall apply:\\na. Method of Connection — Specially designed LLCR Test Boards will be made in conjunction with the\\nTest Laboratory.\\nb. Test Voltage — 20 milli-volts DC max open circuit.\\nc. Test Current — Not to exceed 100 milliamperes.\\nd. Number of Readings — 500 minimum.', '6.2 Insulation Resistance\\nThe insulation resistance of mated connectors shall not be less than 1000 Mohms initially and after\\nenvironmental exposure.\\nMeasurements shall be in accordance with EIA 364-21.\\nThe following details shall apply:\\na. Test Voltage — 500 volts DC.\\nb. Electrification Time — 60 seconds, unless otherwise specified.\\nc. Points of Measurement - Between signal-to-signal and signal-to-ground within the same IMLA.\\nd. Number of Readings — 40 (10 readings per loose-piece connector set).', '6.3 Dielectric Withstanding Voltage\\nThere shall be no evidence of arc-over, insulation breakdown, or excessive leakage current > 0.50 mA\\n(milli-amperes) when mated connectors are tested in accordance to EIA 364-20.\\nThe following details shall apply:\\na. Test Voltage — 500 volts DC.\\nb. Test Duration — 60 seconds.\\nc. Test Condition - 1 (760 Torr - sea level).\\nd. Points of Measurement - Between signal-to-signal and signal-to-ground within the same IMLA.\\ne. Number of Readings — 40 (10 readings per loose-piece connector set).', '© 2018 AICC\\nForm E-3701 — Revision E GS-01-029\\n\\nPDS: Rev :H STATUS:Released Printed: Jan 17, 2023', 'NUMBER TYPE\\nGENERAL\\nGS-12-1565 PRODUCT SPECIFICATION Amphenol ICC\\nTITLE PAGE REVISION\\n5 of 12 H\\nEXAMAX2™ and EXAMEZZ2™ Connector System AUTHORIZED BY — DATE\\nS. Minich 2023-01-13\\nCLASSIFICATION\\nUNRESTRICTED\\n\\n7.0 Mechanical Characteristics\\n\\n7.1 Mating/Un-mating Force\\n\\nThe force to mate a receptacle connector and compatible header shall not exceed 0.45 N per contact.\\nThe un-mating force shall not be less than 0.10 N per contact.\\n\\nThe following details shall apply:', 'The following details shall apply:\\n\\na. Cross Head Speed — 25.4 mm per minute.\\nb. Utilize free floating fixtures.\\n\\nc. Reference — EIA 364-13.\\n\\n7.2 Compliant Pin Insertion Force.', 'EXAMAX2 / EXAMEZZ2 IMLAs or T-top/IMLA assemblies shall be applied using approved fixturing.\\nThere must be at least 10 compliant pins of each size under test (if different) per assembly. Testing\\nshall consist of three boards that will have three IMLA or center T-top/IMLA assemblies inserted into\\neach board in order to simulate three insertion repair cycles. The assemblies can be inserted into any\\nset of holes, but the same holes shall be used for all 3 insertions. See section 7.3 for details on IMLA\\nand T-top/IMLA removal between insertions. The following details shall apply:', 'a. Average force to insert one EON: 15 N maximum, 22 N maximum (RAOH).\\n\\nb. Number of IMLA or T-top/IMLA assemblies to be tested: 9 (3 boards, 3 IMLA or center T-top/IMLAs\\neach).\\n\\nd. Number of readings: 1 per connector assembly or T-top/IMLA assembly tested.', 'e. Test boards: Use nominal diameter PCB’s with 0.45 mm drill diameter holes (approximately 0.36\\nmm finished holes) for grounds and 0.40 mm drill diameters (approximately 0.31 mm finished holes)\\nfor VH with Femto signals or 0.35 mm drill diameters (approximately 0.28 mm finished holes) for the\\nRAR, RAH, RAOH and VH with Atto signals, with immersion tin plating (see drawing 10119933), and\\n2.0 mm MIN overall PCB thickness', 'e. Measure and record the test board’s finished hole sizes prior to performing test.\\nf. Reference — EIA 364-05.\\n\\n7.3. Compliant Pin Retention Force.\\n\\nIMLA or T-top/IMLA assemblies shall be removed using approved fixturing. The following details shall\\n\\napply:\\n\\na. After being applied to test boards, IMLA and T-top/IMLA assemblies shall sit at room temperature\\nfor 24 hours minimum prior to being removed.', 'b. Average force to remove one EON: 2.2 N MIN.\\nc. Number of readings: 1 per IMLA or T-top/IMLA assembly tested.\\n\\nd. Test boards: Use nominal diameter PCB’s with 0.45 mm drill diameter holes (approximately 0.36\\nmm finished holes) for grounds and 0.40 mm drill diameters (approximately 0.31 mm finished holes)\\nfor VH with Femto signals or 0.35 mm drill diameters (approximately 0.28 mm finished holes) for the\\n\\n© 2018 AICC\\n\\nForm E-3701 — Revision E GS-01-029', '© 2018 AICC\\n\\nForm E-3701 — Revision E GS-01-029\\n\\nPDS: Rev :H STATUS:Released Printed: Jan 17, 2023', 'NUMBER TYPE\\nGENERAL\\nGS-12-1565 PRODUCT SPECIFICATION Amphenol ICC\\nTITLE PAGE REVISION\\n6 of 12 H\\nEXAMAX2™ and EXAMEZZ2™ Connector System AUTHORIZED BY — DATE\\nS. Minich 2023-01-13\\nCLASSIFICATION\\nUNRESTRICTED\\n\\n74\\n\\n7.5\\n\\nRAR, RAH, RAOH and VH with Atto signals, with immersion tin plating (see drawing 10119933), and\\n2.0 mm MIN overall PCB thickness.\\n\\ne. Reference — EIA 364-05.\\n\\nPCB Hole Deformation Radius and Remaining Cu Plating Thickness (compliant pin)', 'PCB Hole Deformation Radius and Remaining Cu Plating Thickness (compliant pin)\\n\\nUse nominal diameter PCB’s with 0.45 mm drill diameter holes (approximately 0.36 mm finished holes)\\nfor grounds and 0.40 mm drill diameters (approximately 0.31 mm finished holes) for VH signals or 0.35\\nmm drill diameters (approximately 0.28 mm finished holes) for the RAR and RAOH signals, with\\nimmersion tin plating (see drawing 10119933), and 2.4 mm MIN overall PCB thickness.', 'Metallographic cross-sections shall be prepared parallel to the PCB surface (transverse section) to\\nfacilitate radial hole deformation measurement, photographs, and remaining Cu plating measurement.\\n\\nPrior to cross-section preparation, perform 3 compliant pin insertions and 2 compliant pin withdrawals\\nusing full connectors or T-top/IMLA assemblies as specified in Sections 7.2 and 7.3.', 'The measurements and photographs shall be performed at 0.3 mm, [+0.2 mm,—0.1 mm] from the\\nconnector side PCB laminate (not copper) on a minimum of 10 holes. The average (of 10 holes) hole\\ndeformation radius shall be no greater than 37.5 um (0.0015”) when measured from the drilled hole.\\nThe absolute maximum deformation radius shall not exceed 50 um (0.002”). The minimum average (of\\n10 holes) copper thickness remaining between the compliant pin and the printed wiring board laminate\\nshall not be less than 7.5 ym (300 uy”). Refer to EIA-364-96.', 'PCB Hole Wall Damage', 'Use PCB’s with nominal diameter holes of 0.45 mm drill diameter (approximately 0.36 mm finished\\nholes) for grounds and 0.40 mm drill diameters (approximately 0.31 mm finished holes) for VH signals\\nor 0.35 mm drill diameters (approximately 0.28 mm finished holes) for the RAR and RAOH signals,\\nwith immersion tin plating (see drawing 10119933), and 2.4 mm MIN overall PCB thickness.\\nMetallographic cross-sections shall be prepared perpendicular to the PCB surface (longitudinal\\nsection) and through the compliant section wear track to facilitate examination of the PTH.', 'Prior to cross-section preparation, perform 3 compliant pin insertions and 2 compliant pin withdrawals\\nusing full connectors or T-top/IMLA assemblies as specified in sections 7.2 and 7.3.\\n\\nThere shall be no copper cracks, separations between conductive interfaces, or laminate-to-copper\\nseparations. Test 10 pins/holes. Refer to EIA-364-96.\\n\\n© 2018 AICC\\n\\nForm E-3701 — Revision E GS-01-029\\n\\nPDS: Rev :H STATUS:Released Printed: Jan 17, 2023', 'NUMBER\\n\\nTYPE\\n\\nGENERAL\\n\\nGS-12-1565 PRODUCT SPECIFICATION Amphenol ICC\\n\\nTITLE\\n\\nPAGE REVISION\\n7 of 12 H\\n\\nEXAMAX2™ and EXAMEZZ2™ Connector System AUTHORIZED BY DATE\\nS. Minich 2023-01-13\\n\\n8.0\\n\\nCLASSIFICATION\\nUNRESTRICTED\\n\\nEnvironmental Conditions', '8.0\\n\\nCLASSIFICATION\\nUNRESTRICTED\\n\\nEnvironmental Conditions\\n\\nAfter exposure to the following environmental conditions in accordance with the specified test procedure\\nand/or details, the product shall show no physical damage and shall meet the electrical and mechanical\\nrequirements per paragraphs 6.0 and 7.0 as specified in the Table 1 test sequences. Unless specified\\notherwise, assemblies shall be mated during exposure.\\n\\n8.1\\n\\n8.2\\n\\n8.3\\n\\n8.4\\n\\nThermal Shock — EIA 364-32.\\n\\na. Number of Cycles - 5', '8.1\\n\\n8.2\\n\\n8.3\\n\\n8.4\\n\\nThermal Shock — EIA 364-32.\\n\\na. Number of Cycles - 5\\n\\nb. Temperature Range - Between -55 and +85 deg C\\nc. Time at Each Temperature - 30 minutes minimum\\n\\nd. Transfer Time - 30 seconds, maximum', 'd. Transfer Time - 30 seconds, maximum\\n\\nHumidity — EIA 364-31 method VI (cyclic temperature)\\na. Acycle consists of the following steps:\\n1. 2 hour ramp from 25 deg C at 80-98% RH to 65 deg C at 90-98%\\n2. 4 hour dwell at 65 deg C at 90-98% RH\\n3. 2 hour ramp down to 25 deg C at 80-98% RH\\n4. 2 hour dwell at 25 deg C at 80-98% RH\\nb. Duration — 50 cycles of 10 hours (total 500 hours)\\n\\nHigh Temperature Life -EIA 364-17\\na. Method A\\n\\nb. Test Temperature - 85 deg C\\n\\nc. Test Duration - 500 hours', 'b. Test Temperature - 85 deg C\\n\\nc. Test Duration - 500 hours\\n\\nMixed Flowing Gas corrosion (MFG) — EIA 364-65\\na. Class — IIA, 4-gas\\n\\nb. Duration — 20 days\\n\\nc. 10 days unmated, 10 days mated.', 'd. Backplane and RAOH samples, backplane (VH or RAOH) connectors shall be exposed to gas\\nmixture for 10 days, then mated to unexposed receptacles and exposed to gas for an additional 10\\ndays. Coplanar, each gender (header and receptacle) shall be exposed for 10 days, and then mated\\nto unexposed connectors for an additional 10 days. For EXAMEZZ2, half the sample group is\\nexposed to gas mixture for 10 days, then mate to unexposed sample group half for an additional 10\\ndays.\\n\\n© 2018 AICC', '© 2018 AICC\\n\\nForm E-3701 — Revision E GS-01-029\\n\\nPDS: Rev :H STATUS:Released Printed: Jan 17, 2023', 'NUMBER TYPE\\nGENERAL\\nGS-12-1565 PRODUCT SPECIFICATION Amphenol ICC\\nTITLE PAGE REVISION\\n8 of 12 H\\nEXAMAX2™ and EXAMEZZ2™ Connector System AUTHORIZED BY DATE\\nS. Minich 2023-01-13\\nCLASSIFICATION\\nUNRESTRICTED\\n8.5 Salt Spray — EIA-364-26\\n\\n8.6\\n\\n8.7\\n\\n8.8\\n\\n8.9\\n\\na. Test Condition -B\\nb. Duration — 48 hours', '8.6\\n\\n8.7\\n\\n8.8\\n\\n8.9\\n\\na. Test Condition -B\\nb. Duration — 48 hours\\n\\nc. Connector on the LLCR Header board shall be unmated during salt exposure. For VH and\\nEXAMEZZ2 the PCB shall be in a horizontal orientation with connector contacts facing down and for\\nRAOH the PCB is vertical and to the right with the contacts facing forward. To prevent salt solution\\npooling in the PCB holes, the back side of the PCB shall be masked with tape.\\n\\nVibration Sinusoidal — ElA 364-28\\n\\na. Test Condition — Il', 'Vibration Sinusoidal — ElA 364-28\\n\\na. Test Condition — Il\\n\\nb. Vibration Amplitude — 1.5 mm Double Amplitude (DA) or +/- 10G\\nc. Frequency Range — 10 to 500 to 10 hertz\\n\\nd. Sweep Time and Duration — 15 minutes per sweep, 8 hours along each of three orthogonal axes\\n(24 hours total)\\n\\ne. Mounting - Rigidly mount assemblies\\n\\nf. No discontinuities greater than 1 microsecond\\n\\nMechanical Shock — ElA 364-27\\n\\na. Condition — H (30G, 11 millisecond, half-sine)', 'Mechanical Shock — ElA 364-27\\n\\na. Condition — H (30G, 11 millisecond, half-sine)\\n\\nb. Shocks - 3 shocks in both directions along each of three orthogonal axes (18 shocks total)\\nc. Mounting - Rigidly mount assemblies\\n\\nd. No discontinuities greater than 1 microsecond\\n\\nDurability - EIA 364-09\\n\\na. Number Cycles — 100 mating cycles per test sequence step (200 total cycles for Test Group 1)\\nb. Cycling Rate — 127 mm/min\\n\\nc. Use free floating fixtures', 'c. Use free floating fixtures\\n\\nDust - EIA 364-91\\na. Dust Composition # 1\\nb. Duration - 1 hour\\n\\nc. For Backplane and DMO configurations, only un-mated header connectors (VH or RAOH) shall be\\nexposed to dust. For co-planar configurations, both connectors (header and receptacle) shall be\\nexposed to dust and then mated to unexposed connectors. For EXAMEZZ2, only one half of each\\nunmated connector pair shall be exposed to dust and then mated to the unexposed connector.', 'd. IMLAs vertical in the chamber.\\n\\n8.10 Disturb — Telcordia GR-1217-CORE, December 2008, section 9.1.3.3 paragraph 5.\\n\\na. Un-mate approximate 0.10mm one time, then reseat (full mate)\\n\\n© 2018 AICC\\n\\nForm E-3701 — Revision E GS-01-029\\n\\nPDS: Rev :H STATUS:Released Printed: Jan 17, 2023', 'NUMBER TYPE\\nGENERAL\\nGS-12-1565 PRODUCT SPECIFICATION Amphenol ICC\\nTITLE PAGE REVISION\\n9 of 12 H\\nEXAMAX2™ and EXAMEZZ2™ Connector System AUTHORIZED BY DATE\\nS. Minich 2023-01-13\\nCLASSIFICATION\\nUNRESTRICTED\\n\\n9.0 QUALITY ASSURANCE PROVISIONS\\n\\n9.1 Equipment Calibration\\nAll test equipment and inspection facilities used in the performance of any test shall be maintained in a\\ncalibration system in accordance with ANSI Z-540 and ISO 9000.', '9.2 Inspection Conditions\\nUnless otherwise specified herein, all inspections shall be performed under the following ambient\\nconditions:\\na. Temperature: 25 +/- 5 deg C\\nb. Relative Humidity: 30% to 60%\\nc. Barometric Pressure: Local ambient', '9.3. Sample Quantity and Description\\nThe test sequences for qualification testing are shown in Table 1 and the connector sample sizes are\\nshown in Table 2. The number of readings is specified in the description for each test. For connector\\nsizes with fewer contacts additional samples may be required to meet the minimum number of\\nreadings for specific tests', '9.4 Acceptance\\n9.4.1 Electrical and mechanical requirements placed on test samples as indicated in paragraphs 6.0\\nand 7.0 shall be established from test data using appropriate statistical techniques or shall otherwise\\nbe customer specified, and all samples tested in accordance with this product specification shall meet\\nthe stated requirements.\\n9.4.2 Failures attributed to equipment, test setup, or operator error shall not disqualify the product. If\\nproduct failure occurs, corrective action shall be taken and samples resubmitted for qualification.', '9.5 Qualification Testing\\nQualification testing shall be performed on sample units produced with equipment and procedures\\nnormally used in production. The test sequences shall be as shown in the qualification test table. Data\\nshall be provided with the samples noting production history: production lot codes for components and\\nassemblies, verification of plating composition and thickness, etc.', '9.6 Re-Qualification Testing\\nIf any of the following conditions occur, the responsible product engineer shall initiate requalification\\ntesting consisting of all applicable parts of the qualification test matrix.\\na. A significant design change is made to the existing product which impacts the product form, fit or\\nfunction. Examples of significant changes shall include, but not be limited to, changes in the plating\\nmaterial composition or thickness, contact force, contact surface geometry, insulator design, contact\\nbase material, or contact lubrication requirements.\\nb. A significant change is made to the manufacturing process which impacts the product form, fit or\\nfunction.\\nc. A significant event occurs during production or end use requiring corrective action to be taken\\nrelative to the product design or manufacturing process.', '© 2018 AICC\\nForm E-3701 — Revision E GS-01-029\\n\\nPDS: Rev :H STATUS:Released Printed: Jan 17, 2023', 'NUMBER\\n\\nTYPE', 'GENERAL\\nGS-12-1565 PRODUCT SPECIFICATION Amphenol ICC\\nTITLE PAGE REVISION\\n10 of 12 H\\nEXAMAX2™ and EXAMEZZ2™ Connector System AUTHORIZED BY DATE\\nS. Minich 2023-01-13\\nCLASSIFICATION\\nUNRESTRICTED\\n9.7 Qualification Test Table\\nTEST GROUP ID > Pp? 1° 2 3a 3b” 4re) 5 6\\nDesign ett\\nPaes : A Thermal Thermal Vibration -\\nTEST SECTION Verification Mixed Flowing Temp Shock & Shock & & Mech. Press-Fit Salt\\nDESCRIPTION for Product Gas Life an an Evaluation Spray\\nExtensi Humidity Humidity Shock\\nlension\\nVisual Inspection (6) 5.4 1,7 1,16 1,7 1,11 1,15 1,14 1 1,5\\nMate Header and _ 2 28 2 211 28\\nReceptacle\\nUn-mate Header and _ 6 9 6\\nReceptacle\\nELECTRICAL:\\nContact Resistance 3,5,9,11,\\nLow Level LLCR 6.1 3,6 3,5,9,11,13,15 | 3,5 3,5,8,12,14 8. 24\\nInsulation Resistance 6.2 3,6,9\\nDielectric\\nWithstanding Voltage 6.3 4,7,10\\nMECHANICAL:\\nMating / Un-mating 74 43 2,6 6?\\nForce\\nCompliant Pin 72 24,6\\nInsertion Force\\nCompliant Pin 73 3,5,7\\nRetention Force : See Note 4\\nPCB Hole\\nDeformation Radius 74 8\\nPCB Wall Damage 7.5 9\\nENVIRONMENTAL:\\nThermal Shock 8.1 5 4\\nHumidity 8.2 8 13\\nHigh Temperature 83 4\\nLife\\nMFG, un-mated, 10- 8.4 7\\ndays\\nMFG, mated, 10 days 8.4 10\\nSalt Spray 8.5 3\\nVibration Sinusoidal 8.6 10\\nMechanical Shock 8.7 12\\nDurability, 100-cycles 8.8 5 4,14 7 4\\nDust 8.9 10 7\\nDisturb 8.10 12\\nTable 1: Qualification Test Matrix\\n© 2018 AICC\\nForm E-3701 — Revision E GS-01-029', 'PDS: Rev :H\\n\\nSTATUS:Released Printed: Jan 17, 2023', 'NUMBER TYPE\\nGENERAL\\nGS-12-1565 PRODUCT SPECIFICATION Amphenol ICC\\nTITLE PAGE REVISION\\n11 of 12 H\\nEXAMAX2™ and EXAMEZZ2™ Connector System AUTHORIZED BY — DATE\\nS. Minich 2023-01-13\\nCLASSIFICATION\\nUNRESTRICTED\\nTEST GROUP ID > p 1°) 2 3a 3bp® | 4@) 5 6\\nDesign . Sa\\neo Mixed Thermal | Thermal | Vibration .\\nCOMPONENT DESCRIPTION Verification | Fiowing | Te™P | Shock & | Shock& | &Mech. | Press-Fit Salt\\nfor Product | \"@ Life Humid a Evaluation | Spray\\nExtension jas jumidity | Humidity Shock', 'Number of RAR Connectors 4 4 4 4 4 4 4\\nNumber of RAR or RAH Center 9\\nT-top/IMLAs\\nNumber of VH or RAOH Connectors 4 4 4 4 4 4 9 4\\nRAR LLCR Board 4 4 4 4 3\\nVH, RAH or RAOH LLCR Board 3\\nRAR or RAH Continuity or Mechanical 1 3\\nBoard\\nVH or RAOH Continuity or Mechanical 1 3\\nBoard\\n\\nTable 2: Qualification Sample Requirements\\n\\nNotes:\\n\\n1.\\n\\nGroup P is not required for a full qualification. Group P is a design verification sequence for product extensions\\nafter a full qualification has been completed.', '2. For test group 4, LLCR is measured on 3 sample sets and one set is used for discontinuity monitoring.\\n\\n3. Record mating and un-mating forces on first three cycles of durability.\\n\\n4. The third compliant pin retention force test is performed on only one of three VH or RAOH connectors and only\\none of three RAR or RAH T-top/IMLAs. The remaining two samples proceed to steps 8 and 9 for cross\\nsectioning.', '5. For coplanar applications, additional spare header and receptacle connectors (4 each) are required for the\\nmixed flowing gas and dust sequences.\\n\\n6. Any observations of concern or question shall be documented and communicated to the responsible product\\nengineer immediately.\\n\\n7. Includes the terminal temperature rise when powered.\\n\\n© 2018 AICC\\nForm E-3701 — Revision E GS-01-029\\n\\nPDS: Rev :H STATUS:Released Printed: Jan 17, 2023', 'NUMBER TYPE\\nGENERAL\\nGS-12-1565 PRODUCT SPECIFICATION Amphenol ICC\\nTITLE PAGE REVISION\\n12 of 12 H\\nEXAMAX2™ and EXAMEZZ2™ Connector System AUTHORIZED BY — DATE\\nS. Minich 2023-01-13\\nCLASSIFICATION\\nUNRESTRICTED\\n\\nREVISION RECORD', 'Rev | Page Description EC# Date\\nA II Initial Release 2020-10-07\\nB 1-2 | Add ™ to EXAMAX2 ELX-V-39776 2021-01-26\\nCc re Update Fig 2 pic to show RAOH with screw hold-downs. Change §7.2 ELX-V-40717 2021-04-20\\nRAOH insertion force from 15 to 18 N/tail MAX.\\nD 2 Change 3.2 Current Rating “see Section 6.4” to “see AICC Power Design ELX-V-42682 2021-10-25\\nGuide GS-20-0456”. 4.1.3 add “GS-20-0456 ExaMAX ExaMAX+\\nEXAMAX2 ExaMEZZ Power Design Guide’.\\nE 4 Changed 6.1 to allow the initial resistance to be higher for larger pair sizes | ELX-V-44710 2022-05-11\\nand configurations. Changed §7.2 insertion forces from 12 to 15 and 18\\nto 22 N/tail MAX (RAOH).\\nF 7,8 Changed 8.5c to include RAOH orientation that is not the same as VH ELX-V-45347 2022-07-08\\nG 1,5, 8 | Add EXAMEZZ2 to Spec. Changed §7.2 and 7.3 to insertion retention ELX-V-46299 2022-10-28\\nforce via IMLAs/T-tops vs whole connector. Clarified §8.8a. mating cycles\\nH 4 In §6.1, add in more initial resistance value differentiation by pair and ELX-V-47020 2023-11-12\\ncolumn count and EXAMEZZ2 values.\\n© 2018 AICC\\nForm E-3701 — Revision E GS-01-029', 'PDS: Rev :H\\n\\nSTATUS:Released Printed: Jan 17, 2023']}\n",
      "['d06fbfb6-8e2a-11ee-8ca3-7e0641d3cee1', 'd06fc01a-8e2a-11ee-8ca3-7e0641d3cee1', 'd06fc02e-8e2a-11ee-8ca3-7e0641d3cee1', 'd06fc042-8e2a-11ee-8ca3-7e0641d3cee1', 'd06fc060-8e2a-11ee-8ca3-7e0641d3cee1', 'd06fc06a-8e2a-11ee-8ca3-7e0641d3cee1', 'd06fc07e-8e2a-11ee-8ca3-7e0641d3cee1', 'd06fc092-8e2a-11ee-8ca3-7e0641d3cee1', 'd06fc0a6-8e2a-11ee-8ca3-7e0641d3cee1', 'd06fc0ba-8e2a-11ee-8ca3-7e0641d3cee1', 'd06fc0c4-8e2a-11ee-8ca3-7e0641d3cee1', 'd06fc0d8-8e2a-11ee-8ca3-7e0641d3cee1', 'd06fc0ec-8e2a-11ee-8ca3-7e0641d3cee1', 'd06fc100-8e2a-11ee-8ca3-7e0641d3cee1', 'd06fc10a-8e2a-11ee-8ca3-7e0641d3cee1', 'd06fc11e-8e2a-11ee-8ca3-7e0641d3cee1', 'd06fc132-8e2a-11ee-8ca3-7e0641d3cee1', 'd06fc146-8e2a-11ee-8ca3-7e0641d3cee1', 'd06fc150-8e2a-11ee-8ca3-7e0641d3cee1', 'd06fc16e-8e2a-11ee-8ca3-7e0641d3cee1', 'd06fc178-8e2a-11ee-8ca3-7e0641d3cee1', 'd06fc18c-8e2a-11ee-8ca3-7e0641d3cee1', 'd06fc1a0-8e2a-11ee-8ca3-7e0641d3cee1', 'd06fc1b4-8e2a-11ee-8ca3-7e0641d3cee1', 'd06fc1be-8e2a-11ee-8ca3-7e0641d3cee1', 'd06fc1d2-8e2a-11ee-8ca3-7e0641d3cee1', 'd06fc1e6-8e2a-11ee-8ca3-7e0641d3cee1', 'd06fc1fa-8e2a-11ee-8ca3-7e0641d3cee1', 'd06fc204-8e2a-11ee-8ca3-7e0641d3cee1', 'd06fc218-8e2a-11ee-8ca3-7e0641d3cee1', 'd06fc22c-8e2a-11ee-8ca3-7e0641d3cee1', 'd06fc240-8e2a-11ee-8ca3-7e0641d3cee1', 'd06fc254-8e2a-11ee-8ca3-7e0641d3cee1', 'd06fc268-8e2a-11ee-8ca3-7e0641d3cee1', 'd06fc27c-8e2a-11ee-8ca3-7e0641d3cee1', 'd06fc286-8e2a-11ee-8ca3-7e0641d3cee1', 'd06fc29a-8e2a-11ee-8ca3-7e0641d3cee1', 'd06fc2ae-8e2a-11ee-8ca3-7e0641d3cee1', 'd06fc2b8-8e2a-11ee-8ca3-7e0641d3cee1', 'd06fc2cc-8e2a-11ee-8ca3-7e0641d3cee1', 'd06fc2e0-8e2a-11ee-8ca3-7e0641d3cee1', 'd06fc2f4-8e2a-11ee-8ca3-7e0641d3cee1', 'd06fc2fe-8e2a-11ee-8ca3-7e0641d3cee1', 'd06fc312-8e2a-11ee-8ca3-7e0641d3cee1', 'd06fc326-8e2a-11ee-8ca3-7e0641d3cee1', 'd06fc330-8e2a-11ee-8ca3-7e0641d3cee1', 'd06fc344-8e2a-11ee-8ca3-7e0641d3cee1', 'd06fc358-8e2a-11ee-8ca3-7e0641d3cee1', 'd06fc36c-8e2a-11ee-8ca3-7e0641d3cee1', 'd06fc376-8e2a-11ee-8ca3-7e0641d3cee1', 'd06fc38a-8e2a-11ee-8ca3-7e0641d3cee1', 'd06fc39e-8e2a-11ee-8ca3-7e0641d3cee1', 'd06fc3a8-8e2a-11ee-8ca3-7e0641d3cee1', 'd06fc3bc-8e2a-11ee-8ca3-7e0641d3cee1', 'd06fc3d0-8e2a-11ee-8ca3-7e0641d3cee1', 'd06fc3e4-8e2a-11ee-8ca3-7e0641d3cee1', 'd06fc3ee-8e2a-11ee-8ca3-7e0641d3cee1', 'd06fc402-8e2a-11ee-8ca3-7e0641d3cee1', 'd06fc416-8e2a-11ee-8ca3-7e0641d3cee1', 'd06fc420-8e2a-11ee-8ca3-7e0641d3cee1', 'd06fc434-8e2a-11ee-8ca3-7e0641d3cee1', 'd17adcd2-8e2b-11ee-8ca3-7e0641d3cee1', 'd17add18-8e2b-11ee-8ca3-7e0641d3cee1', 'd17add2c-8e2b-11ee-8ca3-7e0641d3cee1', 'd17add40-8e2b-11ee-8ca3-7e0641d3cee1', 'd17add4a-8e2b-11ee-8ca3-7e0641d3cee1', 'd17add5e-8e2b-11ee-8ca3-7e0641d3cee1', 'd17add72-8e2b-11ee-8ca3-7e0641d3cee1', 'd17add7c-8e2b-11ee-8ca3-7e0641d3cee1', 'd17add90-8e2b-11ee-8ca3-7e0641d3cee1', 'd17adda4-8e2b-11ee-8ca3-7e0641d3cee1', 'd17addae-8e2b-11ee-8ca3-7e0641d3cee1', 'd17addc2-8e2b-11ee-8ca3-7e0641d3cee1', 'd17addcc-8e2b-11ee-8ca3-7e0641d3cee1', 'd17adde0-8e2b-11ee-8ca3-7e0641d3cee1', 'd17addf4-8e2b-11ee-8ca3-7e0641d3cee1', 'd17addfe-8e2b-11ee-8ca3-7e0641d3cee1', 'd17ade12-8e2b-11ee-8ca3-7e0641d3cee1', 'd17ade1c-8e2b-11ee-8ca3-7e0641d3cee1', 'd17ade30-8e2b-11ee-8ca3-7e0641d3cee1', 'd17ade3a-8e2b-11ee-8ca3-7e0641d3cee1', 'd17ade4e-8e2b-11ee-8ca3-7e0641d3cee1', 'd17ade62-8e2b-11ee-8ca3-7e0641d3cee1', 'd17ade6c-8e2b-11ee-8ca3-7e0641d3cee1', 'd17ade80-8e2b-11ee-8ca3-7e0641d3cee1', 'd17ade8a-8e2b-11ee-8ca3-7e0641d3cee1', 'd17ade9e-8e2b-11ee-8ca3-7e0641d3cee1', 'd17adea8-8e2b-11ee-8ca3-7e0641d3cee1', 'd17adebc-8e2b-11ee-8ca3-7e0641d3cee1', 'd17adec6-8e2b-11ee-8ca3-7e0641d3cee1', 'd17adeda-8e2b-11ee-8ca3-7e0641d3cee1', 'd17adee4-8e2b-11ee-8ca3-7e0641d3cee1', 'd17adef8-8e2b-11ee-8ca3-7e0641d3cee1', 'd17adf0c-8e2b-11ee-8ca3-7e0641d3cee1', 'd17adf16-8e2b-11ee-8ca3-7e0641d3cee1', 'd17adf2a-8e2b-11ee-8ca3-7e0641d3cee1', 'd17adf34-8e2b-11ee-8ca3-7e0641d3cee1', 'd17adf48-8e2b-11ee-8ca3-7e0641d3cee1', 'd17adf52-8e2b-11ee-8ca3-7e0641d3cee1', 'd17adf66-8e2b-11ee-8ca3-7e0641d3cee1', 'd17adf70-8e2b-11ee-8ca3-7e0641d3cee1', 'd17adf84-8e2b-11ee-8ca3-7e0641d3cee1', 'd17adf8e-8e2b-11ee-8ca3-7e0641d3cee1', 'd17adfa2-8e2b-11ee-8ca3-7e0641d3cee1', 'd17adfb6-8e2b-11ee-8ca3-7e0641d3cee1', 'd17adfc0-8e2b-11ee-8ca3-7e0641d3cee1', 'd17adfd4-8e2b-11ee-8ca3-7e0641d3cee1', 'd17adfde-8e2b-11ee-8ca3-7e0641d3cee1', 'd17adff2-8e2b-11ee-8ca3-7e0641d3cee1', 'd17adffc-8e2b-11ee-8ca3-7e0641d3cee1', 'd17ae010-8e2b-11ee-8ca3-7e0641d3cee1', 'd17ae01a-8e2b-11ee-8ca3-7e0641d3cee1', 'd17ae02e-8e2b-11ee-8ca3-7e0641d3cee1', 'd17ae038-8e2b-11ee-8ca3-7e0641d3cee1', 'd17ae04c-8e2b-11ee-8ca3-7e0641d3cee1', 'd17ae056-8e2b-11ee-8ca3-7e0641d3cee1', 'd17ae06a-8e2b-11ee-8ca3-7e0641d3cee1', 'd17ae074-8e2b-11ee-8ca3-7e0641d3cee1', 'd17ae088-8e2b-11ee-8ca3-7e0641d3cee1', 'd17ae092-8e2b-11ee-8ca3-7e0641d3cee1', 'd17ae0a6-8e2b-11ee-8ca3-7e0641d3cee1', 'd17ae0b0-8e2b-11ee-8ca3-7e0641d3cee1', '386713ca-8e2c-11ee-8ca3-7e0641d3cee1', '38671424-8e2c-11ee-8ca3-7e0641d3cee1', '38671438-8e2c-11ee-8ca3-7e0641d3cee1', 'cbb48bd0-8eef-11ee-8ca3-7e0641d3cee1', 'cbb48d6a-8eef-11ee-8ca3-7e0641d3cee1', 'cbb48d7e-8eef-11ee-8ca3-7e0641d3cee1', 'cbb48d92-8eef-11ee-8ca3-7e0641d3cee1', 'cbb48da6-8eef-11ee-8ca3-7e0641d3cee1', 'cbb48dba-8eef-11ee-8ca3-7e0641d3cee1', 'cbb48dc4-8eef-11ee-8ca3-7e0641d3cee1', 'cbb48dd8-8eef-11ee-8ca3-7e0641d3cee1', 'cbb48dec-8eef-11ee-8ca3-7e0641d3cee1', 'cbb48e00-8eef-11ee-8ca3-7e0641d3cee1', 'cbb48e0a-8eef-11ee-8ca3-7e0641d3cee1', 'cbb48e1e-8eef-11ee-8ca3-7e0641d3cee1', 'cbb48e32-8eef-11ee-8ca3-7e0641d3cee1', 'cbb48e3c-8eef-11ee-8ca3-7e0641d3cee1', 'cbb48e50-8eef-11ee-8ca3-7e0641d3cee1', 'cbb48e64-8eef-11ee-8ca3-7e0641d3cee1', 'cbb48e6e-8eef-11ee-8ca3-7e0641d3cee1', 'cbb48e82-8eef-11ee-8ca3-7e0641d3cee1', 'cbb48e96-8eef-11ee-8ca3-7e0641d3cee1', 'cbb48ea0-8eef-11ee-8ca3-7e0641d3cee1', 'cbb48eb4-8eef-11ee-8ca3-7e0641d3cee1', 'cbb48ebe-8eef-11ee-8ca3-7e0641d3cee1', 'cbb48ed2-8eef-11ee-8ca3-7e0641d3cee1', 'cbb48ee6-8eef-11ee-8ca3-7e0641d3cee1', 'cbb48ef0-8eef-11ee-8ca3-7e0641d3cee1', 'cbb48f04-8eef-11ee-8ca3-7e0641d3cee1', 'cbb48f18-8eef-11ee-8ca3-7e0641d3cee1', 'cbb48f22-8eef-11ee-8ca3-7e0641d3cee1', 'cbb48f36-8eef-11ee-8ca3-7e0641d3cee1', 'cbb48f40-8eef-11ee-8ca3-7e0641d3cee1', 'cbb48f54-8eef-11ee-8ca3-7e0641d3cee1', 'cbb48f68-8eef-11ee-8ca3-7e0641d3cee1', 'cbb48f72-8eef-11ee-8ca3-7e0641d3cee1', 'cbb48f86-8eef-11ee-8ca3-7e0641d3cee1', 'cbb48f9a-8eef-11ee-8ca3-7e0641d3cee1', 'cbb48fa4-8eef-11ee-8ca3-7e0641d3cee1', 'cbb48fb8-8eef-11ee-8ca3-7e0641d3cee1', 'cbb48fc2-8eef-11ee-8ca3-7e0641d3cee1', 'cbb48fd6-8eef-11ee-8ca3-7e0641d3cee1', 'cbb48fea-8eef-11ee-8ca3-7e0641d3cee1', 'cbb48ff4-8eef-11ee-8ca3-7e0641d3cee1', 'cbb49008-8eef-11ee-8ca3-7e0641d3cee1', 'cbb49012-8eef-11ee-8ca3-7e0641d3cee1', 'cbb49026-8eef-11ee-8ca3-7e0641d3cee1', 'cbb4903a-8eef-11ee-8ca3-7e0641d3cee1', 'cbb49044-8eef-11ee-8ca3-7e0641d3cee1', 'cbb49058-8eef-11ee-8ca3-7e0641d3cee1', 'cbb49062-8eef-11ee-8ca3-7e0641d3cee1', 'cbb49076-8eef-11ee-8ca3-7e0641d3cee1', 'cbb4908a-8eef-11ee-8ca3-7e0641d3cee1', 'cbb49094-8eef-11ee-8ca3-7e0641d3cee1', 'cbb490a8-8eef-11ee-8ca3-7e0641d3cee1', 'cbb490b2-8eef-11ee-8ca3-7e0641d3cee1', 'cbb490c6-8eef-11ee-8ca3-7e0641d3cee1', 'cbb490da-8eef-11ee-8ca3-7e0641d3cee1', 'cbb490e4-8eef-11ee-8ca3-7e0641d3cee1', 'cbb490f8-8eef-11ee-8ca3-7e0641d3cee1', 'cbb49102-8eef-11ee-8ca3-7e0641d3cee1', 'cbb49116-8eef-11ee-8ca3-7e0641d3cee1', 'cbb4912a-8eef-11ee-8ca3-7e0641d3cee1', 'cbb49134-8eef-11ee-8ca3-7e0641d3cee1']\n",
      "['gs-12-1565.pdf', 'gs-12-1565.pdf', 'gs-12-1565.pdf', 'gs-12-1565.pdf', 'gs-12-1565.pdf', 'gs-12-1565.pdf', 'gs-12-1565.pdf', 'gs-12-1565.pdf', 'gs-12-1565.pdf', 'gs-12-1565.pdf', 'gs-12-1565.pdf', 'gs-12-1565.pdf', 'gs-12-1565.pdf', 'gs-12-1565.pdf', 'gs-12-1565.pdf', 'gs-12-1565.pdf', 'gs-12-1565.pdf', 'gs-12-1565.pdf', 'gs-12-1565.pdf', 'gs-12-1565.pdf', 'gs-12-1565.pdf', 'gs-12-1565.pdf', 'gs-12-1565.pdf', 'gs-12-1565.pdf', 'gs-12-1565.pdf', 'gs-12-1565.pdf', 'gs-12-1565.pdf', 'gs-12-1565.pdf', 'gs-12-1565.pdf', 'gs-12-1565.pdf', 'gs-12-1565.pdf', 'gs-12-1565.pdf', 'gs-12-1565.pdf', 'gs-12-1565.pdf', 'gs-12-1565.pdf', 'gs-12-1565.pdf', 'gs-12-1565.pdf', 'gs-12-1565.pdf', 'gs-12-1565.pdf', 'gs-12-1565.pdf', 'gs-12-1565.pdf', 'gs-12-1565.pdf', 'gs-12-1565.pdf', 'gs-12-1565.pdf', 'gs-12-1565.pdf', 'gs-12-1565.pdf', 'gs-12-1565.pdf', 'gs-12-1565.pdf', 'gs-12-1565.pdf', 'gs-12-1565.pdf', 'gs-12-1565.pdf', 'gs-12-1565.pdf', 'gs-12-1565.pdf', 'gs-12-1565.pdf', 'gs-12-1565.pdf', 'gs-12-1565.pdf', 'gs-12-1565.pdf', 'gs-12-1565.pdf', 'gs-12-1565.pdf', 'gs-12-1565.pdf', 'gs-12-1565.pdf', 'gs-12-1565.pdf', 'gs-12-1565.pdf', 'gs-12-1565.pdf', 'gs-12-1565.pdf', 'gs-12-1565.pdf', 'gs-12-1565.pdf', 'gs-12-1565.pdf', 'gs-12-1565.pdf', 'gs-12-1565.pdf', 'gs-12-1565.pdf', 'gs-12-1565.pdf', 'gs-12-1565.pdf', 'gs-12-1565.pdf', 'gs-12-1565.pdf', 'gs-12-1565.pdf', 'gs-12-1565.pdf', 'gs-12-1565.pdf', 'gs-12-1565.pdf', 'gs-12-1565.pdf', 'gs-12-1565.pdf', 'gs-12-1565.pdf', 'gs-12-1565.pdf', 'gs-12-1565.pdf', 'gs-12-1565.pdf', 'gs-12-1565.pdf', 'gs-12-1565.pdf', 'gs-12-1565.pdf', 'gs-12-1565.pdf', 'gs-12-1565.pdf', 'gs-12-1565.pdf', 'gs-12-1565.pdf', 'gs-12-1565.pdf', 'gs-12-1565.pdf', 'gs-12-1565.pdf', 'gs-12-1565.pdf', 'gs-12-1565.pdf', 'gs-12-1565.pdf', 'gs-12-1565.pdf', 'gs-12-1565.pdf', 'gs-12-1565.pdf', 'gs-12-1565.pdf', 'gs-12-1565.pdf', 'gs-12-1565.pdf', 'gs-12-1565.pdf', 'gs-12-1565.pdf', 'gs-12-1565.pdf', 'gs-12-1565.pdf', 'gs-12-1565.pdf', 'gs-12-1565.pdf', 'gs-12-1565.pdf', 'gs-12-1565.pdf', 'gs-12-1565.pdf', 'gs-12-1565.pdf', 'gs-12-1565.pdf', 'gs-12-1565.pdf', 'gs-12-1565.pdf', 'gs-12-1565.pdf', 'gs-12-1565.pdf', 'gs-12-1565.pdf', 'gs-12-1565.pdf', 'gs-12-1565.pdf', 'KGM15CR51E106K-DATA.pdf', 'KGM15CR51E106K-DATA.pdf', 'KGM15CR51E106K-DATA.pdf', 'gs-12-1565.pdf', 'gs-12-1565.pdf', 'gs-12-1565.pdf', 'gs-12-1565.pdf', 'gs-12-1565.pdf', 'gs-12-1565.pdf', 'gs-12-1565.pdf', 'gs-12-1565.pdf', 'gs-12-1565.pdf', 'gs-12-1565.pdf', 'gs-12-1565.pdf', 'gs-12-1565.pdf', 'gs-12-1565.pdf', 'gs-12-1565.pdf', 'gs-12-1565.pdf', 'gs-12-1565.pdf', 'gs-12-1565.pdf', 'gs-12-1565.pdf', 'gs-12-1565.pdf', 'gs-12-1565.pdf', 'gs-12-1565.pdf', 'gs-12-1565.pdf', 'gs-12-1565.pdf', 'gs-12-1565.pdf', 'gs-12-1565.pdf', 'gs-12-1565.pdf', 'gs-12-1565.pdf', 'gs-12-1565.pdf', 'gs-12-1565.pdf', 'gs-12-1565.pdf', 'gs-12-1565.pdf', 'gs-12-1565.pdf', 'gs-12-1565.pdf', 'gs-12-1565.pdf', 'gs-12-1565.pdf', 'gs-12-1565.pdf', 'gs-12-1565.pdf', 'gs-12-1565.pdf', 'gs-12-1565.pdf', 'gs-12-1565.pdf', 'gs-12-1565.pdf', 'gs-12-1565.pdf', 'gs-12-1565.pdf', 'gs-12-1565.pdf', 'gs-12-1565.pdf', 'gs-12-1565.pdf', 'gs-12-1565.pdf', 'gs-12-1565.pdf', 'gs-12-1565.pdf', 'gs-12-1565.pdf', 'gs-12-1565.pdf', 'gs-12-1565.pdf', 'gs-12-1565.pdf', 'gs-12-1565.pdf', 'gs-12-1565.pdf', 'gs-12-1565.pdf', 'gs-12-1565.pdf', 'gs-12-1565.pdf', 'gs-12-1565.pdf', 'gs-12-1565.pdf', 'gs-12-1565.pdf']\n",
      "{ 'attribute': 'Supplier Name', 'value': 'Amphenol ICC', 'context': 'The document is titled \"GS-12-1565 PRODUCT SPECIFICATION Amphenol ICC\"' }\n",
      "{ 'attribute': 'Product Type', 'value': 'EXAMAX2™ and EXAMEZZ2™ Connector System', 'context': 'The document is titled \"GS-12-1565 PRODUCT SPECIFICATION Amphenol ICC\" and mentions the \"EXAMAX2™ and EXAMEZZ2™ Connector System\" in the title and throughout the document.' }\n",
      "{ 'attribute': 'Connector sample sizes', 'value': 'shown in Table 2', 'context': 'The connector sample sizes are shown in Table 2.' },\n",
      "{ 'attribute': 'Number of readings', 'value': 'specified in the description for each test', 'context': 'The number of readings is specified in the description for each test.' },\n",
      "{ 'attribute': 'Additional samples', 'value': 'may be required to meet the minimum number of readings for specific tests', 'context': 'For connector sizes with fewer contacts, additional samples may be required to meet the minimum number of readings for specific tests.' },\n",
      "{ 'attribute': 'Equipment Calibration', 'value': 'in accordance with ANSI Z-540 and ISO 9000', 'context': 'All test equipment and inspection facilities used in the performance of any test shall be maintained in a calibration system in accordance with ANSI Z-540 and ISO 9000.' }\n",
      "{ 'attribute': 'Orientation', 'value': 'RIGHT ANGLE', 'context': 'The document mentions \"RIGHT ANGLE RECEPTACLE (RAR)\" and \"RIGHT ANGLE WITH VERTICAL HEADER (VH) ORTHOGONAL HEADER (RAOH) WITH RAR\" which indicates the orientation of the connectors.'}, \n",
      "{ 'attribute': 'Orientation', 'value': 'ORTHOGONAL', 'context': 'The document mentions \"DIRECT MATE ORTHOGONAL (DMO)\" and \"ORTHOGONAL HEADER (RAOH) WITH RAR\" which indicates the orientation of the connectors.'}\n",
      "{ 'attribute': 'Current Rating', 'value': 'N/A', 'note': 'No information about current rating is provided in the document.' }\n",
      "{ 'attribute': 'Operating Voltage Rating', 'value': '< 30 VAC RMS / DC', 'note': 'Extracted from 3.1. Operating Voltage Rating' },\n",
      "{ 'attribute': 'Operating Voltage Rating', 'value': '150 Vac RMS or Voc Maximum', 'note': 'Extracted from 3.1. Operating Voltage Rating' }\n",
      "{ 'attribute': 'Frequency (MHz)', 'value': 'Not mentioned', 'note': 'The document does not provide any information about the frequency.' }\n",
      "{ 'attribute': 'Impedance', 'value': 'Z(0Vdc)', 'context': 'S11' },\n",
      "{ 'attribute': 'Impedance', 'value': 'Rs(0Vdc)', 'context': 'S11' }\n",
      "{ 'attribute': 'Capacitance', 'value': '10uF', 'context': 'The value of the Capacitance is mentioned as 10uF in the document.' }\n",
      "{ 'attribute': 'Temperature', 'value': '25 +/- 5 deg C', 'note': 'The document specifies that all inspections shall be performed at a temperature of 25 +/- 5 deg C' }\n"
     ]
    }
   ],
   "source": [
    "pdf_name = \"gs-12-1565.pdf\"  \n",
    "\n",
    "chain = process_pdf_and_ask(pdf_name, DOCUMENT_DIR)\n",
    "simple_prompt_answers(chain, system_message1)"
   ]
  },
  {
   "cell_type": "code",
   "execution_count": 19,
   "metadata": {},
   "outputs": [
    {
     "name": "stdout",
     "output_type": "stream",
     "text": [
      "{ 'attribute': 'Supplier Name', 'value': 'Not found', 'note': 'No information about the supplier name is mentioned in the document' }\n",
      "{ 'attribute': 'Product Type', 'value': 'EXAMAX2™ and EXAMEZZ2™ Connector System', 'context': 'The document mentions the EXAMAX2™ and EXAMEZZ2™ Connector System as the product type.' }\n",
      "{ 'attribute': 'Sample Quantity and Description', 'value': 'See Table 2 for connector sample sizes', 'context': 'The connector sample sizes are shown in Table 2' },\n",
      "{ 'attribute': 'Equipment Calibration', 'value': 'Calibration system in accordance with ANSI Z-540 and ISO 9000', 'context': 'All test equipment and inspection facilities used in the performance of any test shall be maintained in a calibration system in accordance with ANSI Z-540 and ISO 9000' }\n",
      "{ 'attribute': 'Orientation', 'value': 'RIGHT ANGLE RECEPTACLE (RAR) DIRECT MATE ORTHOGONAL (DMO): RIGHT ANGLE WITH VERTICAL HEADER (VH) ORTHOGONAL HEADER (RAOH) WITH RAR', 'context': 'The document mentions the orientation options for the EXAMAX2™ connector system. It states that the backplane can have a right angle receptacle (RAR) and can be directly mated orthogonally (DMO) with a right angle and vertical header (VH) or an orthogonal header (RAOH) with RAR.' }\n",
      "{ 'attribute': 'Current Rating', 'value': 'Not found', 'note': 'No information about current rating is mentioned in the document' }\n",
      "{ 'attribute': 'Operating Voltage Rating', 'value': '< 30 VAC RMS / DC', 'context': 'Operating Voltage Rating is mentioned as Agency Voltage Rating < 30 VAC RMS / DC' }, { 'attribute': 'Operating Voltage Rating', 'value': '150 Vac RMS or Voc Maximum', 'context': 'Operating Voltage Rating is mentioned as Non-Agency Voltage Rating = 150 Vac RMS or Voc Maximum' }\n",
      "{ 'attribute': 'Frequency', 'value': 'Not found', 'note': 'No information about frequency is mentioned in the document' }\n",
      "{ 'attribute': 'Impedance', 'value': 'Not found', 'note': 'No information about impedance is mentioned in the document' }\n",
      "{ 'attribute': 'Capacitance', 'value': 'Not found', 'note': 'No information about capacitance is mentioned in the document' }\n",
      "{ 'attribute': 'Operating Temperature Range', 'value': '-55 to 85 °C', 'context': 'Extracted from section 3.3 of the document' }\n"
     ]
    }
   ],
   "source": [
    "simple_prompt_answers(chain, system_message2)"
   ]
  },
  {
   "cell_type": "code",
   "execution_count": 32,
   "metadata": {},
   "outputs": [
    {
     "name": "stdout",
     "output_type": "stream",
     "text": [
      "{'attribute': 'Operating Voltage Rating', 'value': '< 30 VAC RMS / DC', 'note': 'Extracted from section 3.1. Operating Voltage Rating'}\n",
      "{'attribute': 'Non-Agency Voltage Rating', 'value': '150 Vac RMS or Voc Maximum', 'note': 'Extracted from section 3.1. Operating Voltage Rating'}\n",
      "{'attribute': 'Operating Current Rating', 'value': 'See AICC Power Design Guide GS-20-0456', 'note': 'Extracted from section 3.2 Operating Current Rating'}\n",
      "{'attribute': 'Operating Temperature Range', 'value': '-55 to 85 °C', 'note': 'Extracted from section 3.3. Operating Temperature Range'}\n",
      "{'attribute': 'Product Type', 'value': 'EXAMAX2™ and EXAMEZZ2™ Connector System', 'note': 'Extracted from the document title'}\n",
      "{'attribute': 'Operating Voltage Rating', 'value': '< 30 VAC RMS / DC', 'note': 'Extracted from section 3.1. Operating Voltage Rating'}\n",
      "{'attribute': 'Operating Current Rating', 'value': 'See AICC Power Design Guide GS-20-0456', 'note': 'Extracted from section 3.2 Operating Current Rating'}\n",
      "{'attribute': 'Operating Temperature Range', 'value': '-55 to 85 °C', 'note': 'Extracted from section 3.3. Operating Temperature Range'}\n",
      "{'attribute': 'Orientation', 'value': [{'attribute': 'Orientation 1', 'value': 'RIGHT ANGLE RECEPTACLE (RAR) DIRECT MATE ORTHOGONAL (DMO): RIGHT ANGLE WITH VERTICAL HEADER (VH) ORTHOGONAL HEADER (RAOH) WITH RAR'}, {'attribute': 'Orientation 2', 'value': 'EXAMAX2™ VH — EXAMAX2™ RAOH'}, {'attribute': 'Orientation 3', 'value': 'EXAMAX2™ RAR EXAMAX2™ RAR'}, {'attribute': 'Orientation 4', 'value': 'BACKPLANE: RIGHT ANGLE RECEPTACLE (RAR) DIRECT MATE ORTHOGONAL (DMO): RIGHT ANGLE WITH VERTICAL HEADER (VH) ORTHOGONAL HEADER (RAOH) WITH RAR'}, {'attribute': 'Orientation 5', 'value': 'EXAMAX2™ RAR EXAMAX2™ RAH'}]}\n",
      "{'attribute': 'Operating Current Rating', 'value': 'See AICC Power Design Guide GS-20-0456', 'note': 'The document refers to another document for the operating current rating information.'}\n",
      "{'attribute': 'Operating Voltage Rating', 'value': 'Agency Voltage Rating < 30 VAC RMS / DC, Non-Agency Voltage Rating = 150 Vac RMS or Voc Maximum', 'note': 'Extracted from section 3.1 Operating Voltage Rating'}\n",
      "{'attribute': 'Operating Voltage Rating', 'value': '< 30 VAC RMS / DC', 'note': 'Operating Voltage Rating is mentioned in section 3.1'}\n",
      "{'attribute': 'Operating Current Rating', 'value': 'See AICC Power Design Guide GS-20-0456', 'note': 'Operating Current Rating is mentioned in section 3.2'}\n",
      "{'attribute': 'Operating Temperature Range', 'value': '-55 to 85 °C', 'note': 'Operating Temperature Range is mentioned in section 3.3'}\n",
      "{'attribute': 'Impedance', 'value': 'Not found', 'note': 'No information about impedance is mentioned in the document'}\n",
      "{'attribute': 'Capacitance', 'value': 'Not found', 'note': 'No information about capacitance is mentioned in the document'}\n",
      "{'attribute': 'Operating Temperature Range', 'value': '-55 to 85 °C', 'note': 'Extracted from section 3.3 of the document'}\n"
     ]
    }
   ],
   "source": [
    "simple_prompt_answers(chain, system_message3)"
   ]
  },
  {
   "cell_type": "markdown",
   "metadata": {},
   "source": [
    "Complex prompts:"
   ]
  },
  {
   "cell_type": "code",
   "execution_count": 34,
   "metadata": {},
   "outputs": [
    {
     "name": "stdout",
     "output_type": "stream",
     "text": [
      "{ 'attribute': 'Supplier Name', 'value': 'Amphenol ICC', 'context': 'The document is titled \"GS-12-1565 PRODUCT SPECIFICATION Amphenol ICC\"' }\n",
      "{ 'attribute': 'Product Type', 'value': 'EXAMAX2™ and EXAMEZZ2™ Connector System', 'context': 'The document mentions the EXAMAX2™ and EXAMEZZ2™ Connector System in the title page and throughout the document.' }\n",
      "I'm sorry, but I couldn't find any information related to dimensions or numeric measurements in the provided document.\n",
      "{ 'attribute': 'Orientation', 'value': 'Right Angle', 'context': 'The document mentions \"Right Angle Receptacle (RAR)\" and \"Right Angle Orthogonal Header (RAOH)\" which indicate a right angle orientation.' }, { 'attribute': 'Orientation', 'value': 'Vertical', 'context': 'The document mentions \"Vertical Header (VH)\" and \"Vertical Receptacle (VR)\" which indicate a vertical orientation.' }, { 'attribute': 'Orientation', 'value': 'Orthogonal', 'context': 'The document mentions \"Right Angle Orthogonal Header (RAOH)\" which indicates an orthogonal orientation.' }, { 'attribute': 'Orientation', 'value': 'Horizontal', 'context': 'No specific mention of horizontal orientation in the document.' }, { 'attribute': 'Orientation', 'value': 'Diagonal', 'context': 'No specific mention of diagonal orientation in the document.' }, { 'attribute': 'Orientation', 'value': 'Upright', 'context': 'No specific mention of upright orientation in the document.' }, { 'attribute': 'Orientation', 'value': 'Inverted', 'context': 'No specific mention of inverted orientation in the document.' }\n",
      "{ 'attribute': 'Current Rating', 'value': 'See AICC Power Design Guide GS-20-0456', 'note': 'The current rating information is referenced to another document, AICC Power Design Guide GS-20-0456' }\n",
      "{ 'attribute': 'Operating Voltage Rating', 'value': '< 30 VAC RMS / DC', 'note': 'Extracted from 3.1. Operating Voltage Rating' },\n",
      "{ 'attribute': 'Non-Agency Voltage Rating', 'value': '150 Vac RMS or Voc Maximum', 'note': 'Extracted from 3.1. Operating Voltage Rating' }\n",
      "{ 'attribute': 'Frequency', 'value': 'Not found', 'note': 'No information about frequency is mentioned in the document.' }\n",
      "{ 'attribute': 'Impedance', 'value': 'Not found', 'note': 'The document does not contain any information about impedance.' }\n",
      "I'm sorry, but I couldn't find any information about the Capacitance attribute in the given document.\n",
      "{ 'attribute': 'Temperature', 'value': '25 +/- 5 deg C', 'context': 'The ambient temperature for inspections is specified as 25 +/- 5 deg C.' }\n"
     ]
    }
   ],
   "source": [
    "complex_prompt_answers(chain, system_message1)"
   ]
  },
  {
   "cell_type": "code",
   "execution_count": 42,
   "metadata": {},
   "outputs": [
    {
     "name": "stdout",
     "output_type": "stream",
     "text": [
      "{ 'attribute': 'Supplier Name', 'value': 'Amphenol ICC', 'context': 'The document is titled \"GS-12-1565 PRODUCT SPECIFICATION Amphenol ICC\" and the authorized by date is signed by S. Minich, indicating that Amphenol ICC is the supplier.' }\n",
      "{ 'attribute': 'Product Type', 'value': 'EXAMAX2™ and EXAMEZZ2™ Connector System', 'context': 'The document mentions the EXAMAX2™ and EXAMEZZ2™ Connector System as the product being specified.' }\n",
      "{ 'attribute': 'Dimension', 'value': 'Not found', 'note': 'No information about dimensions is mentioned in the document' }\n",
      "{ 'attribute': 'Orientation', 'value': 'Right angle', 'context': 'The document mentions \"BACKPLANE: RIGHT ANGLE RECEPTACLE (RAR) DIRECT MATE ORTHOGONAL (DMO): RIGHT ANGLE WITH VERTICAL HEADER (VH) ORTHOGONAL HEADER (RAOH) WITH RAR\" which indicates that the orientation of the connector system is right angle.' }\n",
      "{ 'attribute': 'Current Rating', 'value': 'Not found', 'note': 'No information about current rating is mentioned in the document' }\n",
      "{ 'attribute': 'Operating Voltage Rating', 'value': 'Agency Voltage Rating < 30 VAC RMS / DC, Non-Agency Voltage Rating = 150 Vac RMS or Voc Maximum', 'context': 'The document states that the Agency Voltage Rating is less than 30 VAC RMS / DC, and the Non-Agency Voltage Rating is 150 Vac RMS or Voc Maximum.' }\n",
      "{ 'attribute': 'Frequency', 'value': '10 to 500 to 10 hertz', 'context': 'Frequency Range — 10 to 500 to 10 hertz' }\n",
      "{ 'attribute': 'Impedance', 'value': 'Not found', 'note': 'No information about impedance is mentioned in the document' }\n",
      "{ 'attribute': 'Capacitance', 'value': 'Not found', 'note': 'No information about capacitance is mentioned in the document' }\n",
      "{ 'attribute': 'Temperature', 'value': '-55 to 85 °C', 'context': 'Operating Temperature Range = -55 to 85 °C' }\n"
     ]
    }
   ],
   "source": [
    "complex_prompt_answers(chain, system_message2)"
   ]
  },
  {
   "cell_type": "markdown",
   "metadata": {},
   "source": [
    "# Documents with ground truth values\n",
    "## Capacitors"
   ]
  },
  {
   "cell_type": "markdown",
   "metadata": {},
   "source": [
    "### PDF2: KGM15CR51E106K-DATA.pdf\n",
    "\n",
    "simple prompts:\n"
   ]
  },
  {
   "cell_type": "code",
   "execution_count": null,
   "metadata": {},
   "outputs": [],
   "source": [
    "pdf_name = \"KGM15CR51E106K-DATA.pdf\" \n",
    "\n",
    "chain2 = process_pdf_and_ask(pdf_name, DOCUMENT_DIR, clear_up=True)"
   ]
  },
  {
   "cell_type": "code",
   "execution_count": 42,
   "metadata": {},
   "outputs": [
    {
     "name": "stdout",
     "output_type": "stream",
     "text": [
      "I'm sorry, but I couldn't find any information about the Supplier Name in the given document.\n",
      "I'm sorry, but I couldn't find any information about the Product Type in the given document.\n",
      "{ 'attribute': 'Dimension', 'value': '1608(JIS) / 0603(EIA) L ~ w', 'note': 'Extracted from the document' }\n",
      "I'm sorry, but I couldn't find any information about the orientation in the given document.\n",
      "I'm sorry, but I couldn't find any information about the Current Rating in the given document.\n",
      "{ 'attribute': 'Unit', 'value': 'mm', 'note': 'Unit of dimension' },\n",
      "{ 'attribute': 'DC Bias Voltage', 'value': '20V', 'note': 'DC Bias Voltage value' },\n",
      "{ 'attribute': 'AC Voltage', 'value': '20V', 'note': 'AC Voltage value' },\n",
      "{ 'attribute': 'Temperature Range', 'value': '-55deg to 85deg', 'note': 'Temperature Range value' },\n",
      "{ 'attribute': 'Temperature Coefficient', 'value': '+/-15%', 'note': 'Temperature Coefficient value' },\n",
      "{ 'attribute': 'Capacitance', 'value': '10uF', 'note': 'Capacitance value' },\n",
      "{ 'attribute': 'Tolerance', 'value': '+/-10%', 'note': 'Tolerance value' },\n",
      "{ 'attribute': 'Rated Voltage', 'value': '25Vdc', 'note': 'Rated Voltage value' }\n",
      "{ 'attribute': 'Frequency', 'value': '20 MHz', 'note': 'Frequency (MHz) mentioned in the document' },\n",
      "{ 'attribute': 'Frequency', 'value': '10 MHz', 'note': 'Frequency (MHz) mentioned in the document' },\n",
      "{ 'attribute': 'Frequency', 'value': '1 MHz', 'note': 'Frequency (MHz) mentioned in the document' },\n",
      "{ 'attribute': 'Frequency', 'value': '0.1 MHz', 'note': 'Frequency (MHz) mentioned in the document' },\n",
      "{ 'attribute': 'Frequency', 'value': '0.01 MHz', 'note': 'Frequency (MHz) mentioned in the document' },\n",
      "{ 'attribute': 'Frequency', 'value': '0.001 MHz', 'note': 'Frequency (MHz) mentioned in the document' },\n",
      "{ 'attribute': 'Frequency', 'value': '0.1 MHz - 100 MHz', 'note': 'Frequency (MHz) mentioned in the document' }\n",
      "{ 'attribute': 'Impedance', 'value': 'Z(0Vdc)', 'context': 'S parameters(Series)' },\n",
      "{ 'attribute': 'Impedance', 'value': 'Rs(0Vdc)', 'context': 'S parameters(Series)' }\n",
      "{ 'attribute': 'Capacitance', 'value': '10uF', 'context': 'Found in the table under the \"Capacitance\" column' }\n",
      "{ 'attribute': 'Temperature Range', 'value': '-55deg to 85deg', 'context': 'Found in the \"Temp. Range\" section' },\n",
      "{ 'attribute': 'Temperature Coefficient', 'value': '+/-15%', 'context': 'Found in the \"Temp. coeff\" section' }\n"
     ]
    }
   ],
   "source": [
    "simple_prompt_answers(chain2, system_message1)"
   ]
  },
  {
   "cell_type": "code",
   "execution_count": 13,
   "metadata": {},
   "outputs": [
    {
     "name": "stderr",
     "output_type": "stream",
     "text": [
      "Created a chunk of size 647, which is longer than the specified 500\n"
     ]
    },
    {
     "name": "stdout",
     "output_type": "stream",
     "text": [
      "{ 'attribute': 'Supplier Name', 'value': 'KYOCERA', 'note': 'The document mentions KYOCERA as the supplier' }\n",
      "{ 'attribute': 'Product Type', 'value': 'Not found', 'note': 'No information about the product type is mentioned in the document' }\n",
      "{ 'attribute': 'Dimension', 'value': '1608(JIS) / 0603(EIA) L ~ w', 'note': 'The document mentions the dimensions as 1608(JIS) / 0603(EIA) L ~ w' }\n",
      "{ 'attribute': 'Orientation', 'value': 'Not found', 'note': 'No information about orientation is mentioned in the document' }\n",
      "{ 'attribute': 'Current Rating', 'value': 'Not found', 'note': 'No information about current rating is mentioned in the document' }\n",
      "{ 'attribute': 'Voltage', 'value': '25Vdc', 'context': 'The Rated Voltage is mentioned as 25Vdc' }\n",
      "{ 'attribute': 'Frequency', 'value': '20 MHz', 'note': 'Frequency (MHz) mentioned in the document' },\n",
      "{ 'attribute': 'Frequency', 'value': '10 MHz', 'note': 'Frequency (MHz) mentioned in the document' },\n",
      "{ 'attribute': 'Frequency', 'value': '1 MHz', 'note': 'Frequency (MHz) mentioned in the document' }\n",
      "{ 'attribute': 'Impedance', 'value': 'Not found', 'note': 'No information about impedance is mentioned in the document' }\n",
      "{ 'attribute': 'Capacitance', 'value': '10uF', 'context': 'The document mentions a capacitance value of 10uF.' }\n",
      "{ 'attribute': 'Temperature Range', 'value': '-55deg to 85deg', 'note': 'Extracted from the document' }\n"
     ]
    }
   ],
   "source": [
    "\n",
    "simple_prompt_answers(chain2, system_message2)"
   ]
  },
  {
   "cell_type": "code",
   "execution_count": 29,
   "metadata": {},
   "outputs": [
    {
     "name": "stdout",
     "output_type": "stream",
     "text": [
      "{ 'attribute': 'Supplier Name', 'value': 'KYOCERA', 'context': 'KYOCERA is mentioned at the bottom of the document' }\n",
      "{ 'attribute': 'Product Type', 'value': 'Capacitor', 'context': 'The document mentions \"Capacitance\" and \"Capacitor Division\" in the context of the information provided.' }\n",
      "{ 'attribute': 'Dimension', 'value': '1608(JIS) / 0603(EIA) L ~ w', 'note': 'The document mentions the dimensions as 1608(JIS) / 0603(EIA) for length (L) and width (w).' }\n",
      "{ 'attribute': 'Orientation', 'value': 'Not found', 'note': 'No information about orientation is mentioned in the document' }\n",
      "{ 'attribute': 'Current Rating', 'value': 'Not found', 'note': 'No information about current rating is mentioned in the document' }\n",
      "{ 'attribute': 'Voltage', 'value': '25Vdc', 'context': 'The document mentions a \"Rated Voltage\" of 25Vdc.' }\n",
      "{ 'attribute': 'Frequency', 'value': '20 MHz', 'context': 'Frequency (MHz) in the Capacitor Division' }, { 'attribute': 'Frequency', 'value': '10 MHz', 'context': 'Frequency (MHz) in the S parameters(Series) Impedance/ESR Temperature Characteristics' }\n",
      "{ 'attribute': 'Impedance', 'value': 'Not found', 'note': 'No information about impedance is mentioned in the document' }\n",
      "{ 'attribute': 'Capacitance', 'value': '10uF', 'note': 'The document mentions a capacitance value of 10 microfarads (uF).' }\n",
      "{ 'attribute': 'Temperature', 'value': '-55deg to 85deg', 'context': 'The document mentions the temperature range as -55 degrees Celsius to 85 degrees Celsius.' }\n"
     ]
    }
   ],
   "source": [
    "complex_prompt_answers(chain2, system_message2)"
   ]
  },
  {
   "cell_type": "code",
   "execution_count": 43,
   "metadata": {},
   "outputs": [
    {
     "name": "stdout",
     "output_type": "stream",
     "text": [
      "{'attribute': 'Supplier Name', 'value': 'KYOCERA', 'note': 'The supplier name is mentioned at the bottom of the document'}\n",
      "{'attribute': 'Product Type', 'value': 'Capacitor', 'note': 'The document mentions \"Capacitor Division\" in the context'}\n",
      "{'attribute': 'Dimension', 'value': '1608(JIS) / 0603(EIA) L ~ w', 'note': 'The document mentions the dimensions as 1608(JIS) / 0603(EIA) L ~ w, indicating the size of the component in millimeters.'}\n",
      "{'attribute': 'Orientation', 'value': 'Not found', 'note': 'No information about orientation is mentioned in the document'}\n",
      "{'attribute': 'Current Rating', 'value': 'Not found', 'note': 'No information about current rating is mentioned in the document'}\n",
      "{'attribute': 'Voltage', 'value': '25Vdc', 'note': 'The document mentions a rated voltage of 25Vdc.'}\n",
      "{'attribute': 'Frequency', 'value': '20 MHz', 'note': 'Extracted from the \"Frequency (MHz)\" column in the document'}\n",
      "{'attribute': 'Impedance', 'value': 'Z(0Vdc)', 'note': 'Extracted from the S parameters(Series) table'}\n",
      "{'attribute': 'Capacitance', 'value': '10uF', 'note': 'The document mentions a capacitance value of 10uF.'}\n",
      "{'attribute': 'Temperature', 'value': '-55deg to85deg', 'note': 'Temperature range mentioned in the document'}\n"
     ]
    }
   ],
   "source": [
    "complex_prompt_answers(chain2, system_message3)"
   ]
  },
  {
   "cell_type": "markdown",
   "metadata": {},
   "source": [
    "## PDF3: vzh680m2atr-1313s.pdf"
   ]
  },
  {
   "cell_type": "code",
   "execution_count": null,
   "metadata": {},
   "outputs": [],
   "source": [
    "pdf_name = \"vzh680m2atr-1313s.pdf\" \n",
    "\n",
    "chain3 = process_pdf_and_ask(pdf_name, DOCUMENT_DIR, clear_up=True)"
   ]
  },
  {
   "cell_type": "code",
   "execution_count": 39,
   "metadata": {},
   "outputs": [
    {
     "name": "stdout",
     "output_type": "stream",
     "text": [
      "{ 'attribute': 'Supplier Name', 'value': 'LELON ELECTRONICS CORP.', 'context': 'Found in the Lelon P/N section of the document' }\n",
      "{ 'attribute': 'Product Type', 'value': 'Capacitor', 'context': 'The document mentions \"Capacitor\" in the product name \"VZH680M2ATR-1313S\"' }\n",
      "{ 'attribute': 'Dimension', 'value': '12.5mm x 13.5mm', 'context': 'DIAGRAM OF DIMENSIONS' }\n",
      "{ 'attribute': 'Orientation', 'value': 'Not found', 'note': 'No information about orientation is mentioned in the document' }\n",
      "{ 'attribute': 'Current Rating', 'value': 'Not found', 'note': 'No information about current rating is mentioned in the document' }\n",
      "{ 'attribute': 'Rated voltage', 'value': '100 V', 'context': 'The document mentions \"68 uF / 100 V\" in the Lelon P/N section.' }\n",
      "{ 'attribute': 'Frequency', 'value': '50, 60, 120, 1k, 10k', 'context': 'Ripple Current & Frequency (Hz)}' }\n",
      "{ 'attribute': 'Impedance', 'value': '< 0.320', 'context': 'Impedance value is mentioned in the \"Items Performance\" section of the document' }\n",
      "{ 'attribute': 'Capacitance', 'value': '68 μF', 'context': 'VZH680M2ATR-1313S VZH 68 uF / 100 V —12.5@x 13.5L' }\n",
      "{ 'attribute': 'Temperature Range', 'value': '-55°C ~ +105°C', 'note': 'The document specifies the temperature range for the capacitor' }\n"
     ]
    }
   ],
   "source": [
    "complex_prompt_answers(chain3, system_message2)"
   ]
  },
  {
   "cell_type": "code",
   "execution_count": 40,
   "metadata": {},
   "outputs": [
    {
     "name": "stdout",
     "output_type": "stream",
     "text": [
      "{'attribute': 'Supplier Name', 'value': 'LELON ELECTRONICS CORP.', 'note': 'The supplier name is mentioned in the Lelon P/N section of the document.'}\n",
      "{'attribute': 'Product Type', 'value': 'Capacitor', 'note': 'The document mentions \"Capacitance\" and \"Cap.\" in the product name, indicating that the product is a capacitor.'}\n",
      "{'attribute': 'Dimension', 'value': {'Length': '12.5 mm', 'Width': '10 mm', 'Height': '13.5 mm'}}\n",
      "{'attribute': 'Orientation', 'value': 'Not found', 'note': 'No information about orientation is mentioned in the document'}\n",
      "{'attribute': 'Current Rating', 'value': 'Not found', 'note': 'No information about current rating is mentioned in the document'}\n",
      "{'attribute': 'Voltage', 'value': '100 V', 'note': 'The document mentions a rated voltage of 100 V for the capacitor.'}\n",
      "{'attribute': 'Frequency', 'value': '50, 60 120 1k 10k up', 'note': 'Frequency values mentioned in the document'}\n",
      "{'attribute': 'Impedance', 'value': '< 0.320 (100kHz, 20°C)', 'note': 'Extracted from the \"Items Performance\" section of the document'}\n",
      "{'attribute': 'Capacitance', 'value': '68 uF', 'note': 'Extracted from the Lelon P/N: VZH680M2ATR-1313S'}\n",
      "{'attribute': 'Temperature Range', 'value': '-55°C ~ +105°C', 'note': 'Found in the \"Items Performance\" section of the document'}\n"
     ]
    }
   ],
   "source": [
    "complex_prompt_answers(chain3, system_message3)"
   ]
  },
  {
   "cell_type": "markdown",
   "metadata": {},
   "source": [
    "## Resistors\n",
    "### PDF4: RK73H.pdf"
   ]
  },
  {
   "cell_type": "code",
   "execution_count": 12,
   "metadata": {},
   "outputs": [
    {
     "name": "stdout",
     "output_type": "stream",
     "text": [
      "=O \\\\ RK7SH\n",
      "\n",
      "precision O.5°%o, 190 tolerance\n",
      "thick film chip resistor\n",
      "\n",
      "E\n",
      "features RoH.\n",
      "\n",
      "» Products with lead-free terminations meet COMPLIANT\n",
      "EU RoHS requirements. EU RoHS regulation\n",
      "is not intended for Pb-glass contained in electrode,\n",
      "resistor element and glass.\n",
      "+ AEC-Q200 Tested: 0201 (1H), 0402 (1E), 0603 (1u),\n",
      "0805 (2A), 1206 (2B), 1210 (2E), 2010 (2H/W2h), 2512\n",
      "\n",
      "IN\n",
      "\n",
      "KOA SPEER ELECTRONICS, INC.\n",
      "\n",
      "(8A/W3A/W3A2)\n",
      "Type* Dimensions inches (mm)\n",
      "\\(Inch Size Code) L WwW c d t\n",
      "\n",
      ".016+.0008].008+.0008) .004+.001 | .004+.001 |.005+.0008\n",
      "\n",
      "uP\n",
      "dimensions and construction (01005) (0.440.02) | (0.2+0.02) | (0.140.03) | (0.11+0.03) | (0.1340.02)\n",
      "\n",
      "1H .024+.001 | .012+.001 | .004+.002 | .006+.002 | .009+.001\n",
      "Lowy t are (0201) (0.6£0.03) | (0.3+0.03) | (0.140.05) | (0.15+0.05) | (0.23£0.03)\n",
      "002\n",
      "wi Z| 1E soa 008.004 | -01 “Soa\n",
      "+ i\n",
      "7 . ami Stang (0402) | .039 302 | oz+.002 | (9240-1) | (0.25 +245) | 914.002\n",
      "f \" 0.1 0.5+0.05, 0.35+0.05,\n",
      "P Nn EAT | (19 ‘fis? | ) o1z004 | 0122.06 | )\n",
      "J 9 (0402) (0.25+0.1) | (0.30.15)\n",
      "rT Coating’? | Film’? Electrode 1 .012+.004 | .012+.004\n",
      "Sibetrsie wor (0603) | 063.008 | .031+.004 |_(0.340.1) | (0.340.1) | .0182.004\n",
      "t AAT = | (1-640.2) | (0.8201) | 914.006 | .02+.008 | (0.4520.1)\n",
      "Derating Curve i (0603) (0.3540.15) (05302)\n",
      "or 5 3 2A .016+.008 | 912 “oo4 | .o2+.004\n",
      "sl waft 2 a, a, # 440. 0.2 5+0.\n",
      "ie no (0805) | 079.008 | 049x004 | (4#?) | (0.3 7) | 05#0-)\n",
      "2° a 2aat | (2949.2) | (1.25401) | o48%.010 | 024.008 | .022+.004\n",
      "2H Tecnina Pa Temperature worse (0805) (0.45+0.25) | (0.6+0.2) | (0.55+0.1)\n",
      "=\n",
      "1007 ‘ 008\n",
      ": al 2B o63e008 | 028012 | O16 “04\n",
      "a0 aw 80 FO TOO Tan 1 Teo ami (1206) (1640.2) | (05403) | (0.4 +02)\n",
      "70 us 18 BH H\n",
      "Amibont Fomperature iol 2B AT [pene .022+.014 | .031+.008\n",
      "For resistors operated at an ambient * oot i (1206) _— (0.55+0.35)| (0.80.2)\n",
      "temperature of 70°C or higher, the : : 2E -102+.008\n",
      "power shall be derated in accordance So'ao—20 0 2040800 foo 120140 Hb0 (1210) (2.640.2) 016 +008\n",
      "with the above derating curve. “s ‘Terminal Pat Ternpernting 185 ~\n",
      "oh 2H (0.4*07) | 944.004\n",
      "When the terminal part temperature of the resistor exceeds the rated terminal part (2010) .197+.008 } .098+.008 “(0.6+0.1)\n",
      "temperature shown above, the power shall be derated according to the derating curve. W2H * (5.040.2) | (2.5+0.2) 026.006 —\n",
      "Please refer to “Introduction of the derating curves based on the terminal part temperature” (2010) 02+.012 | (9.6540.15)\n",
      "on the beginning of our catalog before use (0.5+0.3)\n",
      "3A* 016 +008\n",
      "*Parentheses indicate EIA package size codes. (2512) | 5484008 | .122+.008 (0.4 02)\n",
      "™ RK73H 2H, 3A and 3A2 are also still available (different “d” dimensions = 0.4 +0.2/-0.1mm) W3 BAD\" (6.340.2) | (3.1+0.2) 0262.006\n",
      "(2512) (0.6540.15)\n",
      "ordering information\n",
      "RK73H 2B T TD 1003 F\n",
      "T Si Ch an Termination Packaal Nominal Tol\n",
      "ype ize aracteristics Material ackaging Resistance olerance\n",
      "1F,1H Nil:Standard T: Sn TX: 4mm width - 1mm pitch plastic embossed 3 significant D: 40.5%\n",
      "1E, 1J New A: Heat G: Au * TBL - TCM: 2mm pitch press paper *° figures + 1 F: 41%\n",
      "2A, 2B shock (L:Sn/Pb™) TPL - TP: 2mm pitch punch paper muttiplier\n",
      "2E resistance ** TD: 4mm pitch punch paper “R” indicates\n",
      "W2H “2 With type A only T is available as the TE: 4mm pitch plastic embossed decimal on\n",
      "W3A terminal surface material value <100Q\n",
      "*3 Products with gold plated electrodes are also available with 1E, 1J and 2A types (102~1M0), so please The terminal surf terial lead f\n",
      "2H, 3A consult with us The terminal surface material ead tree\n",
      "W3A2 *4 With type 1F, 1H, W2H, W3A, W3A2 only T is available as the terminal surface material 's standard. ;\n",
      "*5 Standard taping specification of 1H is TCM. Previously available*TC(10,000pcs/Reel)\"is not recommended For further information on packaging,\n",
      "for new designs. please refer to Appendix A\n",
      "Specifications given herein may be changed at any time without prior notice. Please confirm technical specifications before you order and/or use. 5/17/23\n",
      "\n",
      "199 Bolivar Drive + Bradford, PA 16701 + USA + 814-362-5536 + Fax: 814-362-8883 + www.koaspeer.com\n",
      "\n",
      "resistors\n",
      "\n",
      "\n"
     ]
    },
    {
     "name": "stderr",
     "output_type": "stream",
     "text": [
      "Created a chunk of size 3286, which is longer than the specified 500\n",
      "Created a chunk of size 1076, which is longer than the specified 500\n",
      "Created a chunk of size 710, which is longer than the specified 500\n"
     ]
    },
    {
     "name": "stdout",
     "output_type": "stream",
     "text": [
      "RK7SH\n",
      "\n",
      "precision O.5°%o, 190 tolerance\n",
      "thick film chip resistor\n",
      "\n",
      "= OWN\n",
      "\n",
      "KOA SPEER ELECTRONICS, INC.\n",
      "\n",
      "applications and ratings\n",
      "Rated\n",
      "\n",
      "Rated Resistance Range Maximum Maximum 9;\n",
      "meta - fone Ambient Terminal ag Ds0.5% Fei% Working Overload Ces\n",
      "emp. Temp. E-24, E-96 E-24, E-96\" Voltage Voltage Range\n",
      "roles) 0.03w - “ = Oe = ~ 20v 30V -55°C to 125°C\n",
      "+200 - : i\n",
      "R201) Oat +400 “= = “ i a av sv\n",
      "+100 109 - 1MQ. 109 - 1MQ.\n",
      "rto402) ow 2200 _ 1.09 - 9.760, 1.02MQ - 10M 78\n",
      "ow #100 1.02kQ - 1MO 1.02kO - 1M 100v\n",
      "RK73H1J #200 = 1.02MQ - 10MO 75V\n",
      "(0603) +100 100 - 1k 109 - 1k\n",
      "Ost 2200 = 1.00 - 9.760\n",
      "#100 100 - 1MQ 100 - 1MaQ\n",
      "ri0e0s) 0.25W +200 = 1.00 - 9.760 150V 200V\n",
      "#400 = 7.02M0 - 70M\n",
      "#100 100 - Ma 100 - 1Ma\n",
      "See 0.25W 70°C 125°C 2200 = 1.00 - 9.769, 1.02M0 - 5.6M0\n",
      "#400 = 5.62MQ - 10MQ -B5°C to +155°C\n",
      "#100 100 - MQ 100 - 1MQ\n",
      "a 0.5wW +200 = 1.00 - 9.760, 1.02MQ - 5.6MQ 200V 400V\n",
      "#400 = 5.62MQ - 10MQ\n",
      "#100 102 - 1MaQ 100 - 1MQ\n",
      "Sugaaetald o75w #200 = 1.00 - 9.769, 1.02MQ - 5.6MO\n",
      "(2010) #400 = 5.62MQ - 10MO\n",
      "+100 109 - 1MQ 100 - 1MQ\n",
      "br a 4.0W +200 = 1.00 - 9.760, 1.02MQ - 5.6MQ 200V 400V\n",
      "#400 = 5.62MQ - 10MQ\n",
      "#100 Toa - ima 102 - 1M\n",
      "arta 2.0Ww 95°C +200 = 1.00 - 9.760, 1.02MQ - 5.6MO 200V 400V\n",
      "#400 = 5.62MQ - 10MQ\n",
      "\n",
      "Rated voltage = Power rating x resistance value or max. working voltage, whichever is lower\n",
      "\n",
      "*4F: E-24. 1H: 1.0-9.1, 1M~10MQ: E-24. If any questions arise whether to use the “Rated Ambient Temperature” or the “Rated Terminal Part Temperature,” please give priority to the “Rated\n",
      "Terminal Part Temperature.” Prior to use and for more details refer to “Introduction of the derating curves based on the terminal part temperature” in the beginning of the catalog. While using under\n",
      "high power, the temperature of the product may increase depending on the condition of heat dissipation from PCB. Be sure to check the terminal part temperature as well as precautions to use on\n",
      "delivery specification before use. \"The nominal resistance value for RK73H1F (10QSR=2MQ) and RK73H1H (10SR=9.10, 1MQ=R=10M0O) is E24\n",
      "\n",
      "environmental applications\n",
      "\n",
      "Temperature Rise One-Pulse Limiting Electric Power\n",
      "\n",
      "RK73H 1F-1J RK73H 2A-2E RK73H W2H-W3A2 RK73H 1F-2A RK73H 2B-W3A2\n",
      "\n",
      "° we: = gm\n",
      "_ 20. BED waz | ey 3\n",
      "F a: ae Jans] 5 Ssues z sw\n",
      "g 2 aw |v} 2 Sst a\n",
      "5 & Z aa \"8 2\n",
      "é Ee . Wa i ef a\n",
      "\n",
      "Power Rating\n",
      "(%)\n",
      "\n",
      "Power Rating\n",
      "(2%)\n",
      "\n",
      "Power Rating\n",
      "(%)\n",
      "\n",
      "Pulse Duration Pulse Duration\n",
      "Measurement condition\n",
      "oom temperature: 25°C\n",
      "PCB: FR-4t = 1.6mm\n",
      "\n",
      "Cutoil thickness: 35pm\n",
      "\n",
      "The maximum applicable voltage is equal to the max. overload voltage. Please ask us\n",
      "about the resistance characteristic of continuous applied pulse. The pulse endurance\n",
      "values are not assured values, so be sure to check the products on actual equipment\n",
      "when you use them.\n",
      "\n",
      "Regarding the temperature rise, the value of the temperature\n",
      "varies per conditions and board for use since the temperature\n",
      "is measured under our measuring conditions.\n",
      "\n",
      "D:Hot spot\n",
      "\n",
      "Terminal\n",
      "\n",
      "A\n",
      "\n",
      "Requirement A R (%+0.19)\n",
      "\n",
      "Performance Characteristics\n",
      "\n",
      "Limit\n",
      "Within specified tolerance\n",
      "Within specified T.C.R.\n",
      "42%\n",
      "\n",
      "Parameter Test Method\n",
      "Resistance\n",
      "T.C.R.\n",
      "\n",
      "Overload (Short time)\n",
      "\n",
      "Typical\n",
      "\n",
      "25°C\n",
      "+25°C/-55°C and +25°C/+125°C\n",
      "Rated Voltage x 2.5 for 5 seconds (1E, 2B, W3A2: Rated Voltage x 2 for 5 seconds)\n",
      "\n",
      "41%: 1F; 40.5%! Others\n",
      "\n",
      "Resistance to Soldering Heat\n",
      "\n",
      "21%: 1F ~ W3A2 (100=R=1MQ);\n",
      "£3%: 1H ~ W3A2 (R<100, R>1MO)\n",
      "\n",
      "40.5%: 1F ~ W3A2 (100<R<1MQ);\n",
      "#1%: 1H ~ W3A2 (R<10O, R>1MQ)\n",
      "\n",
      "260°C + 5°C, 10 seconds + 1 second\n",
      "\n",
      "Rapid Change of Temperature\n",
      "\n",
      "+1%: 1F, Characteristic (A)\n",
      "Heat Shock Resistance\n",
      "0.5% Others\n",
      "\n",
      "+0.5%: 1F, Characteristic (A)\n",
      "Heat Shock Resistance\n",
      "+0.3% Others\n",
      "\n",
      "Characteristic (Nil) Standard: -55°C (30 minutes), +125°C (30 minutes),\n",
      "100 cycles\n",
      "\n",
      "Characteristic (A) Heat Shock Resistance: -55°C (30 minutes), +125°C\n",
      "(30 minutes), 1000 cycles\n",
      "\n",
      "Moisture Resistance\n",
      "\n",
      "#2%: 1J, 2A, 2B\n",
      "3%: Others\n",
      "\n",
      "#0.75%: 1J, 2A, 2B; +1.5%:1F,\n",
      "1%: Other\n",
      "\n",
      "40°C + 2°C, 90%-95% RH, 1000 hours, 1.5 hr ON.\n",
      "0.5 hr OFF cycle\n",
      "\n",
      "Endurance at 70°C\n",
      "\n",
      "22%: 1J, 2A, 2B; +3%: Others\n",
      "\n",
      "#0.75%: 1, 2A, 2B; +1%: Others\n",
      "\n",
      "70°C + 2°C, 1000 hours, 1.5 hr ON, 0.5 hr OFF cycle\n",
      "\n",
      "High Temperature Exposure\n",
      "\n",
      "41%\n",
      "\n",
      "40.5%: 1F\n",
      "+0.3%: Others\n",
      "\n",
      "+125°C, 1000 hours: 1F; +155°C, 1000 hours: 1E, 1H,\n",
      "1J, 2A, 2B, 2E, 2H/W2H, 3A/W3A/W3A2\n",
      "\n",
      "Specifications given herein may be changed at any time without prior notice. Please confirm technical specifications before you order and/or use.\n",
      "\n",
      "11/20/22\n",
      "\n",
      "KOA Speer Electronics, Inc.\n",
      "\n",
      "199 Bolivar Drive\n",
      "\n",
      "Bradford, PA 16701\n",
      "\n",
      "USA + 814-362-5536 + Fax: 814-362-8883 + www.koaspeer.com\n",
      "\n",
      "[<__main__.TesseractDocument object at 0x104274fd0>, <__main__.TesseractDocument object at 0x150c96500>]\n"
     ]
    }
   ],
   "source": [
    "pdf_name = \"RK73H.pdf\" \n",
    "\n",
    "chain4 = process_pdf_and_ask(pdf_name, DOCUMENT_DIR, clear_up=False)"
   ]
  },
  {
   "cell_type": "code",
   "execution_count": 14,
   "metadata": {},
   "outputs": [
    {
     "name": "stdout",
     "output_type": "stream",
     "text": [
      "{ 'attribute': 'Supplier Name', 'value': 'Not found', 'note': 'No information about the supplier name is mentioned in the document' }\n",
      "{ 'attribute': 'Product Type', 'value': 'Resistor', 'context': 'RK73H 2H, 3A and 3A2 are also still available (different “d” dimensions = 0.4 +0.2/-0.1mm)' }\n",
      "{ 'attribute': 'Dimension', 'value': '0.25 inches (6.35 mm) x 0.125 inches (3.175 mm)', 'context': 'Dimensions for 0402 (1E) resistor are mentioned as 0.25 inches (6.35 mm) x 0.125 inches (3.175 mm)' }\n",
      "{ 'attribute': 'Orientation', 'value': 'Not found', 'note': 'No information about orientation is mentioned in the document' }\n",
      "{ 'attribute': 'Current Rating', 'value': 'Not found', 'note': 'No information about current rating is mentioned in the document' }\n",
      "{ 'attribute': 'Voltage', 'value': '20V', 'context': 'The maximum applicable voltage is equal to the max. overload voltage' },\n",
      "{ 'attribute': 'Voltage', 'value': '30V', 'context': 'The maximum applicable voltage is equal to the max. overload voltage' },\n",
      "{ 'attribute': 'Voltage', 'value': '75V', 'context': 'Suggested voltage range for 0.5W resistor' },\n",
      "{ 'attribute': 'Voltage', 'value': '100V', 'context': 'Maximum voltage for certain resistor types' },\n",
      "{ 'attribute': 'Voltage', 'value': '150V', 'context': 'Maximum voltage for 0.25W resistor' },\n",
      "{ 'attribute': 'Voltage', 'value': '200V', 'context': 'Maximum voltage for certain resistor types' },\n",
      "{ 'attribute': 'Voltage', 'value': '2200V', 'context': 'Maximum voltage for certain resistor types' },\n",
      "{ 'attribute': 'Voltage', 'value': '400V', 'context': 'Maximum voltage for certain resistor types' },\n",
      "{ 'attribute': 'Voltage', 'value': '400V', 'context': 'Maximum voltage for certain resistor types' }\n",
      "{ 'attribute': 'Frequency', 'value': 'Not found', 'note': 'No information about frequency is mentioned in the document' }\n",
      "{ 'attribute': 'Impedance', 'value': 'Not found', 'note': 'No information about impedance is mentioned in the document' }\n",
      "{ 'attribute': 'Capacitance', 'value': 'Not found', 'note': 'No information about capacitance is mentioned in the document' }\n",
      "{ 'attribute': 'Temperature', 'value': '+125°C', 'context': 'The document mentions a high temperature exposure of +125°C for certain models (1E, 1H, 1J, 2A, 2B, 2E, 2H/W2H, 3A/W3A/W3A2) for 1000 hours.' }\n"
     ]
    }
   ],
   "source": [
    "complex_prompt_answers(chain4, system_message2)"
   ]
  },
  {
   "cell_type": "code",
   "execution_count": 15,
   "metadata": {},
   "outputs": [
    {
     "name": "stdout",
     "output_type": "stream",
     "text": [
      "{'attribute': 'Supplier Name', 'value': 'Not found', 'note': 'No information about the supplier name is mentioned in the document'}\n",
      "{'attribute': 'Product Type', 'value': 'Resistor', 'note': 'The document mentions RK73H 1F-1J, RK73H 2A-2E, RK73H W2H-W3A2, RK73H 1F-2A, RK73H 2B-W3A2 as product types, which are all resistors.'}\n",
      "{'attribute': 'Dimension', 'value': [{'attribute': 'Length', 'value': '0.6 mm'}, {'attribute': 'Width', 'value': '0.3 mm'}, {'attribute': 'Height', 'value': '0.14 mm'}], 'note': 'Extracted from the dimensions and construction section for 0402(1E)'}\n",
      "{'attribute': 'Orientation', 'value': 'Not found', 'note': 'No information about orientation is mentioned in the document'}\n",
      "{'attribute': 'Current Rating', 'value': 'Not found', 'note': 'No information about current rating is mentioned in the document'}\n",
      "{'attribute': 'Voltage', 'value': [{'attribute': 'Rated voltage', 'value': '20V', 'note': 'Extracted from the context: Rated voltage = Power rating x resistance value or max. working voltage, whichever is lower'}, {'attribute': 'Maximum working voltage', 'value': '30V', 'note': 'Extracted from the context: Rated voltage = Power rating x resistance value or max. working voltage, whichever is lower'}, {'attribute': 'Maximum overload voltage', 'value': '200V', 'note': 'Extracted from the context: The maximum applicable voltage is equal to the max. overload voltage'}]}\n",
      "{'attribute': 'Frequency', 'value': 'Not found', 'note': 'No information about frequency is mentioned in the document'}\n",
      "{'attribute': 'Impedance', 'value': [{'attribute': 'Impedance Range', 'value': '1.02kΩ - 10MΩ', 'note': 'Extracted from the \"Rated Resistance Range\" section'}, {'attribute': 'Maximum Working Voltage', 'value': '30V - 400V', 'note': 'Extracted from the \"Rated Voltage\" section'}]}\n",
      "{'attribute': 'Capacitance', 'value': 'Not found', 'note': 'No information about capacitance is mentioned in the document'}\n",
      "{'attribute': 'Temperature', 'value': '+25°C/-55°C and +25°C/+125°C', 'note': 'The temperature range is mentioned in the context of the T.C.R. test method and high temperature exposure.'}\n"
     ]
    }
   ],
   "source": [
    "complex_prompt_answers(chain4, system_message3)"
   ]
  },
  {
   "cell_type": "markdown",
   "metadata": {},
   "source": [
    "### PDF 5: IMX8MMIEC.pdf"
   ]
  },
  {
   "cell_type": "code",
   "execution_count": 58,
   "metadata": {},
   "outputs": [
    {
     "name": "stderr",
     "output_type": "stream",
     "text": [
      "Created a chunk of size 1797, which is longer than the specified 500\n",
      "Created a chunk of size 790, which is longer than the specified 500\n",
      "Created a chunk of size 2312, which is longer than the specified 500\n",
      "Created a chunk of size 744, which is longer than the specified 500\n",
      "Created a chunk of size 1047, which is longer than the specified 500\n",
      "Created a chunk of size 1741, which is longer than the specified 500\n",
      "Created a chunk of size 984, which is longer than the specified 500\n",
      "Created a chunk of size 949, which is longer than the specified 500\n",
      "Created a chunk of size 1443, which is longer than the specified 500\n",
      "Created a chunk of size 1583, which is longer than the specified 500\n",
      "Created a chunk of size 597, which is longer than the specified 500\n",
      "Created a chunk of size 1057, which is longer than the specified 500\n",
      "Created a chunk of size 1282, which is longer than the specified 500\n",
      "Created a chunk of size 1189, which is longer than the specified 500\n",
      "Created a chunk of size 636, which is longer than the specified 500\n",
      "Created a chunk of size 998, which is longer than the specified 500\n",
      "Created a chunk of size 1216, which is longer than the specified 500\n",
      "Created a chunk of size 514, which is longer than the specified 500\n",
      "Created a chunk of size 1017, which is longer than the specified 500\n",
      "Created a chunk of size 569, which is longer than the specified 500\n",
      "Created a chunk of size 1332, which is longer than the specified 500\n",
      "Created a chunk of size 911, which is longer than the specified 500\n",
      "Created a chunk of size 1068, which is longer than the specified 500\n",
      "Created a chunk of size 724, which is longer than the specified 500\n",
      "Created a chunk of size 934, which is longer than the specified 500\n",
      "Created a chunk of size 687, which is longer than the specified 500\n",
      "Created a chunk of size 750, which is longer than the specified 500\n",
      "Created a chunk of size 573, which is longer than the specified 500\n",
      "Created a chunk of size 837, which is longer than the specified 500\n",
      "Created a chunk of size 1152, which is longer than the specified 500\n",
      "Created a chunk of size 1174, which is longer than the specified 500\n",
      "Created a chunk of size 1217, which is longer than the specified 500\n",
      "Created a chunk of size 1854, which is longer than the specified 500\n",
      "Created a chunk of size 1544, which is longer than the specified 500\n",
      "Created a chunk of size 1703, which is longer than the specified 500\n",
      "Created a chunk of size 1547, which is longer than the specified 500\n",
      "Created a chunk of size 1804, which is longer than the specified 500\n",
      "Created a chunk of size 1709, which is longer than the specified 500\n",
      "Created a chunk of size 1308, which is longer than the specified 500\n",
      "Created a chunk of size 1194, which is longer than the specified 500\n",
      "Created a chunk of size 1016, which is longer than the specified 500\n",
      "Created a chunk of size 1101, which is longer than the specified 500\n",
      "Created a chunk of size 746, which is longer than the specified 500\n",
      "Created a chunk of size 556, which is longer than the specified 500\n",
      "Created a chunk of size 795, which is longer than the specified 500\n"
     ]
    },
    {
     "name": "stdout",
     "output_type": "stream",
     "text": [
      "deleted ids:  ['fbfbd138-8f01-11ee-8d93-7e0641d3cee1', 'fbfbd192-8f01-11ee-8d93-7e0641d3cee1', 'fbfbd1a6-8f01-11ee-8d93-7e0641d3cee1']\n",
      "Deleting folloing ids in the vector database:  ['fbfbd138-8f01-11ee-8d93-7e0641d3cee1', 'fbfbd192-8f01-11ee-8d93-7e0641d3cee1', 'fbfbd1a6-8f01-11ee-8d93-7e0641d3cee1']\n",
      "['IMX8MMIEC.pdf', 'IMX8MMIEC.pdf', 'IMX8MMIEC.pdf', 'IMX8MMIEC.pdf', 'IMX8MMIEC.pdf', 'IMX8MMIEC.pdf', 'IMX8MMIEC.pdf', 'IMX8MMIEC.pdf', 'IMX8MMIEC.pdf', 'IMX8MMIEC.pdf', 'IMX8MMIEC.pdf', 'IMX8MMIEC.pdf', 'IMX8MMIEC.pdf', 'IMX8MMIEC.pdf', 'IMX8MMIEC.pdf', 'IMX8MMIEC.pdf', 'IMX8MMIEC.pdf', 'IMX8MMIEC.pdf', 'IMX8MMIEC.pdf', 'IMX8MMIEC.pdf', 'IMX8MMIEC.pdf', 'IMX8MMIEC.pdf', 'IMX8MMIEC.pdf', 'IMX8MMIEC.pdf', 'IMX8MMIEC.pdf', 'IMX8MMIEC.pdf', 'IMX8MMIEC.pdf', 'IMX8MMIEC.pdf', 'IMX8MMIEC.pdf', 'IMX8MMIEC.pdf', 'IMX8MMIEC.pdf', 'IMX8MMIEC.pdf', 'IMX8MMIEC.pdf', 'IMX8MMIEC.pdf', 'IMX8MMIEC.pdf', 'IMX8MMIEC.pdf', 'IMX8MMIEC.pdf', 'IMX8MMIEC.pdf', 'IMX8MMIEC.pdf', 'IMX8MMIEC.pdf', 'IMX8MMIEC.pdf', 'IMX8MMIEC.pdf', 'IMX8MMIEC.pdf', 'IMX8MMIEC.pdf', 'IMX8MMIEC.pdf', 'IMX8MMIEC.pdf', 'IMX8MMIEC.pdf', 'IMX8MMIEC.pdf', 'IMX8MMIEC.pdf', 'IMX8MMIEC.pdf', 'IMX8MMIEC.pdf', 'IMX8MMIEC.pdf', 'IMX8MMIEC.pdf', 'IMX8MMIEC.pdf', 'IMX8MMIEC.pdf', 'IMX8MMIEC.pdf', 'IMX8MMIEC.pdf', 'IMX8MMIEC.pdf', 'IMX8MMIEC.pdf', 'IMX8MMIEC.pdf', 'IMX8MMIEC.pdf', 'IMX8MMIEC.pdf', 'IMX8MMIEC.pdf', 'IMX8MMIEC.pdf', 'IMX8MMIEC.pdf', 'IMX8MMIEC.pdf', 'IMX8MMIEC.pdf', 'IMX8MMIEC.pdf', 'IMX8MMIEC.pdf', 'IMX8MMIEC.pdf', 'IMX8MMIEC.pdf', 'IMX8MMIEC.pdf', 'IMX8MMIEC.pdf', 'IMX8MMIEC.pdf', 'IMX8MMIEC.pdf', 'IMX8MMIEC.pdf', 'IMX8MMIEC.pdf', 'IMX8MMIEC.pdf', 'IMX8MMIEC.pdf', 'IMX8MMIEC.pdf', 'IMX8MMIEC.pdf', 'IMX8MMIEC.pdf', 'IMX8MMIEC.pdf', 'IMX8MMIEC.pdf', 'IMX8MMIEC.pdf', 'IMX8MMIEC.pdf', 'IMX8MMIEC.pdf', 'IMX8MMIEC.pdf', 'IMX8MMIEC.pdf', 'IMX8MMIEC.pdf', 'IMX8MMIEC.pdf', 'IMX8MMIEC.pdf', 'IMX8MMIEC.pdf', 'IMX8MMIEC.pdf', 'IMX8MMIEC.pdf', 'IMX8MMIEC.pdf', 'IMX8MMIEC.pdf', 'IMX8MMIEC.pdf', 'IMX8MMIEC.pdf', 'IMX8MMIEC.pdf', 'IMX8MMIEC.pdf', 'IMX8MMIEC.pdf', 'IMX8MMIEC.pdf', 'IMX8MMIEC.pdf', 'IMX8MMIEC.pdf', 'IMX8MMIEC.pdf', 'IMX8MMIEC.pdf', 'IMX8MMIEC.pdf', 'IMX8MMIEC.pdf', 'IMX8MMIEC.pdf', 'IMX8MMIEC.pdf', 'IMX8MMIEC.pdf', 'IMX8MMIEC.pdf', 'IMX8MMIEC.pdf', 'IMX8MMIEC.pdf', 'IMX8MMIEC.pdf', 'IMX8MMIEC.pdf', 'IMX8MMIEC.pdf', 'IMX8MMIEC.pdf', 'IMX8MMIEC.pdf', 'IMX8MMIEC.pdf', 'IMX8MMIEC.pdf', 'IMX8MMIEC.pdf', 'IMX8MMIEC.pdf', 'IMX8MMIEC.pdf', 'IMX8MMIEC.pdf', 'IMX8MMIEC.pdf', 'IMX8MMIEC.pdf', 'IMX8MMIEC.pdf', 'IMX8MMIEC.pdf', 'IMX8MMIEC.pdf', 'IMX8MMIEC.pdf', 'IMX8MMIEC.pdf', 'IMX8MMIEC.pdf', 'IMX8MMIEC.pdf', 'IMX8MMIEC.pdf', 'IMX8MMIEC.pdf', 'IMX8MMIEC.pdf', 'IMX8MMIEC.pdf', 'IMX8MMIEC.pdf', 'IMX8MMIEC.pdf', 'IMX8MMIEC.pdf', 'IMX8MMIEC.pdf', 'IMX8MMIEC.pdf', 'IMX8MMIEC.pdf', 'IMX8MMIEC.pdf', 'IMX8MMIEC.pdf', 'IMX8MMIEC.pdf', 'IMX8MMIEC.pdf', 'IMX8MMIEC.pdf', 'IMX8MMIEC.pdf', 'IMX8MMIEC.pdf', 'IMX8MMIEC.pdf', 'IMX8MMIEC.pdf', 'IMX8MMIEC.pdf', 'IMX8MMIEC.pdf', 'IMX8MMIEC.pdf', 'IMX8MMIEC.pdf', 'IMX8MMIEC.pdf', 'IMX8MMIEC.pdf', 'IMX8MMIEC.pdf', 'IMX8MMIEC.pdf', 'IMX8MMIEC.pdf', 'IMX8MMIEC.pdf', 'IMX8MMIEC.pdf', 'IMX8MMIEC.pdf', 'IMX8MMIEC.pdf', 'IMX8MMIEC.pdf', 'IMX8MMIEC.pdf', 'IMX8MMIEC.pdf', 'IMX8MMIEC.pdf', 'IMX8MMIEC.pdf', 'IMX8MMIEC.pdf', 'IMX8MMIEC.pdf', 'IMX8MMIEC.pdf', 'IMX8MMIEC.pdf', 'IMX8MMIEC.pdf', 'IMX8MMIEC.pdf', 'IMX8MMIEC.pdf', 'IMX8MMIEC.pdf', 'IMX8MMIEC.pdf', 'IMX8MMIEC.pdf', 'IMX8MMIEC.pdf', 'IMX8MMIEC.pdf', 'IMX8MMIEC.pdf', 'IMX8MMIEC.pdf', 'IMX8MMIEC.pdf', 'IMX8MMIEC.pdf', 'IMX8MMIEC.pdf', 'IMX8MMIEC.pdf', 'IMX8MMIEC.pdf', 'IMX8MMIEC.pdf', 'IMX8MMIEC.pdf', 'IMX8MMIEC.pdf', 'IMX8MMIEC.pdf', 'IMX8MMIEC.pdf', 'IMX8MMIEC.pdf', 'IMX8MMIEC.pdf', 'IMX8MMIEC.pdf', 'IMX8MMIEC.pdf', 'IMX8MMIEC.pdf', 'IMX8MMIEC.pdf', 'IMX8MMIEC.pdf', 'IMX8MMIEC.pdf', 'IMX8MMIEC.pdf', 'IMX8MMIEC.pdf', 'IMX8MMIEC.pdf', 'IMX8MMIEC.pdf', 'IMX8MMIEC.pdf', 'IMX8MMIEC.pdf', 'IMX8MMIEC.pdf', 'IMX8MMIEC.pdf', 'IMX8MMIEC.pdf', 'IMX8MMIEC.pdf', 'IMX8MMIEC.pdf', 'IMX8MMIEC.pdf', 'IMX8MMIEC.pdf', 'IMX8MMIEC.pdf', 'IMX8MMIEC.pdf', 'IMX8MMIEC.pdf', 'IMX8MMIEC.pdf', 'IMX8MMIEC.pdf', 'IMX8MMIEC.pdf', 'IMX8MMIEC.pdf', 'IMX8MMIEC.pdf', 'IMX8MMIEC.pdf', 'IMX8MMIEC.pdf', 'IMX8MMIEC.pdf', 'IMX8MMIEC.pdf', 'IMX8MMIEC.pdf', 'IMX8MMIEC.pdf', 'IMX8MMIEC.pdf', 'IMX8MMIEC.pdf', 'IMX8MMIEC.pdf', 'IMX8MMIEC.pdf', 'IMX8MMIEC.pdf', 'IMX8MMIEC.pdf', 'IMX8MMIEC.pdf', 'IMX8MMIEC.pdf', 'IMX8MMIEC.pdf', 'IMX8MMIEC.pdf', 'IMX8MMIEC.pdf', 'IMX8MMIEC.pdf', 'IMX8MMIEC.pdf', 'IMX8MMIEC.pdf', 'IMX8MMIEC.pdf', 'IMX8MMIEC.pdf', 'IMX8MMIEC.pdf', 'IMX8MMIEC.pdf', 'IMX8MMIEC.pdf', 'IMX8MMIEC.pdf', 'IMX8MMIEC.pdf', 'IMX8MMIEC.pdf', 'IMX8MMIEC.pdf', 'IMX8MMIEC.pdf', 'IMX8MMIEC.pdf', 'IMX8MMIEC.pdf', 'IMX8MMIEC.pdf', 'IMX8MMIEC.pdf', 'IMX8MMIEC.pdf', 'IMX8MMIEC.pdf', 'IMX8MMIEC.pdf', 'IMX8MMIEC.pdf', 'IMX8MMIEC.pdf', 'IMX8MMIEC.pdf', 'IMX8MMIEC.pdf', 'IMX8MMIEC.pdf', 'IMX8MMIEC.pdf', 'IMX8MMIEC.pdf', 'IMX8MMIEC.pdf', 'IMX8MMIEC.pdf', 'IMX8MMIEC.pdf', 'IMX8MMIEC.pdf', 'IMX8MMIEC.pdf', 'IMX8MMIEC.pdf', 'IMX8MMIEC.pdf', 'IMX8MMIEC.pdf', 'IMX8MMIEC.pdf', 'IMX8MMIEC.pdf', 'IMX8MMIEC.pdf', 'IMX8MMIEC.pdf', 'IMX8MMIEC.pdf', 'IMX8MMIEC.pdf', 'IMX8MMIEC.pdf', 'IMX8MMIEC.pdf', 'IMX8MMIEC.pdf', 'IMX8MMIEC.pdf', 'IMX8MMIEC.pdf', 'IMX8MMIEC.pdf', 'IMX8MMIEC.pdf', 'IMX8MMIEC.pdf', 'IMX8MMIEC.pdf', 'IMX8MMIEC.pdf', 'IMX8MMIEC.pdf', 'IMX8MMIEC.pdf', 'IMX8MMIEC.pdf', 'IMX8MMIEC.pdf', 'IMX8MMIEC.pdf', 'IMX8MMIEC.pdf', 'IMX8MMIEC.pdf', 'IMX8MMIEC.pdf', 'IMX8MMIEC.pdf', 'IMX8MMIEC.pdf', 'IMX8MMIEC.pdf', 'IMX8MMIEC.pdf', 'IMX8MMIEC.pdf', 'IMX8MMIEC.pdf', 'IMX8MMIEC.pdf', 'IMX8MMIEC.pdf', 'IMX8MMIEC.pdf', 'IMX8MMIEC.pdf', 'IMX8MMIEC.pdf', 'IMX8MMIEC.pdf', 'IMX8MMIEC.pdf', 'IMX8MMIEC.pdf', 'IMX8MMIEC.pdf', 'IMX8MMIEC.pdf', 'IMX8MMIEC.pdf', 'IMX8MMIEC.pdf', 'IMX8MMIEC.pdf', 'IMX8MMIEC.pdf', 'IMX8MMIEC.pdf', 'IMX8MMIEC.pdf', 'IMX8MMIEC.pdf', 'IMX8MMIEC.pdf', 'IMX8MMIEC.pdf', 'IMX8MMIEC.pdf', 'IMX8MMIEC.pdf', 'IMX8MMIEC.pdf', 'IMX8MMIEC.pdf', 'IMX8MMIEC.pdf', 'IMX8MMIEC.pdf', 'IMX8MMIEC.pdf', 'IMX8MMIEC.pdf', 'IMX8MMIEC.pdf', 'IMX8MMIEC.pdf', 'IMX8MMIEC.pdf', 'IMX8MMIEC.pdf', 'IMX8MMIEC.pdf', 'IMX8MMIEC.pdf', 'IMX8MMIEC.pdf', 'IMX8MMIEC.pdf', 'IMX8MMIEC.pdf', 'IMX8MMIEC.pdf', 'IMX8MMIEC.pdf', 'IMX8MMIEC.pdf', 'IMX8MMIEC.pdf', 'IMX8MMIEC.pdf', 'IMX8MMIEC.pdf', 'IMX8MMIEC.pdf', 'IMX8MMIEC.pdf', 'IMX8MMIEC.pdf', 'IMX8MMIEC.pdf', 'IMX8MMIEC.pdf', 'IMX8MMIEC.pdf', 'IMX8MMIEC.pdf', 'IMX8MMIEC.pdf', 'IMX8MMIEC.pdf', 'IMX8MMIEC.pdf', 'IMX8MMIEC.pdf', 'IMX8MMIEC.pdf', 'IMX8MMIEC.pdf', 'IMX8MMIEC.pdf', 'IMX8MMIEC.pdf', 'IMX8MMIEC.pdf', 'IMX8MMIEC.pdf', 'IMX8MMIEC.pdf', 'IMX8MMIEC.pdf', 'IMX8MMIEC.pdf', 'IMX8MMIEC.pdf', 'IMX8MMIEC.pdf', 'IMX8MMIEC.pdf', 'IMX8MMIEC.pdf', 'IMX8MMIEC.pdf', 'IMX8MMIEC.pdf', 'IMX8MMIEC.pdf', 'IMX8MMIEC.pdf', 'IMX8MMIEC.pdf', 'IMX8MMIEC.pdf', 'IMX8MMIEC.pdf', 'IMX8MMIEC.pdf', 'IMX8MMIEC.pdf', 'IMX8MMIEC.pdf', 'IMX8MMIEC.pdf', 'IMX8MMIEC.pdf', 'IMX8MMIEC.pdf', 'IMX8MMIEC.pdf', 'IMX8MMIEC.pdf', 'IMX8MMIEC.pdf', 'IMX8MMIEC.pdf', 'IMX8MMIEC.pdf', 'IMX8MMIEC.pdf', 'IMX8MMIEC.pdf', 'IMX8MMIEC.pdf', 'IMX8MMIEC.pdf', 'IMX8MMIEC.pdf', 'IMX8MMIEC.pdf', 'IMX8MMIEC.pdf', 'IMX8MMIEC.pdf', 'IMX8MMIEC.pdf', 'IMX8MMIEC.pdf', 'IMX8MMIEC.pdf', 'IMX8MMIEC.pdf', 'IMX8MMIEC.pdf', 'IMX8MMIEC.pdf', 'IMX8MMIEC.pdf', 'IMX8MMIEC.pdf', 'IMX8MMIEC.pdf', 'IMX8MMIEC.pdf', 'IMX8MMIEC.pdf', 'IMX8MMIEC.pdf', 'IMX8MMIEC.pdf', 'IMX8MMIEC.pdf', 'IMX8MMIEC.pdf', 'IMX8MMIEC.pdf', 'IMX8MMIEC.pdf', 'IMX8MMIEC.pdf', 'IMX8MMIEC.pdf', 'IMX8MMIEC.pdf', 'IMX8MMIEC.pdf', 'IMX8MMIEC.pdf', 'IMX8MMIEC.pdf', 'IMX8MMIEC.pdf', 'IMX8MMIEC.pdf', 'IMX8MMIEC.pdf', 'IMX8MMIEC.pdf', 'IMX8MMIEC.pdf', 'IMX8MMIEC.pdf', 'IMX8MMIEC.pdf', 'IMX8MMIEC.pdf', 'IMX8MMIEC.pdf', 'IMX8MMIEC.pdf', 'IMX8MMIEC.pdf', 'IMX8MMIEC.pdf', 'IMX8MMIEC.pdf', 'IMX8MMIEC.pdf', 'IMX8MMIEC.pdf', 'IMX8MMIEC.pdf', 'IMX8MMIEC.pdf', 'IMX8MMIEC.pdf', 'IMX8MMIEC.pdf', 'IMX8MMIEC.pdf', 'IMX8MMIEC.pdf', 'IMX8MMIEC.pdf', 'IMX8MMIEC.pdf', 'IMX8MMIEC.pdf', 'IMX8MMIEC.pdf', 'IMX8MMIEC.pdf', 'IMX8MMIEC.pdf', 'IMX8MMIEC.pdf', 'IMX8MMIEC.pdf', 'IMX8MMIEC.pdf', 'IMX8MMIEC.pdf', 'IMX8MMIEC.pdf', 'IMX8MMIEC.pdf', 'IMX8MMIEC.pdf', 'IMX8MMIEC.pdf', 'IMX8MMIEC.pdf', 'IMX8MMIEC.pdf', 'IMX8MMIEC.pdf', 'IMX8MMIEC.pdf', 'IMX8MMIEC.pdf', 'IMX8MMIEC.pdf', 'IMX8MMIEC.pdf', 'IMX8MMIEC.pdf', 'IMX8MMIEC.pdf', 'IMX8MMIEC.pdf', 'IMX8MMIEC.pdf', 'IMX8MMIEC.pdf', 'IMX8MMIEC.pdf', 'IMX8MMIEC.pdf', 'IMX8MMIEC.pdf', 'IMX8MMIEC.pdf', 'IMX8MMIEC.pdf', 'IMX8MMIEC.pdf', 'IMX8MMIEC.pdf', 'IMX8MMIEC.pdf', 'IMX8MMIEC.pdf', 'IMX8MMIEC.pdf', 'IMX8MMIEC.pdf', 'IMX8MMIEC.pdf', 'IMX8MMIEC.pdf', 'IMX8MMIEC.pdf', 'IMX8MMIEC.pdf', 'IMX8MMIEC.pdf', 'IMX8MMIEC.pdf', 'IMX8MMIEC.pdf', 'IMX8MMIEC.pdf', 'IMX8MMIEC.pdf', 'IMX8MMIEC.pdf', 'IMX8MMIEC.pdf', 'IMX8MMIEC.pdf', 'IMX8MMIEC.pdf', 'IMX8MMIEC.pdf', 'IMX8MMIEC.pdf', 'IMX8MMIEC.pdf', 'IMX8MMIEC.pdf', 'IMX8MMIEC.pdf', 'IMX8MMIEC.pdf', 'IMX8MMIEC.pdf', 'IMX8MMIEC.pdf', 'IMX8MMIEC.pdf', 'IMX8MMIEC.pdf', 'IMX8MMIEC.pdf', 'IMX8MMIEC.pdf', 'IMX8MMIEC.pdf', 'IMX8MMIEC.pdf', 'IMX8MMIEC.pdf', 'IMX8MMIEC.pdf', 'IMX8MMIEC.pdf', 'IMX8MMIEC.pdf', 'IMX8MMIEC.pdf', 'IMX8MMIEC.pdf', 'IMX8MMIEC.pdf', 'IMX8MMIEC.pdf', 'IMX8MMIEC.pdf', 'IMX8MMIEC.pdf', 'IMX8MMIEC.pdf', 'IMX8MMIEC.pdf', 'IMX8MMIEC.pdf', 'IMX8MMIEC.pdf', 'IMX8MMIEC.pdf', 'IMX8MMIEC.pdf', 'IMX8MMIEC.pdf', 'IMX8MMIEC.pdf', 'IMX8MMIEC.pdf', 'IMX8MMIEC.pdf', 'IMX8MMIEC.pdf', 'IMX8MMIEC.pdf', 'IMX8MMIEC.pdf', 'IMX8MMIEC.pdf', 'IMX8MMIEC.pdf', 'IMX8MMIEC.pdf', 'IMX8MMIEC.pdf', 'IMX8MMIEC.pdf', 'IMX8MMIEC.pdf', 'IMX8MMIEC.pdf', 'IMX8MMIEC.pdf', 'IMX8MMIEC.pdf', 'IMX8MMIEC.pdf', 'IMX8MMIEC.pdf', 'IMX8MMIEC.pdf', 'IMX8MMIEC.pdf', 'IMX8MMIEC.pdf', 'IMX8MMIEC.pdf', 'IMX8MMIEC.pdf', 'IMX8MMIEC.pdf', 'IMX8MMIEC.pdf', 'IMX8MMIEC.pdf', 'IMX8MMIEC.pdf', 'IMX8MMIEC.pdf', 'IMX8MMIEC.pdf', 'IMX8MMIEC.pdf', 'IMX8MMIEC.pdf', 'IMX8MMIEC.pdf', 'IMX8MMIEC.pdf', 'IMX8MMIEC.pdf', 'IMX8MMIEC.pdf', 'IMX8MMIEC.pdf', 'IMX8MMIEC.pdf', 'IMX8MMIEC.pdf', 'IMX8MMIEC.pdf', 'IMX8MMIEC.pdf', 'IMX8MMIEC.pdf', 'IMX8MMIEC.pdf', 'IMX8MMIEC.pdf', 'IMX8MMIEC.pdf', 'IMX8MMIEC.pdf', 'IMX8MMIEC.pdf', 'IMX8MMIEC.pdf', 'IMX8MMIEC.pdf', 'IMX8MMIEC.pdf', 'IMX8MMIEC.pdf', 'IMX8MMIEC.pdf', 'IMX8MMIEC.pdf', 'IMX8MMIEC.pdf', 'IMX8MMIEC.pdf', 'IMX8MMIEC.pdf', 'IMX8MMIEC.pdf', 'IMX8MMIEC.pdf', 'IMX8MMIEC.pdf', 'IMX8MMIEC.pdf', 'IMX8MMIEC.pdf', 'IMX8MMIEC.pdf', 'IMX8MMIEC.pdf', 'IMX8MMIEC.pdf', 'IMX8MMIEC.pdf', 'IMX8MMIEC.pdf', 'IMX8MMIEC.pdf', 'IMX8MMIEC.pdf', 'IMX8MMIEC.pdf', 'IMX8MMIEC.pdf', 'IMX8MMIEC.pdf', 'IMX8MMIEC.pdf', 'IMX8MMIEC.pdf', 'IMX8MMIEC.pdf', 'IMX8MMIEC.pdf', 'IMX8MMIEC.pdf', 'IMX8MMIEC.pdf', 'IMX8MMIEC.pdf', 'IMX8MMIEC.pdf', 'IMX8MMIEC.pdf', 'IMX8MMIEC.pdf', 'IMX8MMIEC.pdf', 'IMX8MMIEC.pdf', 'IMX8MMIEC.pdf', 'IMX8MMIEC.pdf', 'IMX8MMIEC.pdf', 'IMX8MMIEC.pdf', 'IMX8MMIEC.pdf', 'IMX8MMIEC.pdf', 'IMX8MMIEC.pdf', 'IMX8MMIEC.pdf', 'IMX8MMIEC.pdf', 'IMX8MMIEC.pdf', 'IMX8MMIEC.pdf', 'IMX8MMIEC.pdf', 'IMX8MMIEC.pdf', 'IMX8MMIEC.pdf', 'IMX8MMIEC.pdf', 'IMX8MMIEC.pdf', 'IMX8MMIEC.pdf', 'IMX8MMIEC.pdf', 'IMX8MMIEC.pdf', 'IMX8MMIEC.pdf', 'IMX8MMIEC.pdf', 'IMX8MMIEC.pdf', 'IMX8MMIEC.pdf', 'IMX8MMIEC.pdf', 'IMX8MMIEC.pdf', 'IMX8MMIEC.pdf', 'IMX8MMIEC.pdf', 'IMX8MMIEC.pdf', 'IMX8MMIEC.pdf', 'IMX8MMIEC.pdf', 'IMX8MMIEC.pdf', 'IMX8MMIEC.pdf', 'IMX8MMIEC.pdf', 'IMX8MMIEC.pdf', 'IMX8MMIEC.pdf', 'IMX8MMIEC.pdf', 'IMX8MMIEC.pdf', 'IMX8MMIEC.pdf', 'IMX8MMIEC.pdf', 'IMX8MMIEC.pdf', 'IMX8MMIEC.pdf', 'IMX8MMIEC.pdf', 'IMX8MMIEC.pdf', 'IMX8MMIEC.pdf', 'IMX8MMIEC.pdf', 'IMX8MMIEC.pdf', 'IMX8MMIEC.pdf', 'IMX8MMIEC.pdf', 'IMX8MMIEC.pdf', 'IMX8MMIEC.pdf', 'IMX8MMIEC.pdf', 'IMX8MMIEC.pdf', 'IMX8MMIEC.pdf', 'IMX8MMIEC.pdf', 'IMX8MMIEC.pdf', 'IMX8MMIEC.pdf', 'IMX8MMIEC.pdf', 'IMX8MMIEC.pdf', 'IMX8MMIEC.pdf', 'IMX8MMIEC.pdf', 'IMX8MMIEC.pdf', 'IMX8MMIEC.pdf', 'IMX8MMIEC.pdf', 'IMX8MMIEC.pdf', 'IMX8MMIEC.pdf', 'IMX8MMIEC.pdf', 'IMX8MMIEC.pdf', 'IMX8MMIEC.pdf', 'IMX8MMIEC.pdf', 'IMX8MMIEC.pdf', 'IMX8MMIEC.pdf', 'IMX8MMIEC.pdf', 'IMX8MMIEC.pdf', 'IMX8MMIEC.pdf', 'IMX8MMIEC.pdf', 'IMX8MMIEC.pdf', 'IMX8MMIEC.pdf', 'IMX8MMIEC.pdf', 'IMX8MMIEC.pdf', 'IMX8MMIEC.pdf', 'IMX8MMIEC.pdf', 'IMX8MMIEC.pdf', 'IMX8MMIEC.pdf', 'IMX8MMIEC.pdf', 'IMX8MMIEC.pdf', 'IMX8MMIEC.pdf', 'IMX8MMIEC.pdf', 'IMX8MMIEC.pdf', 'IMX8MMIEC.pdf', 'IMX8MMIEC.pdf', 'IMX8MMIEC.pdf', 'IMX8MMIEC.pdf', 'IMX8MMIEC.pdf', 'IMX8MMIEC.pdf', 'IMX8MMIEC.pdf', 'IMX8MMIEC.pdf', 'IMX8MMIEC.pdf', 'IMX8MMIEC.pdf', 'IMX8MMIEC.pdf', 'IMX8MMIEC.pdf', 'IMX8MMIEC.pdf', 'IMX8MMIEC.pdf', 'IMX8MMIEC.pdf', 'IMX8MMIEC.pdf', 'IMX8MMIEC.pdf', 'IMX8MMIEC.pdf', 'IMX8MMIEC.pdf', 'IMX8MMIEC.pdf', 'IMX8MMIEC.pdf', 'IMX8MMIEC.pdf', 'IMX8MMIEC.pdf', 'IMX8MMIEC.pdf', 'IMX8MMIEC.pdf']\n"
     ]
    }
   ],
   "source": [
    "pdf_name = \"IMX8MMIEC.pdf\" \n",
    "\n",
    "chain5 = process_pdf_and_ask(pdf_name, DOCUMENT_DIR, clear_up=True)"
   ]
  },
  {
   "cell_type": "code",
   "execution_count": 68,
   "metadata": {},
   "outputs": [
    {
     "name": "stdout",
     "output_type": "stream",
     "text": [
      "{ 'attribute': 'Supplier Name', 'value': 'NXP Semiconductors', 'context': 'The document is from NXP Semiconductors' }\n",
      "{ 'attribute': 'Product Type', 'value': 'Not found', 'note': 'No information about the product type is mentioned in the document' }\n",
      "{ 'attribute': 'Dimension', 'value': '14 x 14 mm', 'context': 'Table 68. 14 x 14mm, 0.5 mm pitch ball map' }\n",
      "{ 'attribute': 'Orientation', 'value': 'Not found', 'note': 'No information about orientation is mentioned in the document' }\n",
      "{ 'attribute': 'Current Rating', 'value': 'Not found', 'note': 'No information about current rating is mentioned in the document' }\n",
      "{ 'attribute': 'Voltage', 'value': 'Not found', 'note': 'No information about voltage is mentioned in the document' }\n",
      "{ 'attribute': 'Clock Frequency (Low Speed)', 'value': '0 - 400 kHz', 'note': 'The document states that in Low-Speed mode, the card clock must be lower than 400 kHz.' },\n",
      "{ 'attribute': 'Clock Frequency (SD/SDIO Full Speed/High Speed)', 'value': '0 - 25/50 MHz', 'note': 'The document states that in Normal (Full) -Speed mode for SD/SDIO card, the clock frequency can be any value between 0—25 MHz in Full Speed mode and 0—50 MHz in High-speed mode.' },\n",
      "{ 'attribute': 'Clock Frequency (MMC Full Speed/High Speed)', 'value': '0 - 20/52 MHz', 'note': 'The document states that in Normal (Full) -Speed mode for MMC card, the clock frequency can be any value between 0—20 MHz in Full Speed mode and 0—52 MHz in High-speed mode.' },\n",
      "{ 'attribute': 'Clock Frequency (Identification Mode)', 'value': '100 - 400 kHz', 'note': 'The document states that in Identification Mode, the clock frequency ranges from 100 to 400 kHz.' }\n",
      "{'attribute': 'Impedance', 'value': 'Not found', 'note': 'No information about impedance is mentioned in the document'}\n",
      "{ 'attribute': 'Capacitance', 'value': 'Not found', 'note': 'No information about capacitance is mentioned in the document' }\n",
      "{ 'attribute': 'TMU Sensing Temperature', 'value': '10 - 125 °C', 'context': 'Extracted from the \"Electrical characteristics\" section of the document' }, { 'attribute': 'ty', 'value': '-40 - +105 °C', 'context': 'Extracted from the \"Electrical characteristics\" section of the document' }\n"
     ]
    }
   ],
   "source": [
    "complex_prompt_answers(chain5, system_message2)"
   ]
  },
  {
   "cell_type": "code",
   "execution_count": 69,
   "metadata": {},
   "outputs": [
    {
     "name": "stdout",
     "output_type": "stream",
     "text": [
      "{'attribute': 'Supplier Name', 'value': 'Not found', 'note': 'No information about the supplier name is mentioned in the document'}\n",
      "{'attribute': 'Product Type', 'value': 'Not found', 'note': 'No information about the product type is mentioned in the document'}\n",
      "{'attribute': 'Dimension', 'value': '14 x 14 mm', 'note': 'Extracted from the document as the package size'}\n",
      "{'attribute': 'Orientation', 'value': 'Not found', 'note': 'No information about orientation is mentioned in the document'}\n",
      "{'attribute': 'Current Rating', 'value': 'Not found', 'note': 'No information about current rating is mentioned in the document'}\n",
      "{'attribute': 'Voltage', 'value': [{'attribute': 'High-level output voltage', 'value': '0.8xVpp - Vpp', 'note': 'Extracted from the \"Electrical characteristics\" section'}, {'attribute': 'Low-level output voltage', 'value': '0 - 0.2xVpp', 'note': 'Extracted from the \"Electrical characteristics\" section'}, {'attribute': 'High-level input voltage', 'value': '0.7xVpp - Vpp + 0.3V', 'note': 'Extracted from the \"Electrical characteristics\" section'}, {'attribute': 'Low-level input voltage', 'value': '-0.3xVpp - 0.3xVpp', 'note': 'Extracted from the \"Electrical characteristics\" section'}]}\n",
      "{'attribute': 'Frequency', 'value': [{'attribute': 'Clock Frequency (Low Speed)', 'value': '0-400 kHz', 'note': 'Low-Speed mode'}, {'attribute': 'Clock Frequency (SD/SDIO Full Speed/High Speed)', 'value': '0-25/50 MHz', 'note': 'Normal (Full) -Speed mode for SD/SDIO card'}, {'attribute': 'Clock Frequency (MMC Full Speed/High Speed)', 'value': '0-20/52 MHz', 'note': 'Normal (Full) -Speed mode for MMC card'}]}\n",
      "{'attribute': 'Impedance', 'value': 'Not found', 'note': 'No information about impedance is mentioned in the document'}\n",
      "{'attribute': 'Capacitance', 'value': '12.5 pF', 'note': 'Extracted from the table in the document'}\n",
      "{'attribute': 'Temperature', 'value': [{'attribute': 'TMU Sensing Temperature', 'value': '10 - 125 °C', 'note': 'Extracted from Table 10. Operating ranges'}, {'attribute': 'ty', 'value': '-40 - +105 °C', 'note': 'Extracted from Table 10. Operating ranges'}]}\n"
     ]
    }
   ],
   "source": [
    "complex_prompt_answers(chain5, system_message3)"
   ]
  },
  {
   "cell_type": "code",
   "execution_count": null,
   "metadata": {},
   "outputs": [],
   "source": []
  }
 ],
 "metadata": {
  "kernelspec": {
   "display_name": "Python 3.10 (tensorflow)",
   "language": "python",
   "name": "tensorflow"
  },
  "language_info": {
   "codemirror_mode": {
    "name": "ipython",
    "version": 3
   },
   "file_extension": ".py",
   "mimetype": "text/x-python",
   "name": "python",
   "nbconvert_exporter": "python",
   "pygments_lexer": "ipython3",
   "version": "3.10.10"
  },
  "orig_nbformat": 4
 },
 "nbformat": 4,
 "nbformat_minor": 2
}
