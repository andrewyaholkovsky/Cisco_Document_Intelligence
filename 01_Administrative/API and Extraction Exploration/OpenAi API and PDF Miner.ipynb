{
 "cells": [
  {
   "cell_type": "markdown",
   "id": "671aea1c",
   "metadata": {},
   "source": [
    "## Setting up API"
   ]
  },
  {
   "cell_type": "code",
   "execution_count": 1,
   "id": "3cf44b72",
   "metadata": {},
   "outputs": [],
   "source": [
    "import os\n",
    "import openai\n",
    " \n",
    "openai.api_key = os.environ[\"OPENAI_API_KEY\"]\n",
    "openai_api_key = os.getenv('OPENAI_API_KEY')"
   ]
  },
  {
   "cell_type": "markdown",
   "id": "c591b8db",
   "metadata": {},
   "source": [
    "\n",
    "#### Use versions openai==0.28.1, langchain==0.0.316 for the use of \"schema\". Otherwise, upgrade to latest versions for chat completions below\n"
   ]
  },
  {
   "cell_type": "code",
   "execution_count": 2,
   "id": "140b698b",
   "metadata": {},
   "outputs": [
    {
     "name": "stdout",
     "output_type": "stream",
     "text": [
      "Enter your prompt: \n",
      "Response: Still loading...\n",
      "\n",
      "A B C D E 1 2 FIRST RATE UP 4*s 3 Lu Bu to Guan Yu Da Qiao & Xiao Qiao to Zhuge Liang Sun Quan to Zhou Yu 4 Hozoin Inugami 5 Kintoki Fuuma Kotarou Lu Bu Zhuge Liang Sun Quan 6 Kain Kintoki Fuuma 7 Diarmuid Marth Aran 8 Bathory (Lancer) to (Caster) BF Chibi Tamamo No Mochizou Anne Bonny & Mary Read (Archer) to (Assassin) 9 Vlad III (Lancer) to (Saber) Vlad III (Saber) to (Berserker) 10 Kiki (Assassin) to (Hunter)\n"
     ]
    }
   ],
   "source": [
    "import os\n",
    "import openai\n",
    "\n",
    "\n",
    "# Set this once for the duration of the notebook\n",
    "openai.api_key = openai_api_key\n",
    "\n",
    "def query_openai_api(prompt_text):\n",
    "    response = openai.Completion.create(\n",
    "        engine=\"davinci\",\n",
    "        prompt=prompt_text,\n",
    "        max_tokens=150\n",
    "    )\n",
    "    response_text = response.choices[0].text.strip()\n",
    "    return response_text\n",
    "\n",
    "\n",
    "user_input = input(\"Enter your prompt: \")\n",
    "response = query_openai_api(user_input)\n",
    "print(f\"Response: {response}\")\n"
   ]
  },
  {
   "cell_type": "code",
   "execution_count": 3,
   "id": "44448d33",
   "metadata": {},
   "outputs": [],
   "source": [
    "api_key = openai_api_key"
   ]
  },
  {
   "cell_type": "markdown",
   "id": "25e473d1",
   "metadata": {},
   "source": [
    "## PDF to text "
   ]
  },
  {
   "cell_type": "code",
   "execution_count": 2,
   "id": "fa11baee",
   "metadata": {},
   "outputs": [],
   "source": [
    "#extracting text from PDFs using pdfminer"
   ]
  },
  {
   "cell_type": "code",
   "execution_count": 11,
   "id": "9c706574",
   "metadata": {},
   "outputs": [],
   "source": [
    "from pdfminer.high_level import extract_text\n",
    "\n",
    "def extract_text_from_pdf(pdf_path):\n",
    "    return extract_text(pdf_path)\n"
   ]
  },
  {
   "cell_type": "code",
   "execution_count": 12,
   "id": "b84de439",
   "metadata": {
    "scrolled": true
   },
   "outputs": [],
   "source": [
    "pdf_path = 'Vivi7/gs-12-1565.pdf'\n",
    "text_content = extract_text_from_pdf(pdf_path)"
   ]
  },
  {
   "cell_type": "code",
   "execution_count": 13,
   "id": "a741795b",
   "metadata": {},
   "outputs": [],
   "source": [
    "from pdfminer.high_level import extract_pages\n",
    "from pdfminer.layout import LTTextContainer\n",
    "\n",
    "def extract_text_from_pdf(pdf_path):\n",
    "    extracted_text = \"\"\n",
    "    for page in extract_pages(pdf_path):\n",
    "        for element in page:\n",
    "            if isinstance(element, LTTextContainer):\n",
    "                for text_line in element:\n",
    "                    extracted_text += text_line.get_text()\n",
    "    return extracted_text"
   ]
  },
  {
   "cell_type": "code",
   "execution_count": 14,
   "id": "02e47bbb",
   "metadata": {},
   "outputs": [],
   "source": [
    "pdf_path = 'Vivi7/gs-12-1565.pdf'\n",
    "text_content = extract_text_from_pdf(pdf_path)"
   ]
  },
  {
   "cell_type": "markdown",
   "id": "b58d17b5",
   "metadata": {},
   "source": [
    "## Tokenizer"
   ]
  },
  {
   "cell_type": "code",
   "execution_count": 8,
   "id": "45abb7f0",
   "metadata": {},
   "outputs": [],
   "source": [
    "import tiktoken\n",
    "\n",
    "def num_tokens_from_string(string: str, encoding_name: str) -> int:\n",
    "    encoding = tiktoken.get_encoding(encoding_name)\n",
    "    num_tokens = len(encoding.encode(string))\n",
    "    return num_tokens\n"
   ]
  },
  {
   "cell_type": "code",
   "execution_count": 9,
   "id": "3df6388a",
   "metadata": {},
   "outputs": [
    {
     "name": "stdout",
     "output_type": "stream",
     "text": [
      "7654\n"
     ]
    }
   ],
   "source": [
    "print(num_tokens_from_string(text_content, \"cl100k_base\"))"
   ]
  },
  {
   "cell_type": "code",
   "execution_count": 24,
   "id": "6a397875",
   "metadata": {},
   "outputs": [
    {
     "name": "stdout",
     "output_type": "stream",
     "text": [
      "7654\n"
     ]
    }
   ],
   "source": [
    "pdf_path = 'Vivi7/gs-12-1565.pdf'\n",
    "text_content = extract_text_from_pdf(pdf_path)\n",
    "print(num_tokens_from_string(text_content, \"cl100k_base\"))\n",
    "\n",
    "text_len1 = num_tokens_from_string(text_content, \"cl100k_base\")"
   ]
  },
  {
   "cell_type": "code",
   "execution_count": 25,
   "id": "cb6403e9",
   "metadata": {},
   "outputs": [
    {
     "name": "stdout",
     "output_type": "stream",
     "text": [
      "4936\n"
     ]
    }
   ],
   "source": [
    "pdf_path = 'Vivi7/gs-12-1457.pdf'\n",
    "text_content = extract_text_from_pdf(pdf_path)\n",
    "print(num_tokens_from_string(text_content, \"cl100k_base\"))\n",
    "\n",
    "text_len2 = num_tokens_from_string(text_content, \"cl100k_base\")"
   ]
  },
  {
   "cell_type": "code",
   "execution_count": 26,
   "id": "f37e2db6",
   "metadata": {},
   "outputs": [
    {
     "name": "stdout",
     "output_type": "stream",
     "text": [
      "3145\n"
     ]
    }
   ],
   "source": [
    "pdf_path = 'Vivi7/ssio_mini_cooledge_0_60mm.pdf'\n",
    "text_content = extract_text_from_pdf(pdf_path)\n",
    "print(num_tokens_from_string(text_content, \"cl100k_base\"))\n",
    "\n",
    "text_len3 = num_tokens_from_string(text_content, \"cl100k_base\")"
   ]
  },
  {
   "cell_type": "code",
   "execution_count": 27,
   "id": "e58d3e86",
   "metadata": {},
   "outputs": [
    {
     "name": "stdout",
     "output_type": "stream",
     "text": [
      "4603\n"
     ]
    }
   ],
   "source": [
    "pdf_path = 'Vivi7/2031430001-PS.pdf'\n",
    "text_content = extract_text_from_pdf(pdf_path)\n",
    "print(num_tokens_from_string(text_content, \"cl100k_base\"))\n",
    "\n",
    "text_len4 = num_tokens_from_string(text_content, \"cl100k_base\")"
   ]
  },
  {
   "cell_type": "code",
   "execution_count": 28,
   "id": "a01830fb",
   "metadata": {
    "scrolled": true
   },
   "outputs": [
    {
     "name": "stdout",
     "output_type": "stream",
     "text": [
      "748\n"
     ]
    }
   ],
   "source": [
    "pdf_path = 'Vivi7/vzh680m2atr-1313s.pdf'\n",
    "text_content = extract_text_from_pdf(pdf_path)\n",
    "print(num_tokens_from_string(text_content, \"cl100k_base\"))\n",
    "\n",
    "text_len5 = num_tokens_from_string(text_content, \"cl100k_base\")"
   ]
  },
  {
   "cell_type": "code",
   "execution_count": 29,
   "id": "e03564e9",
   "metadata": {},
   "outputs": [
    {
     "name": "stderr",
     "output_type": "stream",
     "text": [
      "The PDF <_io.BufferedReader name='Vivi7/KGM15CR51E106K-DATA.pdf'> contains a metadata field indicating that it should not allow text extraction. Ignoring this field and proceeding. Use the check_extractable if you want to raise an error in this case\n"
     ]
    },
    {
     "name": "stdout",
     "output_type": "stream",
     "text": [
      "449\n"
     ]
    }
   ],
   "source": [
    "pdf_path = 'Vivi7/KGM15CR51E106K-DATA.pdf'\n",
    "text_content = extract_text_from_pdf(pdf_path)\n",
    "print(num_tokens_from_string(text_content, \"cl100k_base\"))\n",
    "\n",
    "text_len6 = num_tokens_from_string(text_content, \"cl100k_base\")"
   ]
  },
  {
   "cell_type": "code",
   "execution_count": 31,
   "id": "63314673",
   "metadata": {},
   "outputs": [
    {
     "data": {
      "text/plain": [
       "3589.1666666666665"
      ]
     },
     "execution_count": 31,
     "metadata": {},
     "output_type": "execute_result"
    }
   ],
   "source": [
    "text_sum = text_len1 + text_len2 + text_len3 + text_len4 + text_len5 + text_len6\n",
    "text_sum/6"
   ]
  },
  {
   "cell_type": "code",
   "execution_count": 35,
   "id": "8a81a0a9",
   "metadata": {},
   "outputs": [
    {
     "name": "stdout",
     "output_type": "stream",
     "text": [
      "102\n"
     ]
    }
   ],
   "source": [
    "query = \"Please extract any sentence about the following information and include note for each attribute you extracted. (a) supplier name,..., (j) Other configuration settings. Please provide the answer in the following format:  { attribute: attribute Name, value: attribute value, note: context to where and why you extracted the value }, { attribute: attribute Name, value: attribute value, context: context to where and why you extracted the value }, etc. for Supplier Name, Product type, Dimensions and so on. \"\n",
    "print(num_tokens_from_string(query, \"cl100k_base\"))\n",
    "\n"
   ]
  },
  {
   "cell_type": "code",
   "execution_count": 37,
   "id": "e8d24572",
   "metadata": {},
   "outputs": [
    {
     "name": "stdout",
     "output_type": "stream",
     "text": [
      "379\n"
     ]
    }
   ],
   "source": [
    "data = [\n",
    "    {\"attribute\": \"Supplier Name\", \"value\": \"AICC\", \"note\": \"The supplier name is mentioned in the copyright notice © 201 8 AICC\"},\n",
    "    {\"attribute\": \"Product type\", \"value\": \"EXAMAX2 ™ and EXAMEZZ2 ™ Connector System\", \"note\": \"The product type is mentioned in the title of the document\"},\n",
    "    {\"attribute\": \"Dimensions\", \"value\": \"Not specified\", \"note\": \"The document does not provide specific dimensions for the product\"},\n",
    "    {\"attribute\": \"Orientation\", \"value\": \"Right Angle Receptacle (RAR), Vertical Header (VH), Right Angle Orthogonal Header (RAOH) , Right Angle Header (RAH) , Vertical Receptacle (VR)\", \"note\": \"The orientation is mentioned in the scope section of the document\"},\n",
    "    {\"attribute\": \"Current Rating\", \"value\": \"See AICC Power Design Guide GS -20-0456\", \"note\": \"The current rating is mentioned in the ratings section of the document\"},\n",
    "    {\"attribute\": \"Voltage\", \"value\": \"< 30 VAC RMS / DC for Agency Voltage Rating and 150 VAC RMS or V DC Maximum for Non-Agency Voltage Rating\", \"note\": \"The voltage is mentioned in the ratings section of the document\"},\n",
    "    {\"attribute\": \"Frequency\", \"value\": \"10 to 500 to 10 hertz\", \"note\": \"The frequency is mentioned in the Vibration Sinusoidal test condition in the document\"},\n",
    "    {\"attribute\": \"Impedance\", \"value\": \"Not specified\", \"note\": \"The document does not provide specific information on impedance\"},\n",
    "    {\"attribute\": \"Capacitance\", \"value\": \"Not specified\", \"note\": \"The document does not provide specific information on capacitance\"},\n",
    "    {\"attribute\": \"Temperatures\", \"value\": \"-55 to 85 oC\", \"note\": \"The operating temperature range is mentioned in the ratings section of the document\"},\n",
    "    {\"attribute\": \"Other configuration settings\", \"value\": \"Not specified\", \"note\": \"The document does not provide other specific configuration settings\"}\n",
    "]\n",
    "\n",
    "text_representation = \"\"\n",
    "for item in data:\n",
    "    text_representation += \"{ \"\n",
    "    for key, value in item.items():\n",
    "        text_representation += f\"{key}: {value}, \"\n",
    "    text_representation = text_representation.rstrip(\", \") + \" }, \"\n",
    "\n",
    "text_representation = text_representation.rstrip(\", \")\n",
    "\n",
    "print(num_tokens_from_string(text_representation, \"cl100k_base\"))\n"
   ]
  },
  {
   "cell_type": "markdown",
   "id": "86bfaa52",
   "metadata": {},
   "source": [
    "## Question with Endpoint"
   ]
  },
  {
   "cell_type": "code",
   "execution_count": 9,
   "id": "8abd3cfb",
   "metadata": {},
   "outputs": [],
   "source": [
    "def ask_question_about_document(document, question):\n",
    "    messages = [\n",
    "        {\"role\": \"system\", \"content\": \"You are a helpful assistant.\"},\n",
    "        {\"role\": \"user\", \"content\": document},\n",
    "        {\"role\": \"user\", \"content\": question}\n",
    "    ]\n",
    "\n",
    "    response = openai.ChatCompletion.create(\n",
    "        model=\"gpt-3.5-turbo\",\n",
    "        messages=messages\n",
    "    )\n",
    "    \n",
    "    return response.choices[0].message['content']\n"
   ]
  },
  {
   "cell_type": "markdown",
   "id": "dcf7c2ca",
   "metadata": {},
   "source": [
    "### gpt-3.5-turbo has a limit of 4k tokens"
   ]
  },
  {
   "cell_type": "code",
   "execution_count": 15,
   "id": "0a8cfaeb",
   "metadata": {},
   "outputs": [
    {
     "ename": "AuthenticationError",
     "evalue": "No such organization: org-T7JKxWg982glXyzQO9bS7xbU.",
     "output_type": "error",
     "traceback": [
      "\u001b[0;31m---------------------------------------------------------------------------\u001b[0m",
      "\u001b[0;31mAuthenticationError\u001b[0m                       Traceback (most recent call last)",
      "\u001b[0;32m/var/folders/xg/8zx_jm0x3bddtdbddx13kckm0000gn/T/ipykernel_4132/3775611486.py\u001b[0m in \u001b[0;36m<module>\u001b[0;34m\u001b[0m\n\u001b[1;32m      1\u001b[0m \u001b[0;31m# Example use:\u001b[0m\u001b[0;34m\u001b[0m\u001b[0;34m\u001b[0m\u001b[0m\n\u001b[1;32m      2\u001b[0m \u001b[0mquestion\u001b[0m \u001b[0;34m=\u001b[0m \u001b[0;34m\"What is the main topic of the document?\"\u001b[0m\u001b[0;34m\u001b[0m\u001b[0;34m\u001b[0m\u001b[0m\n\u001b[0;32m----> 3\u001b[0;31m \u001b[0manswer\u001b[0m \u001b[0;34m=\u001b[0m \u001b[0mask_question_about_document\u001b[0m\u001b[0;34m(\u001b[0m\u001b[0mtext_content\u001b[0m\u001b[0;34m,\u001b[0m \u001b[0mquestion\u001b[0m\u001b[0;34m)\u001b[0m\u001b[0;34m\u001b[0m\u001b[0;34m\u001b[0m\u001b[0m\n\u001b[0m\u001b[1;32m      4\u001b[0m \u001b[0mprint\u001b[0m\u001b[0;34m(\u001b[0m\u001b[0;34mf\"Answer: {answer}\"\u001b[0m\u001b[0;34m)\u001b[0m\u001b[0;34m\u001b[0m\u001b[0;34m\u001b[0m\u001b[0m\n",
      "\u001b[0;32m/var/folders/xg/8zx_jm0x3bddtdbddx13kckm0000gn/T/ipykernel_4132/1476323319.py\u001b[0m in \u001b[0;36mask_question_about_document\u001b[0;34m(document, question)\u001b[0m\n\u001b[1;32m      6\u001b[0m     ]\n\u001b[1;32m      7\u001b[0m \u001b[0;34m\u001b[0m\u001b[0m\n\u001b[0;32m----> 8\u001b[0;31m     response = openai.ChatCompletion.create(\n\u001b[0m\u001b[1;32m      9\u001b[0m         \u001b[0mmodel\u001b[0m\u001b[0;34m=\u001b[0m\u001b[0;34m\"gpt-3.5-turbo\"\u001b[0m\u001b[0;34m,\u001b[0m\u001b[0;34m\u001b[0m\u001b[0;34m\u001b[0m\u001b[0m\n\u001b[1;32m     10\u001b[0m         \u001b[0mmessages\u001b[0m\u001b[0;34m=\u001b[0m\u001b[0mmessages\u001b[0m\u001b[0;34m\u001b[0m\u001b[0;34m\u001b[0m\u001b[0m\n",
      "\u001b[0;32m~/opt/anaconda3/lib/python3.9/site-packages/openai/api_resources/chat_completion.py\u001b[0m in \u001b[0;36mcreate\u001b[0;34m(cls, *args, **kwargs)\u001b[0m\n\u001b[1;32m     23\u001b[0m         \u001b[0;32mwhile\u001b[0m \u001b[0;32mTrue\u001b[0m\u001b[0;34m:\u001b[0m\u001b[0;34m\u001b[0m\u001b[0;34m\u001b[0m\u001b[0m\n\u001b[1;32m     24\u001b[0m             \u001b[0;32mtry\u001b[0m\u001b[0;34m:\u001b[0m\u001b[0;34m\u001b[0m\u001b[0;34m\u001b[0m\u001b[0m\n\u001b[0;32m---> 25\u001b[0;31m                 \u001b[0;32mreturn\u001b[0m \u001b[0msuper\u001b[0m\u001b[0;34m(\u001b[0m\u001b[0;34m)\u001b[0m\u001b[0;34m.\u001b[0m\u001b[0mcreate\u001b[0m\u001b[0;34m(\u001b[0m\u001b[0;34m*\u001b[0m\u001b[0margs\u001b[0m\u001b[0;34m,\u001b[0m \u001b[0;34m**\u001b[0m\u001b[0mkwargs\u001b[0m\u001b[0;34m)\u001b[0m\u001b[0;34m\u001b[0m\u001b[0;34m\u001b[0m\u001b[0m\n\u001b[0m\u001b[1;32m     26\u001b[0m             \u001b[0;32mexcept\u001b[0m \u001b[0mTryAgain\u001b[0m \u001b[0;32mas\u001b[0m \u001b[0me\u001b[0m\u001b[0;34m:\u001b[0m\u001b[0;34m\u001b[0m\u001b[0;34m\u001b[0m\u001b[0m\n\u001b[1;32m     27\u001b[0m                 \u001b[0;32mif\u001b[0m \u001b[0mtimeout\u001b[0m \u001b[0;32mis\u001b[0m \u001b[0;32mnot\u001b[0m \u001b[0;32mNone\u001b[0m \u001b[0;32mand\u001b[0m \u001b[0mtime\u001b[0m\u001b[0;34m.\u001b[0m\u001b[0mtime\u001b[0m\u001b[0;34m(\u001b[0m\u001b[0;34m)\u001b[0m \u001b[0;34m>\u001b[0m \u001b[0mstart\u001b[0m \u001b[0;34m+\u001b[0m \u001b[0mtimeout\u001b[0m\u001b[0;34m:\u001b[0m\u001b[0;34m\u001b[0m\u001b[0;34m\u001b[0m\u001b[0m\n",
      "\u001b[0;32m~/opt/anaconda3/lib/python3.9/site-packages/openai/api_resources/abstract/engine_api_resource.py\u001b[0m in \u001b[0;36mcreate\u001b[0;34m(cls, api_key, api_base, api_type, request_id, api_version, organization, **params)\u001b[0m\n\u001b[1;32m    153\u001b[0m         )\n\u001b[1;32m    154\u001b[0m \u001b[0;34m\u001b[0m\u001b[0m\n\u001b[0;32m--> 155\u001b[0;31m         response, _, api_key = requestor.request(\n\u001b[0m\u001b[1;32m    156\u001b[0m             \u001b[0;34m\"post\"\u001b[0m\u001b[0;34m,\u001b[0m\u001b[0;34m\u001b[0m\u001b[0;34m\u001b[0m\u001b[0m\n\u001b[1;32m    157\u001b[0m             \u001b[0murl\u001b[0m\u001b[0;34m,\u001b[0m\u001b[0;34m\u001b[0m\u001b[0;34m\u001b[0m\u001b[0m\n",
      "\u001b[0;32m~/opt/anaconda3/lib/python3.9/site-packages/openai/api_requestor.py\u001b[0m in \u001b[0;36mrequest\u001b[0;34m(self, method, url, params, headers, files, stream, request_id, request_timeout)\u001b[0m\n\u001b[1;32m    297\u001b[0m             \u001b[0mrequest_timeout\u001b[0m\u001b[0;34m=\u001b[0m\u001b[0mrequest_timeout\u001b[0m\u001b[0;34m,\u001b[0m\u001b[0;34m\u001b[0m\u001b[0;34m\u001b[0m\u001b[0m\n\u001b[1;32m    298\u001b[0m         )\n\u001b[0;32m--> 299\u001b[0;31m         \u001b[0mresp\u001b[0m\u001b[0;34m,\u001b[0m \u001b[0mgot_stream\u001b[0m \u001b[0;34m=\u001b[0m \u001b[0mself\u001b[0m\u001b[0;34m.\u001b[0m\u001b[0m_interpret_response\u001b[0m\u001b[0;34m(\u001b[0m\u001b[0mresult\u001b[0m\u001b[0;34m,\u001b[0m \u001b[0mstream\u001b[0m\u001b[0;34m)\u001b[0m\u001b[0;34m\u001b[0m\u001b[0;34m\u001b[0m\u001b[0m\n\u001b[0m\u001b[1;32m    300\u001b[0m         \u001b[0;32mreturn\u001b[0m \u001b[0mresp\u001b[0m\u001b[0;34m,\u001b[0m \u001b[0mgot_stream\u001b[0m\u001b[0;34m,\u001b[0m \u001b[0mself\u001b[0m\u001b[0;34m.\u001b[0m\u001b[0mapi_key\u001b[0m\u001b[0;34m\u001b[0m\u001b[0;34m\u001b[0m\u001b[0m\n\u001b[1;32m    301\u001b[0m \u001b[0;34m\u001b[0m\u001b[0m\n",
      "\u001b[0;32m~/opt/anaconda3/lib/python3.9/site-packages/openai/api_requestor.py\u001b[0m in \u001b[0;36m_interpret_response\u001b[0;34m(self, result, stream)\u001b[0m\n\u001b[1;32m    708\u001b[0m         \u001b[0;32melse\u001b[0m\u001b[0;34m:\u001b[0m\u001b[0;34m\u001b[0m\u001b[0;34m\u001b[0m\u001b[0m\n\u001b[1;32m    709\u001b[0m             return (\n\u001b[0;32m--> 710\u001b[0;31m                 self._interpret_response_line(\n\u001b[0m\u001b[1;32m    711\u001b[0m                     \u001b[0mresult\u001b[0m\u001b[0;34m.\u001b[0m\u001b[0mcontent\u001b[0m\u001b[0;34m.\u001b[0m\u001b[0mdecode\u001b[0m\u001b[0;34m(\u001b[0m\u001b[0;34m\"utf-8\"\u001b[0m\u001b[0;34m)\u001b[0m\u001b[0;34m,\u001b[0m\u001b[0;34m\u001b[0m\u001b[0;34m\u001b[0m\u001b[0m\n\u001b[1;32m    712\u001b[0m                     \u001b[0mresult\u001b[0m\u001b[0;34m.\u001b[0m\u001b[0mstatus_code\u001b[0m\u001b[0;34m,\u001b[0m\u001b[0;34m\u001b[0m\u001b[0;34m\u001b[0m\u001b[0m\n",
      "\u001b[0;32m~/opt/anaconda3/lib/python3.9/site-packages/openai/api_requestor.py\u001b[0m in \u001b[0;36m_interpret_response_line\u001b[0;34m(self, rbody, rcode, rheaders, stream)\u001b[0m\n\u001b[1;32m    773\u001b[0m         \u001b[0mstream_error\u001b[0m \u001b[0;34m=\u001b[0m \u001b[0mstream\u001b[0m \u001b[0;32mand\u001b[0m \u001b[0;34m\"error\"\u001b[0m \u001b[0;32min\u001b[0m \u001b[0mresp\u001b[0m\u001b[0;34m.\u001b[0m\u001b[0mdata\u001b[0m\u001b[0;34m\u001b[0m\u001b[0;34m\u001b[0m\u001b[0m\n\u001b[1;32m    774\u001b[0m         \u001b[0;32mif\u001b[0m \u001b[0mstream_error\u001b[0m \u001b[0;32mor\u001b[0m \u001b[0;32mnot\u001b[0m \u001b[0;36m200\u001b[0m \u001b[0;34m<=\u001b[0m \u001b[0mrcode\u001b[0m \u001b[0;34m<\u001b[0m \u001b[0;36m300\u001b[0m\u001b[0;34m:\u001b[0m\u001b[0;34m\u001b[0m\u001b[0;34m\u001b[0m\u001b[0m\n\u001b[0;32m--> 775\u001b[0;31m             raise self.handle_error_response(\n\u001b[0m\u001b[1;32m    776\u001b[0m                 \u001b[0mrbody\u001b[0m\u001b[0;34m,\u001b[0m \u001b[0mrcode\u001b[0m\u001b[0;34m,\u001b[0m \u001b[0mresp\u001b[0m\u001b[0;34m.\u001b[0m\u001b[0mdata\u001b[0m\u001b[0;34m,\u001b[0m \u001b[0mrheaders\u001b[0m\u001b[0;34m,\u001b[0m \u001b[0mstream_error\u001b[0m\u001b[0;34m=\u001b[0m\u001b[0mstream_error\u001b[0m\u001b[0;34m\u001b[0m\u001b[0;34m\u001b[0m\u001b[0m\n\u001b[1;32m    777\u001b[0m             )\n",
      "\u001b[0;31mAuthenticationError\u001b[0m: No such organization: org-T7JKxWg982glXyzQO9bS7xbU."
     ]
    }
   ],
   "source": [
    "# Example use:\n",
    "question = \"What is the main topic of the document?\"\n",
    "answer = ask_question_about_document(text_content, question)\n",
    "print(f\"Answer: {answer}\")"
   ]
  },
  {
   "cell_type": "markdown",
   "id": "21b3472d",
   "metadata": {},
   "source": [
    "### truncating to the first 10,000 characters"
   ]
  },
  {
   "cell_type": "code",
   "execution_count": 18,
   "id": "f9083c2e",
   "metadata": {},
   "outputs": [
    {
     "ename": "AuthenticationError",
     "evalue": "No API key provided. You can set your API key in code using 'openai.api_key = <API-KEY>', or you can set the environment variable OPENAI_API_KEY=<API-KEY>). If your API key is stored in a file, you can point the openai module at it with 'openai.api_key_path = <PATH>'. You can generate API keys in the OpenAI web interface. See https://platform.openai.com/account/api-keys for details.",
     "output_type": "error",
     "traceback": [
      "\u001b[0;31m---------------------------------------------------------------------------\u001b[0m",
      "\u001b[0;31mAuthenticationError\u001b[0m                       Traceback (most recent call last)",
      "\u001b[0;32m/var/folders/xg/8zx_jm0x3bddtdbddx13kckm0000gn/T/ipykernel_53137/2549787155.py\u001b[0m in \u001b[0;36m<module>\u001b[0;34m\u001b[0m\n\u001b[1;32m      1\u001b[0m \u001b[0;31m# Example use:\u001b[0m\u001b[0;34m\u001b[0m\u001b[0;34m\u001b[0m\u001b[0m\n\u001b[1;32m      2\u001b[0m \u001b[0mquestion\u001b[0m \u001b[0;34m=\u001b[0m \u001b[0;34m\"What is the main topic of the document?\"\u001b[0m\u001b[0;34m\u001b[0m\u001b[0;34m\u001b[0m\u001b[0m\n\u001b[0;32m----> 3\u001b[0;31m \u001b[0manswer\u001b[0m \u001b[0;34m=\u001b[0m \u001b[0mask_question_about_document\u001b[0m\u001b[0;34m(\u001b[0m\u001b[0mtext_content\u001b[0m\u001b[0;34m[\u001b[0m\u001b[0;34m:\u001b[0m\u001b[0;36m10000\u001b[0m\u001b[0;34m]\u001b[0m\u001b[0;34m,\u001b[0m \u001b[0mquestion\u001b[0m\u001b[0;34m)\u001b[0m\u001b[0;34m\u001b[0m\u001b[0;34m\u001b[0m\u001b[0m\n\u001b[0m\u001b[1;32m      4\u001b[0m \u001b[0mprint\u001b[0m\u001b[0;34m(\u001b[0m\u001b[0;34mf\"Answer: {answer}\"\u001b[0m\u001b[0;34m)\u001b[0m\u001b[0;34m\u001b[0m\u001b[0;34m\u001b[0m\u001b[0m\n",
      "\u001b[0;32m/var/folders/xg/8zx_jm0x3bddtdbddx13kckm0000gn/T/ipykernel_53137/1476323319.py\u001b[0m in \u001b[0;36mask_question_about_document\u001b[0;34m(document, question)\u001b[0m\n\u001b[1;32m      6\u001b[0m     ]\n\u001b[1;32m      7\u001b[0m \u001b[0;34m\u001b[0m\u001b[0m\n\u001b[0;32m----> 8\u001b[0;31m     response = openai.ChatCompletion.create(\n\u001b[0m\u001b[1;32m      9\u001b[0m         \u001b[0mmodel\u001b[0m\u001b[0;34m=\u001b[0m\u001b[0;34m\"gpt-3.5-turbo\"\u001b[0m\u001b[0;34m,\u001b[0m\u001b[0;34m\u001b[0m\u001b[0;34m\u001b[0m\u001b[0m\n\u001b[1;32m     10\u001b[0m         \u001b[0mmessages\u001b[0m\u001b[0;34m=\u001b[0m\u001b[0mmessages\u001b[0m\u001b[0;34m\u001b[0m\u001b[0;34m\u001b[0m\u001b[0m\n",
      "\u001b[0;32m~/opt/anaconda3/lib/python3.9/site-packages/openai/api_resources/chat_completion.py\u001b[0m in \u001b[0;36mcreate\u001b[0;34m(cls, *args, **kwargs)\u001b[0m\n\u001b[1;32m     23\u001b[0m         \u001b[0;32mwhile\u001b[0m \u001b[0;32mTrue\u001b[0m\u001b[0;34m:\u001b[0m\u001b[0;34m\u001b[0m\u001b[0;34m\u001b[0m\u001b[0m\n\u001b[1;32m     24\u001b[0m             \u001b[0;32mtry\u001b[0m\u001b[0;34m:\u001b[0m\u001b[0;34m\u001b[0m\u001b[0;34m\u001b[0m\u001b[0m\n\u001b[0;32m---> 25\u001b[0;31m                 \u001b[0;32mreturn\u001b[0m \u001b[0msuper\u001b[0m\u001b[0;34m(\u001b[0m\u001b[0;34m)\u001b[0m\u001b[0;34m.\u001b[0m\u001b[0mcreate\u001b[0m\u001b[0;34m(\u001b[0m\u001b[0;34m*\u001b[0m\u001b[0margs\u001b[0m\u001b[0;34m,\u001b[0m \u001b[0;34m**\u001b[0m\u001b[0mkwargs\u001b[0m\u001b[0;34m)\u001b[0m\u001b[0;34m\u001b[0m\u001b[0;34m\u001b[0m\u001b[0m\n\u001b[0m\u001b[1;32m     26\u001b[0m             \u001b[0;32mexcept\u001b[0m \u001b[0mTryAgain\u001b[0m \u001b[0;32mas\u001b[0m \u001b[0me\u001b[0m\u001b[0;34m:\u001b[0m\u001b[0;34m\u001b[0m\u001b[0;34m\u001b[0m\u001b[0m\n\u001b[1;32m     27\u001b[0m                 \u001b[0;32mif\u001b[0m \u001b[0mtimeout\u001b[0m \u001b[0;32mis\u001b[0m \u001b[0;32mnot\u001b[0m \u001b[0;32mNone\u001b[0m \u001b[0;32mand\u001b[0m \u001b[0mtime\u001b[0m\u001b[0;34m.\u001b[0m\u001b[0mtime\u001b[0m\u001b[0;34m(\u001b[0m\u001b[0;34m)\u001b[0m \u001b[0;34m>\u001b[0m \u001b[0mstart\u001b[0m \u001b[0;34m+\u001b[0m \u001b[0mtimeout\u001b[0m\u001b[0;34m:\u001b[0m\u001b[0;34m\u001b[0m\u001b[0;34m\u001b[0m\u001b[0m\n",
      "\u001b[0;32m~/opt/anaconda3/lib/python3.9/site-packages/openai/api_resources/abstract/engine_api_resource.py\u001b[0m in \u001b[0;36mcreate\u001b[0;34m(cls, api_key, api_base, api_type, request_id, api_version, organization, **params)\u001b[0m\n\u001b[1;32m    149\u001b[0m             \u001b[0murl\u001b[0m\u001b[0;34m,\u001b[0m\u001b[0;34m\u001b[0m\u001b[0;34m\u001b[0m\u001b[0m\n\u001b[1;32m    150\u001b[0m             \u001b[0mparams\u001b[0m\u001b[0;34m,\u001b[0m\u001b[0;34m\u001b[0m\u001b[0;34m\u001b[0m\u001b[0m\n\u001b[0;32m--> 151\u001b[0;31m         \u001b[0;34m)\u001b[0m \u001b[0;34m=\u001b[0m \u001b[0mcls\u001b[0m\u001b[0;34m.\u001b[0m\u001b[0m__prepare_create_request\u001b[0m\u001b[0;34m(\u001b[0m\u001b[0;34m\u001b[0m\u001b[0;34m\u001b[0m\u001b[0m\n\u001b[0m\u001b[1;32m    152\u001b[0m             \u001b[0mapi_key\u001b[0m\u001b[0;34m,\u001b[0m \u001b[0mapi_base\u001b[0m\u001b[0;34m,\u001b[0m \u001b[0mapi_type\u001b[0m\u001b[0;34m,\u001b[0m \u001b[0mapi_version\u001b[0m\u001b[0;34m,\u001b[0m \u001b[0morganization\u001b[0m\u001b[0;34m,\u001b[0m \u001b[0;34m**\u001b[0m\u001b[0mparams\u001b[0m\u001b[0;34m\u001b[0m\u001b[0;34m\u001b[0m\u001b[0m\n\u001b[1;32m    153\u001b[0m         )\n",
      "\u001b[0;32m~/opt/anaconda3/lib/python3.9/site-packages/openai/api_resources/abstract/engine_api_resource.py\u001b[0m in \u001b[0;36m__prepare_create_request\u001b[0;34m(cls, api_key, api_base, api_type, api_version, organization, **params)\u001b[0m\n\u001b[1;32m    106\u001b[0m             \u001b[0mparams\u001b[0m\u001b[0;34m[\u001b[0m\u001b[0;34m\"timeout\"\u001b[0m\u001b[0;34m]\u001b[0m \u001b[0;34m=\u001b[0m \u001b[0mMAX_TIMEOUT\u001b[0m\u001b[0;34m\u001b[0m\u001b[0;34m\u001b[0m\u001b[0m\n\u001b[1;32m    107\u001b[0m \u001b[0;34m\u001b[0m\u001b[0m\n\u001b[0;32m--> 108\u001b[0;31m         requestor = api_requestor.APIRequestor(\n\u001b[0m\u001b[1;32m    109\u001b[0m             \u001b[0mapi_key\u001b[0m\u001b[0;34m,\u001b[0m\u001b[0;34m\u001b[0m\u001b[0;34m\u001b[0m\u001b[0m\n\u001b[1;32m    110\u001b[0m             \u001b[0mapi_base\u001b[0m\u001b[0;34m=\u001b[0m\u001b[0mapi_base\u001b[0m\u001b[0;34m,\u001b[0m\u001b[0;34m\u001b[0m\u001b[0;34m\u001b[0m\u001b[0m\n",
      "\u001b[0;32m~/opt/anaconda3/lib/python3.9/site-packages/openai/api_requestor.py\u001b[0m in \u001b[0;36m__init__\u001b[0;34m(self, key, api_base, api_type, api_version, organization)\u001b[0m\n\u001b[1;32m    137\u001b[0m     ):\n\u001b[1;32m    138\u001b[0m         \u001b[0mself\u001b[0m\u001b[0;34m.\u001b[0m\u001b[0mapi_base\u001b[0m \u001b[0;34m=\u001b[0m \u001b[0mapi_base\u001b[0m \u001b[0;32mor\u001b[0m \u001b[0mopenai\u001b[0m\u001b[0;34m.\u001b[0m\u001b[0mapi_base\u001b[0m\u001b[0;34m\u001b[0m\u001b[0;34m\u001b[0m\u001b[0m\n\u001b[0;32m--> 139\u001b[0;31m         \u001b[0mself\u001b[0m\u001b[0;34m.\u001b[0m\u001b[0mapi_key\u001b[0m \u001b[0;34m=\u001b[0m \u001b[0mkey\u001b[0m \u001b[0;32mor\u001b[0m \u001b[0mutil\u001b[0m\u001b[0;34m.\u001b[0m\u001b[0mdefault_api_key\u001b[0m\u001b[0;34m(\u001b[0m\u001b[0;34m)\u001b[0m\u001b[0;34m\u001b[0m\u001b[0;34m\u001b[0m\u001b[0m\n\u001b[0m\u001b[1;32m    140\u001b[0m         self.api_type = (\n\u001b[1;32m    141\u001b[0m             \u001b[0mApiType\u001b[0m\u001b[0;34m.\u001b[0m\u001b[0mfrom_str\u001b[0m\u001b[0;34m(\u001b[0m\u001b[0mapi_type\u001b[0m\u001b[0;34m)\u001b[0m\u001b[0;34m\u001b[0m\u001b[0;34m\u001b[0m\u001b[0m\n",
      "\u001b[0;32m~/opt/anaconda3/lib/python3.9/site-packages/openai/util.py\u001b[0m in \u001b[0;36mdefault_api_key\u001b[0;34m()\u001b[0m\n\u001b[1;32m    184\u001b[0m         \u001b[0;32mreturn\u001b[0m \u001b[0mopenai\u001b[0m\u001b[0;34m.\u001b[0m\u001b[0mapi_key\u001b[0m\u001b[0;34m\u001b[0m\u001b[0;34m\u001b[0m\u001b[0m\n\u001b[1;32m    185\u001b[0m     \u001b[0;32melse\u001b[0m\u001b[0;34m:\u001b[0m\u001b[0;34m\u001b[0m\u001b[0;34m\u001b[0m\u001b[0m\n\u001b[0;32m--> 186\u001b[0;31m         raise openai.error.AuthenticationError(\n\u001b[0m\u001b[1;32m    187\u001b[0m             \u001b[0;34m\"No API key provided. You can set your API key in code using 'openai.api_key = <API-KEY>', or you can set the environment variable OPENAI_API_KEY=<API-KEY>). If your API key is stored in a file, you can point the openai module at it with 'openai.api_key_path = <PATH>'. You can generate API keys in the OpenAI web interface. See https://platform.openai.com/account/api-keys for details.\"\u001b[0m\u001b[0;34m\u001b[0m\u001b[0;34m\u001b[0m\u001b[0m\n\u001b[1;32m    188\u001b[0m         )\n",
      "\u001b[0;31mAuthenticationError\u001b[0m: No API key provided. You can set your API key in code using 'openai.api_key = <API-KEY>', or you can set the environment variable OPENAI_API_KEY=<API-KEY>). If your API key is stored in a file, you can point the openai module at it with 'openai.api_key_path = <PATH>'. You can generate API keys in the OpenAI web interface. See https://platform.openai.com/account/api-keys for details."
     ]
    }
   ],
   "source": [
    "# Example use:\n",
    "question = \"What is the main topic of the document?\"\n",
    "answer = ask_question_about_document(text_content[:10000], question)\n",
    "print(f\"Answer: {answer}\")"
   ]
  },
  {
   "cell_type": "markdown",
   "id": "48b658bf",
   "metadata": {},
   "source": [
    "### gpt-3.5-turbo-16k can accomodate the full document but comes at a higher cost"
   ]
  },
  {
   "cell_type": "code",
   "execution_count": 45,
   "id": "15dc77ba",
   "metadata": {},
   "outputs": [],
   "source": [
    "def ask_question_about_document_16k(document, question):\n",
    "    messages = [\n",
    "        {\"role\": \"system\", \"content\": \"You are a helpful assistant.\"},\n",
    "        {\"role\": \"user\", \"content\": document},\n",
    "        {\"role\": \"user\", \"content\": question}\n",
    "    ]\n",
    "\n",
    "    response = openai.ChatCompletion.create(\n",
    "        model=\"gpt-3.5-turbo-16k\",\n",
    "        messages=messages\n",
    "    )\n",
    "    \n",
    "    return response.choices[0].message['content']\n"
   ]
  },
  {
   "cell_type": "code",
   "execution_count": 46,
   "id": "84855248",
   "metadata": {},
   "outputs": [
    {
     "name": "stdout",
     "output_type": "stream",
     "text": [
      "Answer: The main topic of the document is the general product specification for the EXAMAX2™ and EXAMEZZ2™ Connector System.\n"
     ]
    }
   ],
   "source": [
    "# Example use:\n",
    "question = \"What is the main topic of the document?\"\n",
    "answer = ask_question_about_document_16k(text_content, question)\n",
    "print(f\"Answer: {answer}\")"
   ]
  },
  {
   "cell_type": "code",
   "execution_count": 47,
   "id": "783e0544",
   "metadata": {},
   "outputs": [
    {
     "name": "stdout",
     "output_type": "stream",
     "text": [
      "Answer: ELX-V-47020 \n",
      "2023-11-12\n"
     ]
    }
   ],
   "source": [
    "# Example use:\n",
    "question = \"What are the last 100 characters of this document?\"\n",
    "answer = ask_question_about_document_16k(text_content, question)\n",
    "print(f\"Answer: {answer}\")"
   ]
  },
  {
   "cell_type": "code",
   "execution_count": 50,
   "id": "d302ff2a",
   "metadata": {},
   "outputs": [
    {
     "data": {
      "text/plain": [
       "25723"
      ]
     },
     "execution_count": 50,
     "metadata": {},
     "output_type": "execute_result"
    }
   ],
   "source": [
    "text_content.find('2023-11-12')"
   ]
  },
  {
   "cell_type": "markdown",
   "id": "14172acd",
   "metadata": {},
   "source": [
    "## Finding tables"
   ]
  },
  {
   "cell_type": "code",
   "execution_count": 53,
   "id": "65108554",
   "metadata": {},
   "outputs": [
    {
     "name": "stdout",
     "output_type": "stream",
     "text": [
      "Answer: The tables in the document provide information on the qualification testing and sample requirements for the EXAMAX2™ and EXAMEZZ2™ Connector System. \n",
      "\n",
      "Table 1: Qualification Test Matrix\n",
      "This table outlines the various tests that need to be conducted to qualify the connectors. Each test is categorized under different test groups, and the table specifies the relevant sections of the document that provide details about each test. It includes tests related to visual inspection, electrical characteristics, mechanical characteristics, environmental conditions, and more.\n",
      "\n",
      "Table 2: Qualification Sample Requirements\n",
      "This table specifies the number of connector samples required for each test group. It lists the quantity of RAR Connectors, RAR or RAH Center T-top/IMLAs, VH or RAOH Connectors, RAR LLCR Board, VH, RAH or RAOH LLCR Board, RAR or RAH Continuity or Mechanical Board, VH or RAOH Continuity or Mechanical Board, and more. The table outlines the sample size for each component and test group.\n"
     ]
    }
   ],
   "source": [
    "# Example use:\n",
    "question = \"There are tables of information in this document. What are they about?\"\n",
    "answer = ask_question_about_document_16k(text_content, question)\n",
    "print(f\"Answer: {answer}\")"
   ]
  },
  {
   "cell_type": "markdown",
   "id": "a4ecf9b6",
   "metadata": {},
   "source": [
    "## Finding Relevant Information"
   ]
  },
  {
   "cell_type": "code",
   "execution_count": 54,
   "id": "307f60f9",
   "metadata": {},
   "outputs": [
    {
     "name": "stdout",
     "output_type": "stream",
     "text": [
      "Answer: Supplier Name: AICC (Assumed based on the document header)\n",
      "\n",
      "Product Name: EXAMAX2™ and EXAMEZZ2™ Connector System\n",
      "\n",
      "Product Type: Connector System\n",
      "\n",
      "Dimensions: The document does not explicitly state the dimensions of the connector system.\n",
      "\n",
      "Orientation: The document mentions various orientations for different configurations, such as vertical header (VH), right angle receptacle (RAR), right angle orthogonal header (RAOH), and right angle header (RAH). Specific orientations may vary depending on the configuration.\n",
      "\n",
      "Current Rating: The document refers to AICC Power Design Guide GS-20-0456 for the current rating. This guide should provide the relevant information.\n",
      "\n",
      "Voltage: The document specifies the operating voltage rating as follows:\n",
      "- Agency Voltage Rating < 30 VAC RMS / DC\n",
      "- Non-Agency Voltage Rating = 150 VAC RMS or VDC Maximum\n",
      "\n",
      "Frequency: The document does not mention a specific frequency.\n",
      "\n",
      "Impedance / Capacitance: The document does not specify impedance or capacitance values.\n",
      "\n",
      "Temperatures: The document provides the following temperature ranges:\n",
      "- Operating Temperature Range = -55 to 85 degrees Celsius\n",
      "- High Temperature Life Test Temperature = 85 degrees Celsius\n",
      "- Thermal Shock Test Temperature Range = -55 to +85 degrees Celsius\n",
      "- Humidity Test Temperature Range = 25 to 65 degrees Celsius\n",
      "\n",
      "Please note that for specific technical details and performance requirements, it is recommended to consult the AICC Power Design Guide GS-20-0456 or other relevant documentation provided by the supplier.\n"
     ]
    }
   ],
   "source": [
    "# Example use:\n",
    "question = \"I'm looking for information in this document. Here is the information I'm looking for Supplier Name, Product Name, Product Type, Dimensions, Orientation, Current Rating, Voltage, Frequency, Impedance, Capacitance, Temperatures\"\n",
    "    \n",
    "\n",
    "answer = ask_question_about_document_16k(text_content, question)\n",
    "print(f\"Answer: {answer}\")"
   ]
  },
  {
   "cell_type": "markdown",
   "id": "6da16ba8",
   "metadata": {},
   "source": [
    "## Testing with multiple PDFs"
   ]
  },
  {
   "cell_type": "markdown",
   "id": "6a61c229",
   "metadata": {},
   "source": [
    "- vzh680m2atr-1313s.pdf\n",
    "- 151002387394-1222329.pdf\n",
    "- KGM15CR51E106K-DATA.pdf\n"
   ]
  },
  {
   "cell_type": "code",
   "execution_count": 55,
   "id": "94224176",
   "metadata": {},
   "outputs": [
    {
     "name": "stderr",
     "output_type": "stream",
     "text": [
      "The PDF <_io.BufferedReader name='KGM15CR51E106K-DATA.pdf'> contains a metadata field indicating that it should not allow text extraction. Ignoring this field and proceeding. Use the check_extractable if you want to raise an error in this case\n"
     ]
    }
   ],
   "source": [
    "text_content_pdf1 = extract_text_from_pdf('Vivi7/vzh680m2atr-1313s.pdf')\n",
    "text_content_pdf2 = extract_text_from_pdf('Vivi7/151002387394-1222329.pdf')\n",
    "text_content_pdf3 = extract_text_from_pdf('Vivi7/KGM15CR51E106K-DATA.pdf')"
   ]
  },
  {
   "cell_type": "markdown",
   "id": "887925c0",
   "metadata": {},
   "source": [
    "### PDF 1 (vzh680m2atr-1313s.pdf)"
   ]
  },
  {
   "cell_type": "code",
   "execution_count": 57,
   "id": "efd70e9b",
   "metadata": {},
   "outputs": [
    {
     "name": "stdout",
     "output_type": "stream",
     "text": [
      "Answer: Supplier Name: Lelon Electronics Corp.\n",
      "Product Name: VZH680M2ATR-1313S\n",
      "Product Type: Aluminum Electrolytic Capacitor\n",
      "Dimensions: φD = 12.5mm, L = 13.5mm\n",
      "Orientation: Not specified in the document\n",
      "Current Rating: 450mA\n",
      "Voltage: 100V\n",
      "Frequency: 50Hz, 60Hz, 120Hz, 1kHz, 10kHz and above\n",
      "Impedance / Capacitance: Z(-25℃)/Z(+20℃) = 2, Z(-55℃)/Z(+20℃) = 3\n",
      "Temperatures: -55℃ to +105℃ (Operating Temperature Range), -20% to +20% (Capacitance Tolerance), 105°C (Endurance Life Test), 105°C (Shelf Life Test)\n"
     ]
    }
   ],
   "source": [
    "# Example use:\n",
    "question = \"I'm looking for information in this documenter. Here is the information I'm looking for Supplier Name, Product Name, Product Type, Dimensions, Orientation, Current Rating, Voltage, Frequency, Impedance / Capacitance, Temperatures\"\n",
    "    \n",
    "\n",
    "answer = ask_question_about_document_16k(text_content_pdf1, question)\n",
    "print(f\"Answer: {answer}\")"
   ]
  },
  {
   "cell_type": "markdown",
   "id": "bdb441a0",
   "metadata": {},
   "source": [
    "### PDF 2 (151002387394-1222329.pdf)"
   ]
  },
  {
   "cell_type": "code",
   "execution_count": 58,
   "id": "d5dbb2da",
   "metadata": {},
   "outputs": [
    {
     "name": "stdout",
     "output_type": "stream",
     "text": [
      "Answer: Supplier Name: Lelon\n",
      "\n",
      "Product Name: SMD Aluminum Electrolytic Capacitors\n",
      "\n",
      "Product Type: VZH Series\n",
      "\n",
      "Dimensions: The dimensions are specified by the φD × L(mm) values, where φD denotes the diameter and L denotes the length of the capacitor.\n",
      "\n",
      "Orientation: The document does not specify the orientation of the capacitors.\n",
      "\n",
      "Current Rating: The current rating is specified by the Ripple Current values, given in mA/rms at 100k Hz, 105°C.\n",
      "\n",
      "Voltage: The voltage rating is specified by the Rated Voltage values, given in V DC.\n",
      "\n",
      "Frequency: Ripple Current and Frequency Multipliers are provided for different frequencies, including 50/60Hz, 120Hz, 1kHz, and 10kHz and above.\n",
      "\n",
      "Impedance/Capacitance: The impedance values are given in Ω at 100k Hz, 20°C. The capacitance values are given in μF.\n",
      "\n",
      "Temperatures: The capacitors are designed to operate in a temperature range of -55°C to +105°C. The document also specifies additional temperature characteristics, such as low-temperature characteristics and endurance at high temperatures.\n",
      "\n",
      "Please note that for specific values and more detailed information, you may need to refer to the tables provided in the document.\n"
     ]
    }
   ],
   "source": [
    "# Example use:\n",
    "question = \"I'm looking for information in this documenter. Here is the information I'm looking for Supplier Name, Product Name, Product Type, Dimensions, Orientation, Current Rating, Voltage, Frequency, Impedance / Capacitance, Temperatures\"\n",
    "    \n",
    "\n",
    "answer = ask_question_about_document_16k(text_content_pdf2, question)\n",
    "print(f\"Answer: {answer}\")"
   ]
  },
  {
   "cell_type": "markdown",
   "id": "9680fef7",
   "metadata": {},
   "source": [
    "### PDF 3 (KGM15CR51E106K-DATA.pdf)"
   ]
  },
  {
   "cell_type": "code",
   "execution_count": 59,
   "id": "41f623e1",
   "metadata": {},
   "outputs": [
    {
     "name": "stdout",
     "output_type": "stream",
     "text": [
      "Answer: Based on the data provided, here is the information you are looking for:\n",
      "\n",
      "Supplier Name: Not provided\n",
      "Product Name: KGM15CR51E106K (also known as CM105X5R106K25A)\n",
      "Product Type: Capacitor\n",
      "Dimensions: 0603 / 1608 (JIS)\n",
      "Orientation: Not mentioned\n",
      "Current Rating: Not mentioned\n",
      "Voltage: 25V\n",
      "Frequency: Not mentioned\n",
      "Impedance: Not mentioned\n",
      "Capacitance: 10μF\n",
      "Temperatures: -55 to 85 degrees Celsius (temperature range), +/-10% (tolerance)\n",
      "\n",
      "Unfortunately, some information you are looking for, such as current rating, frequency, impedance is not provided in the given data.\n"
     ]
    }
   ],
   "source": [
    "# Example use:\n",
    "question = \"I'm looking for information in this documenter. Here is the information I'm looking for Supplier Name, Product Name, Product Type, Dimensions, Orientation, Current Rating, Voltage, Frequency, Impedance / Capacitance, Temperatures\"\n",
    "    \n",
    "\n",
    "answer = ask_question_about_document_16k(text_content_pdf3, question)\n",
    "print(f\"Answer: {answer}\")"
   ]
  },
  {
   "cell_type": "code",
   "execution_count": null,
   "id": "c73d1234",
   "metadata": {},
   "outputs": [],
   "source": []
  }
 ],
 "metadata": {
  "kernelspec": {
   "display_name": "Python 3 (ipykernel)",
   "language": "python",
   "name": "python3"
  },
  "language_info": {
   "codemirror_mode": {
    "name": "ipython",
    "version": 3
   },
   "file_extension": ".py",
   "mimetype": "text/x-python",
   "name": "python",
   "nbconvert_exporter": "python",
   "pygments_lexer": "ipython3",
   "version": "3.9.13"
  }
 },
 "nbformat": 4,
 "nbformat_minor": 5
}
